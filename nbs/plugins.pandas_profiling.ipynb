{
 "cells": [
  {
   "cell_type": "markdown",
   "id": "9982e62d",
   "metadata": {},
   "source": [
    "# Pandas Profiling\n",
    "\n",
    "> A [Pandas Profiling](https://github.com/ydataai/pandas-profiling) plugin."
   ]
  },
  {
   "cell_type": "markdown",
   "id": "b26edde4",
   "metadata": {},
   "source": [
    "`PandasProfilingPlugin` concatenates features and target(s) and builds an EDA report. If `WandBPlugin` is included alongside this plugin, the report will also be logged to the Weights and Biases project."
   ]
  },
  {
   "cell_type": "code",
   "execution_count": null,
   "id": "15d952ef",
   "metadata": {},
   "outputs": [],
   "source": [
    "# | default_exp plugins.pandas_profiling"
   ]
  },
  {
   "cell_type": "code",
   "execution_count": null,
   "id": "75b3589e",
   "metadata": {},
   "outputs": [],
   "source": [
    "# | hide\n",
    "\n",
    "\n",
    "from nbdev.showdoc import *"
   ]
  },
  {
   "cell_type": "code",
   "execution_count": null,
   "id": "694f538f",
   "metadata": {},
   "outputs": [],
   "source": [
    "# | export\n",
    "\n",
    "\n",
    "import warnings\n",
    "from typing import Union\n",
    "from pathlib import Path\n",
    "\n",
    "import pandas as pd\n",
    "import numpy as np\n",
    "from pandas_profiling import ProfileReport\n",
    "\n",
    "from poniard.plugins.core import BasePlugin"
   ]
  },
  {
   "cell_type": "code",
   "execution_count": null,
   "id": "e60a118c",
   "metadata": {},
   "outputs": [],
   "source": [
    "# | export\n",
    "\n",
    "\n",
    "class PandasProfilingPlugin(BasePlugin):\n",
    "    \"\"\"Pandas Profiling plugin. Kwargs from the constructor are passed to `ProfileReport()`.\n",
    "\n",
    "    Parameters\n",
    "    ----------\n",
    "    title :\n",
    "        Report title.\n",
    "    explorative :\n",
    "        Enable explorative mode. Default False.\n",
    "    minimal :\n",
    "        Enable minimal mode. Default True.\n",
    "    html_path :\n",
    "        Path where the HTML report will be saved. Default is the title of the report.\n",
    "    \"\"\"\n",
    "\n",
    "    def __init__(\n",
    "        self,\n",
    "        title: str = \"pandas_profiling_report\",\n",
    "        explorative: bool = False,\n",
    "        minimal: bool = True,\n",
    "        html_path: Union[str, Path] = None,\n",
    "        **kwargs\n",
    "    ):\n",
    "        self.title = title\n",
    "        self.explorative = explorative\n",
    "        self.minimal = minimal\n",
    "        self.html_path = html_path or Path(self.title + \".html\")\n",
    "        self.kwargs = kwargs or {}\n",
    "\n",
    "    def on_setup_data(self) -> None:\n",
    "        \"\"\"Create Pandas Profiling HTML report.\"\"\"\n",
    "        X, y = self._poniard.X, self._poniard.y\n",
    "        try:\n",
    "            dataset = pd.concat([X, y], axis=1)\n",
    "        except TypeError:\n",
    "            dataset = np.column_stack([X, y])\n",
    "            dataset = pd.DataFrame(dataset)\n",
    "        self.report = ProfileReport(\n",
    "            df=dataset,\n",
    "            minimal=self.minimal,\n",
    "            explorative=self.explorative,\n",
    "            **self.kwargs\n",
    "        )\n",
    "        self.report.to_file(self.html_path)\n",
    "        self._log_to_wandb_if_available()\n",
    "        try:\n",
    "            import ipywidgets\n",
    "\n",
    "            self.report.to_notebook_iframe()\n",
    "        except ImportError:\n",
    "            warnings.warn(\n",
    "                \"ipywidgets is not installed. HTML report will be saved to {}\".format(\n",
    "                    self.html_path\n",
    "                )\n",
    "            )\n",
    "        return\n",
    "\n",
    "    def _log_to_wandb_if_available(self):\n",
    "        wandb_plugin = self._check_plugin_used(\"WandBPlugin\")\n",
    "        if wandb_plugin:\n",
    "            import wandb\n",
    "\n",
    "            with open(self.html_path) as report:\n",
    "                artifact = wandb.Artifact(name=\"pandas_profiling_report\", type=\"html\")\n",
    "                artifact.add(wandb.Html(report), \"Pandas Profiling Report\")\n",
    "                wandb_plugin.run.log_artifact(artifact)\n",
    "        return"
   ]
  },
  {
   "cell_type": "code",
   "execution_count": null,
   "id": "8b7941b8",
   "metadata": {},
   "outputs": [
    {
     "data": {
      "text/markdown": [
       "---\n",
       "\n",
       "### PandasProfilingPlugin.on_setup_data\n",
       "\n",
       ">      PandasProfilingPlugin.on_setup_data ()\n",
       "\n",
       "Create Pandas Profiling HTML report."
      ],
      "text/plain": [
       "---\n",
       "\n",
       "### PandasProfilingPlugin.on_setup_data\n",
       "\n",
       ">      PandasProfilingPlugin.on_setup_data ()\n",
       "\n",
       "Create Pandas Profiling HTML report."
      ]
     },
     "execution_count": null,
     "metadata": {},
     "output_type": "execute_result"
    }
   ],
   "source": [
    "show_doc(PandasProfilingPlugin.on_setup_data)"
   ]
  },
  {
   "cell_type": "code",
   "execution_count": null,
   "id": "b2fdd91a",
   "metadata": {},
   "outputs": [],
   "source": [
    "# | hide\n",
    "import nbdev\n",
    "\n",
    "nbdev.nbdev_export()"
   ]
  }
 ],
 "metadata": {
  "kernelspec": {
   "display_name": "poniard",
   "language": "python",
   "name": "poniard"
  }
 },
 "nbformat": 4,
 "nbformat_minor": 5
}
