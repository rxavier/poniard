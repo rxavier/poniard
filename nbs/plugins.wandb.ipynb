{
 "cells": [
  {
   "cell_type": "markdown",
   "id": "9982e62d",
   "metadata": {},
   "source": [
    "# Weights and Biases\n",
    "\n",
    "> A plugin that handles logging to a [Weights and Biases](https://wandb.ai/site) project."
   ]
  },
  {
   "cell_type": "markdown",
   "id": "09ed3367",
   "metadata": {},
   "source": [
    "`WandBPlugin` logs data and training information to a Weights and Biases project, making it easy to keep track of preprocessing strategies and models, as well as creating experiment reports."
   ]
  },
  {
   "cell_type": "code",
   "execution_count": null,
   "id": "15d952ef",
   "metadata": {},
   "outputs": [],
   "source": [
    "# | default_exp plugins.wandb"
   ]
  },
  {
   "cell_type": "code",
   "execution_count": null,
   "id": "75b3589e",
   "metadata": {},
   "outputs": [],
   "source": [
    "# | hide\n",
    "\n",
    "\n",
    "from nbdev.showdoc import *"
   ]
  },
  {
   "cell_type": "code",
   "execution_count": null,
   "id": "694f538f",
   "metadata": {},
   "outputs": [],
   "source": [
    "# | export\n",
    "\n",
    "\n",
    "from typing import Optional\n",
    "from pathlib import Path\n",
    "\n",
    "import wandb\n",
    "import joblib\n",
    "import pandas as pd\n",
    "import numpy as np\n",
    "from plotly.graph_objs._figure import Figure\n",
    "from sklearn.base import BaseEstimator\n",
    "from sklearn.utils.validation import check_is_fitted\n",
    "from sklearn.exceptions import NotFittedError\n",
    "from sklearn.pipeline import Pipeline\n",
    "\n",
    "from poniard.plugins.core import BasePlugin"
   ]
  },
  {
   "cell_type": "code",
   "execution_count": null,
   "id": "e60a118c",
   "metadata": {},
   "outputs": [],
   "source": [
    "# | export\n",
    "\n",
    "\n",
    "class WandBPlugin(BasePlugin):\n",
    "    \"\"\"Weights and Biases plugin. Kwargs from the constructor are passed to `wandb.init()`.\n",
    "\n",
    "    Parameters\n",
    "    ----------\n",
    "    project :\n",
    "        Name of the Weights and Biases project.\n",
    "    entity :\n",
    "        Name of the Weights and Biases entity (username).\n",
    "    \"\"\"\n",
    "\n",
    "    def __init__(\n",
    "        self, project: Optional[str] = None, entity: Optional[str] = None, **kwargs\n",
    "    ):\n",
    "        super().__init__()\n",
    "        self.project = project\n",
    "        self.entity = entity\n",
    "        self.run = wandb.init(project=project, entity=entity, **kwargs)\n",
    "\n",
    "    def build_config(self) -> dict:\n",
    "        \"\"\"Helper method that builds a config dict from the poniard instance.\"\"\"\n",
    "        try:\n",
    "            estimators = list(self._poniard.estimators.values())\n",
    "        except AttributeError:\n",
    "            estimators = [\n",
    "                x.__class__.__name__ for x in self._poniard._default_estimators\n",
    "            ]\n",
    "        return {\n",
    "            \"estimators\": estimators,\n",
    "            \"metrics\": self._poniard.metrics,\n",
    "            \"cv\": self._poniard.cv,\n",
    "            \"preprocess\": self._poniard.preprocess,\n",
    "            \"preprocessor\": self._poniard.preprocessor,\n",
    "            \"custom_preprocessor\": self._poniard.custom_preprocessor,\n",
    "            \"numeric_imputer\": self._poniard.numeric_imputer,\n",
    "            \"scaler\": self._poniard.scaler,\n",
    "            \"numeric_threshold\": self._poniard.numeric_threshold,\n",
    "            \"cardinality_threshold\": self._poniard.cardinality_threshold,\n",
    "            \"high_cardinality_encoder\": self._poniard.high_cardinality_encoder,\n",
    "            \"verbosity\": self._poniard.verbose,\n",
    "            \"n_jobs\": self._poniard.n_jobs,\n",
    "            \"random_state\": self._poniard.random_state,\n",
    "        }\n",
    "\n",
    "    def on_setup_end(self) -> None:\n",
    "        \"\"\"Log WandB config that contains the parameters passed\n",
    "        to the Poniard estimator constructor.\"\"\"\n",
    "        config = self.build_config()\n",
    "        wandb.config.update(config)\n",
    "        return\n",
    "\n",
    "    def on_setup_data(self) -> None:\n",
    "        \"\"\"Log features and target(s) as a single dataset artifact.\"\"\"\n",
    "        X, y = self._poniard.X, self._poniard.y\n",
    "        try:\n",
    "            dataset = pd.concat([X, y], axis=1)\n",
    "        except TypeError:\n",
    "            dataset = np.column_stack([X, y])\n",
    "            dataset = pd.DataFrame(dataset)\n",
    "        table = wandb.Table(dataframe=dataset)\n",
    "        artifact = wandb.Artifact(name=\"dataset\", type=\"dataset\")\n",
    "        artifact.add(table, \"Dataset\")\n",
    "        wandb.log_artifact(artifact)\n",
    "        return\n",
    "\n",
    "    def on_infer_types(self):\n",
    "        \"\"\"Log the inferred types dataframe as a table.\"\"\"\n",
    "        table = wandb.Table(dataframe=self._poniard.inferred_types)\n",
    "        wandb.log({\"Inferred types\": table})\n",
    "        return\n",
    "\n",
    "    def on_setup_preprocessor(self) -> None:\n",
    "        \"\"\"Log the preprocessor's HTML repr.\"\"\"\n",
    "        wandb.log(\n",
    "            {\"Preprocessor\": wandb.Html(self._poniard.preprocessor._repr_html_())}\n",
    "        )\n",
    "        return\n",
    "\n",
    "    def on_plot(self, figure: Figure, name: str):\n",
    "        \"\"\"Log a Plotly plot.\"\"\"\n",
    "        wandb.log({name: figure})\n",
    "        return\n",
    "\n",
    "    def on_fit_end(self):\n",
    "        \"\"\"Log the results dataframe as a table.\"\"\"\n",
    "        results = self._poniard.get_results().reset_index()\n",
    "        results.rename(columns={\"index\": \"Estimator\"}, inplace=True)\n",
    "        table = wandb.Table(dataframe=results)\n",
    "        wandb.log({\"Results\": table})\n",
    "        for test_metric in results.columns[results.columns.str.startswith(\"test_\")]:\n",
    "            aux_table = wandb.Table(dataframe=results[[\"Estimator\", test_metric]])\n",
    "            wandb.log(\n",
    "                {\n",
    "                    f\"{test_metric} plot\": wandb.plot.bar(\n",
    "                        aux_table, label=\"Estimator\", value=test_metric\n",
    "                    )\n",
    "                }\n",
    "            )\n",
    "        return\n",
    "\n",
    "    def on_get_estimator(self, estimator: BaseEstimator, name: str):\n",
    "        \"\"\"Log fitted estimator as an artifact.\"\"\"\n",
    "        X, y = self._poniard.X, self._poniard.y\n",
    "        saved_model_path = Path(wandb.run.dir, f\"{name}.joblib\")\n",
    "        (\n",
    "            X_train,\n",
    "            X_test,\n",
    "            y_train,\n",
    "            y_test,\n",
    "        ) = self._poniard._train_test_split_from_cv()\n",
    "        estimator.fit(X_train, y_train)\n",
    "        joblib.dump(estimator, saved_model_path)\n",
    "        artifact = wandb.Artifact(name=f\"saved_estimators\", type=\"model\")\n",
    "        artifact.add_file(saved_model_path.as_posix(), name=name)\n",
    "        wandb.log_artifact(artifact)\n",
    "\n",
    "        wandb.log({f\"{name} pipeline\": wandb.Html(estimator._repr_html_())})\n",
    "\n",
    "        # Wandb complains about missing and non-numeric features despite the estimator\n",
    "        # having everything to deal with them, so we comment out each function that takes X.\n",
    "        # y_pred = estimator.predict(X_test)\n",
    "        # estimator_type = self._poniard.poniard_task\n",
    "        # if estimator_type == \"classification\":\n",
    "        #     labels = np.unique(y_test)\n",
    "        #     wandb.sklearn.plot_confusion_matrix(y_test, y_pred, labels)\n",
    "        #     if hasattr(estimator, \"predict_proba\"):\n",
    "        #         y_probas = estimator.predict_proba(X_test)\n",
    "        #         wandb.sklearn.plot_roc(y_test, y_probas, labels)\n",
    "        #         wandb.sklearn.plot_precision_recall(y_test, y_probas, labels)\n",
    "\n",
    "        # wandb.sklearn.plot_learning_curve(estimator, X_train, y_train)\n",
    "        # wandb.sklearn.plot_calibration_curve(estimator, X_train, y_train, name)\n",
    "\n",
    "        # Remove temporarily so we can figure out how to get column names.\n",
    "        # if isinstance(estimator, Pipeline):\n",
    "        #     estimator = estimator[-1]\n",
    "        # wandb.sklearn.plot_feature_importances(estimator, pd.DataFrame(X).columns)\n",
    "        # else:\n",
    "        # wandb.sklearn.plot_residuals(estimator, X_train, y_train)\n",
    "        # wandb.sklearn.plot_outlier_candidates(estimator, X_train, y_train)\n",
    "        return\n",
    "\n",
    "    def on_remove_estimators(self):\n",
    "        \"\"\"Log config and results table.\"\"\"\n",
    "        if hasattr(self._poniard, \"_means\"):\n",
    "            self.on_fit_end()\n",
    "        self.on_setup_end()\n",
    "        return\n",
    "\n",
    "    def on_add_estimators(self):\n",
    "        \"\"\"Rerun logging at setup end.\"\"\"\n",
    "        self.on_setup_end()\n",
    "        return\n",
    "\n",
    "    def on_add_preprocessing_step(self):\n",
    "        \"\"\"Rerun logging at setup end.\"\"\"\n",
    "        self.on_setup_end()\n",
    "        self.on_setup_preprocessor()\n",
    "        return\n",
    "\n",
    "    def on_reassign_types(self):\n",
    "        \"\"\"Rerun logging at setup end.\"\"\"\n",
    "        self.on_setup_end()\n",
    "        self.on_setup_preprocessor()\n",
    "        return"
   ]
  },
  {
   "cell_type": "code",
   "execution_count": null,
   "id": "4d147068",
   "metadata": {},
   "outputs": [
    {
     "data": {
      "text/markdown": [
       "---\n",
       "\n",
       "[source](https://github.com/rxavier/poniard/blob/master/poniard/plugins/wandb.py#L74){target=\"_blank\" style=\"float:right; font-size:smaller\"}\n",
       "\n",
       "### WandBPlugin.on_setup_data\n",
       "\n",
       ">      WandBPlugin.on_setup_data ()\n",
       "\n",
       "Log features and target(s) as a single dataset artifact."
      ],
      "text/plain": [
       "---\n",
       "\n",
       "[source](https://github.com/rxavier/poniard/blob/master/poniard/plugins/wandb.py#L74){target=\"_blank\" style=\"float:right; font-size:smaller\"}\n",
       "\n",
       "### WandBPlugin.on_setup_data\n",
       "\n",
       ">      WandBPlugin.on_setup_data ()\n",
       "\n",
       "Log features and target(s) as a single dataset artifact."
      ]
     },
     "execution_count": null,
     "metadata": {},
     "output_type": "execute_result"
    }
   ],
   "source": [
    "show_doc(WandBPlugin.on_setup_data)"
   ]
  },
  {
   "cell_type": "code",
   "execution_count": null,
   "id": "89386af9",
   "metadata": {},
   "outputs": [
    {
     "data": {
      "text/markdown": [
       "---\n",
       "\n",
       "[source](https://github.com/rxavier/poniard/blob/master/poniard/plugins/wandb.py#L67){target=\"_blank\" style=\"float:right; font-size:smaller\"}\n",
       "\n",
       "### WandBPlugin.on_setup_end\n",
       "\n",
       ">      WandBPlugin.on_setup_end ()\n",
       "\n",
       "Log WandB config that contains the parameters passed\n",
       "to the Poniard estimator constructor."
      ],
      "text/plain": [
       "---\n",
       "\n",
       "[source](https://github.com/rxavier/poniard/blob/master/poniard/plugins/wandb.py#L67){target=\"_blank\" style=\"float:right; font-size:smaller\"}\n",
       "\n",
       "### WandBPlugin.on_setup_end\n",
       "\n",
       ">      WandBPlugin.on_setup_end ()\n",
       "\n",
       "Log WandB config that contains the parameters passed\n",
       "to the Poniard estimator constructor."
      ]
     },
     "execution_count": null,
     "metadata": {},
     "output_type": "execute_result"
    }
   ],
   "source": [
    "show_doc(WandBPlugin.on_setup_end)"
   ]
  },
  {
   "cell_type": "code",
   "execution_count": null,
   "id": "3e738f53",
   "metadata": {},
   "outputs": [
    {
     "data": {
      "text/markdown": [
       "---\n",
       "\n",
       "[source](https://github.com/rxavier/poniard/blob/master/poniard/plugins/wandb.py#L88){target=\"_blank\" style=\"float:right; font-size:smaller\"}\n",
       "\n",
       "### WandBPlugin.on_infer_types\n",
       "\n",
       ">      WandBPlugin.on_infer_types ()\n",
       "\n",
       "Log the inferred types dataframe as a table."
      ],
      "text/plain": [
       "---\n",
       "\n",
       "[source](https://github.com/rxavier/poniard/blob/master/poniard/plugins/wandb.py#L88){target=\"_blank\" style=\"float:right; font-size:smaller\"}\n",
       "\n",
       "### WandBPlugin.on_infer_types\n",
       "\n",
       ">      WandBPlugin.on_infer_types ()\n",
       "\n",
       "Log the inferred types dataframe as a table."
      ]
     },
     "execution_count": null,
     "metadata": {},
     "output_type": "execute_result"
    }
   ],
   "source": [
    "show_doc(WandBPlugin.on_infer_types)"
   ]
  },
  {
   "cell_type": "code",
   "execution_count": null,
   "id": "bb4d1c55",
   "metadata": {},
   "outputs": [
    {
     "data": {
      "text/markdown": [
       "---\n",
       "\n",
       "[source](https://github.com/rxavier/poniard/blob/master/poniard/plugins/wandb.py#L94){target=\"_blank\" style=\"float:right; font-size:smaller\"}\n",
       "\n",
       "### WandBPlugin.on_setup_preprocessor\n",
       "\n",
       ">      WandBPlugin.on_setup_preprocessor ()\n",
       "\n",
       "Log the preprocessor's HTML repr."
      ],
      "text/plain": [
       "---\n",
       "\n",
       "[source](https://github.com/rxavier/poniard/blob/master/poniard/plugins/wandb.py#L94){target=\"_blank\" style=\"float:right; font-size:smaller\"}\n",
       "\n",
       "### WandBPlugin.on_setup_preprocessor\n",
       "\n",
       ">      WandBPlugin.on_setup_preprocessor ()\n",
       "\n",
       "Log the preprocessor's HTML repr."
      ]
     },
     "execution_count": null,
     "metadata": {},
     "output_type": "execute_result"
    }
   ],
   "source": [
    "show_doc(WandBPlugin.on_setup_preprocessor)"
   ]
  },
  {
   "cell_type": "code",
   "execution_count": null,
   "id": "581dcc6f",
   "metadata": {},
   "outputs": [
    {
     "data": {
      "text/markdown": [
       "---\n",
       "\n",
       "[source](https://github.com/rxavier/poniard/blob/master/poniard/plugins/wandb.py#L101){target=\"_blank\" style=\"float:right; font-size:smaller\"}\n",
       "\n",
       "### WandBPlugin.on_plot\n",
       "\n",
       ">      WandBPlugin.on_plot (figure:plotly.graph_objs._figure.Figure, name:str)\n",
       "\n",
       "Log a Plotly plot."
      ],
      "text/plain": [
       "---\n",
       "\n",
       "[source](https://github.com/rxavier/poniard/blob/master/poniard/plugins/wandb.py#L101){target=\"_blank\" style=\"float:right; font-size:smaller\"}\n",
       "\n",
       "### WandBPlugin.on_plot\n",
       "\n",
       ">      WandBPlugin.on_plot (figure:plotly.graph_objs._figure.Figure, name:str)\n",
       "\n",
       "Log a Plotly plot."
      ]
     },
     "execution_count": null,
     "metadata": {},
     "output_type": "execute_result"
    }
   ],
   "source": [
    "show_doc(WandBPlugin.on_plot)"
   ]
  },
  {
   "cell_type": "code",
   "execution_count": null,
   "id": "c3207999",
   "metadata": {},
   "outputs": [
    {
     "data": {
      "text/markdown": [
       "---\n",
       "\n",
       "[source](https://github.com/rxavier/poniard/blob/master/poniard/plugins/wandb.py#L106){target=\"_blank\" style=\"float:right; font-size:smaller\"}\n",
       "\n",
       "### WandBPlugin.on_fit_end\n",
       "\n",
       ">      WandBPlugin.on_fit_end ()\n",
       "\n",
       "Log the results dataframe as a table."
      ],
      "text/plain": [
       "---\n",
       "\n",
       "[source](https://github.com/rxavier/poniard/blob/master/poniard/plugins/wandb.py#L106){target=\"_blank\" style=\"float:right; font-size:smaller\"}\n",
       "\n",
       "### WandBPlugin.on_fit_end\n",
       "\n",
       ">      WandBPlugin.on_fit_end ()\n",
       "\n",
       "Log the results dataframe as a table."
      ]
     },
     "execution_count": null,
     "metadata": {},
     "output_type": "execute_result"
    }
   ],
   "source": [
    "show_doc(WandBPlugin.on_fit_end)"
   ]
  },
  {
   "cell_type": "code",
   "execution_count": null,
   "id": "3ed8984f",
   "metadata": {},
   "outputs": [
    {
     "data": {
      "text/markdown": [
       "---\n",
       "\n",
       "[source](https://github.com/rxavier/poniard/blob/master/poniard/plugins/wandb.py#L123){target=\"_blank\" style=\"float:right; font-size:smaller\"}\n",
       "\n",
       "### WandBPlugin.on_get_estimator\n",
       "\n",
       ">      WandBPlugin.on_get_estimator (estimator:sklearn.base.BaseEstimator,\n",
       ">                                    name:str)\n",
       "\n",
       "Log fitted estimator as an artifact."
      ],
      "text/plain": [
       "---\n",
       "\n",
       "[source](https://github.com/rxavier/poniard/blob/master/poniard/plugins/wandb.py#L123){target=\"_blank\" style=\"float:right; font-size:smaller\"}\n",
       "\n",
       "### WandBPlugin.on_get_estimator\n",
       "\n",
       ">      WandBPlugin.on_get_estimator (estimator:sklearn.base.BaseEstimator,\n",
       ">                                    name:str)\n",
       "\n",
       "Log fitted estimator as an artifact."
      ]
     },
     "execution_count": null,
     "metadata": {},
     "output_type": "execute_result"
    }
   ],
   "source": [
    "show_doc(WandBPlugin.on_get_estimator)"
   ]
  },
  {
   "cell_type": "code",
   "execution_count": null,
   "id": "b2fdd91a",
   "metadata": {},
   "outputs": [],
   "source": [
    "# | hide\n",
    "import nbdev\n",
    "\n",
    "nbdev.nbdev_export()"
   ]
  }
 ],
 "metadata": {
  "kernelspec": {
   "display_name": "poniard",
   "language": "python",
   "name": "poniard"
  }
 },
 "nbformat": 4,
 "nbformat_minor": 5
}
