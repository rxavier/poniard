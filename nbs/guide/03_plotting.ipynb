{
 "cells": [
  {
   "cell_type": "markdown",
   "id": "91a596c0",
   "metadata": {},
   "source": [
    "# Plotting\n",
    "\n",
    "> Placeholder"
   ]
  },
  {
   "cell_type": "code",
   "execution_count": null,
   "id": "fe65d534",
   "metadata": {},
   "outputs": [],
   "source": []
  }
 ],
 "metadata": {
  "kernelspec": {
   "display_name": "poniard",
   "language": "python",
   "name": "poniard"
  }
 },
 "nbformat": 4,
 "nbformat_minor": 5
}
