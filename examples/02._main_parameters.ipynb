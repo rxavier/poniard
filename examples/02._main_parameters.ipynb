{
 "cells": [
  {
   "cell_type": "markdown",
   "metadata": {},
   "source": [
    "# Main parameters\n",
    "\n",
    "[![Open In Colab](https://colab.research.google.com/assets/colab-badge.svg)](https://colab.research.google.com/github/rxavier/poniard/blob/master/examples/02._main_parameters.ipynb)\n",
    "\n",
    "This notebook outlines the most relevant options for Poniard estimators.\n",
    "\n",
    "If you don't have it installed, please install from PyPI."
   ]
  },
  {
   "cell_type": "code",
   "execution_count": 1,
   "metadata": {},
   "outputs": [],
   "source": [
    "# %pip install poniard"
   ]
  },
  {
   "cell_type": "markdown",
   "metadata": {},
   "source": [
    "At the core of Poniard lie the choice of estimators, metrics and CV strategy. While defaults might work for most cases, we try to keep it flexible."
   ]
  },
  {
   "cell_type": "markdown",
   "metadata": {},
   "source": [
    "## `estimators`\n",
    "\n",
    "Estimators can be passed as a dict of `estimator_name: estimator_instance` or as a list of `estimator_instance`. In the latter, names will be obtained directly from the class.\n",
    "\n",
    "Using a dictionary allows passing multiple instances of the same estimator with different hyperparameters."
   ]
  },
  {
   "cell_type": "code",
   "execution_count": 2,
   "metadata": {},
   "outputs": [
    {
     "name": "stdout",
     "output_type": "stream",
     "text": [
      "Main metric: roc_auc_ovr\n",
      "Minimum unique values to consider a number feature numeric: 10\n",
      "Minimum unique values to consider a non-number feature high cardinality: 20\n",
      "\n",
      "Inferred feature types:\n",
      "    numeric categorical_high categorical_low datetime\n",
      "0       0.0                                          \n",
      "1       1.0                                          \n",
      "2       2.0                                          \n",
      "3       3.0                                          \n",
      "4       4.0                                          \n",
      "5       5.0                                          \n",
      "6       6.0                                          \n",
      "7       7.0                                          \n",
      "8       8.0                                          \n",
      "9       9.0                                          \n",
      "10     10.0                                          \n",
      "11     11.0                                          \n",
      "12     12.0                                          \n",
      "13     13.0                                          \n",
      "14     14.0                                          \n",
      "15     15.0                                          \n",
      "16     16.0                                          \n",
      "17     17.0                                          \n",
      "18     18.0                                          \n",
      "19     19.0                                          \n"
     ]
    },
    {
     "name": "stderr",
     "output_type": "stream",
     "text": [
      "Completed: 100%|██████████| 4/4 [00:00<00:00, 34.16it/s]\n"
     ]
    },
    {
     "data": {
      "text/plain": [
       "PoniardClassifier(estimators={'lr': LogisticRegression(max_iter=1000, random_state=0), 'lr_no_penalty': LogisticRegression(max_iter=1000, penalty='none', random_state=0), 'lda': LinearDiscriminantAnalysis()}, metrics=None,\n",
       "    preprocess=True, scaler=standard, numeric_imputer=simple,\n",
       "    custom_preprocessor=None, numeric_threshold=0.1,\n",
       "    cardinality_threshold=20, cv=None, verbose=0,\n",
       "    random_state=0, n_jobs=None, plugins=None,\n",
       "    plot_options=PoniardPlotFactory())\n",
       "            "
      ]
     },
     "execution_count": 2,
     "metadata": {},
     "output_type": "execute_result"
    }
   ],
   "source": [
    "from sklearn.datasets import make_classification\n",
    "from sklearn.linear_model import LogisticRegression\n",
    "from sklearn.discriminant_analysis import LinearDiscriminantAnalysis\n",
    "from poniard import PoniardClassifier\n",
    "\n",
    "X, y = make_classification(n_classes=3, n_informative=3)\n",
    "pnd = PoniardClassifier(estimators={\"lr\": LogisticRegression(max_iter=1000),\n",
    "                                    \"lr_no_penalty\": LogisticRegression(max_iter=1000, penalty=\"none\"),\n",
    "                                    \"lda\": LinearDiscriminantAnalysis()})\n",
    "pnd.setup(X, y)\n",
    "pnd.fit()"
   ]
  },
  {
   "cell_type": "markdown",
   "metadata": {},
   "source": [
    "Since we are in scikit-learn-land, most of the stuff you expect to work still works. For example, multilabel classification.\n",
    "\n",
    "Here we had to use a dictionary because `estimator.__class__.__name__`, which is used for assigning a name to each estimator when a list is passed, would be the same for both `MultiOutputClassifier` and they would be overwritten."
   ]
  },
  {
   "cell_type": "code",
   "execution_count": 3,
   "metadata": {},
   "outputs": [
    {
     "name": "stderr",
     "output_type": "stream",
     "text": [
      "/Users/rafxavier/Documents/Repos/personal/poniard/poniard/estimators/core.py:469: UserWarning: TargetEncoder is not supported for multilabel or multioutput targets. Switching to OrdinalEncoder.\n",
      "  self.preprocessor_ = self._build_preprocessor()\n"
     ]
    },
    {
     "name": "stdout",
     "output_type": "stream",
     "text": [
      "Main metric: accuracy\n",
      "Minimum unique values to consider a number feature numeric: 10\n",
      "Minimum unique values to consider a non-number feature high cardinality: 20\n",
      "\n",
      "Inferred feature types:\n",
      "   numeric categorical_high  categorical_low datetime\n",
      "0                                        0.0         \n",
      "1                                        1.0         \n",
      "2                                        2.0         \n",
      "3                                        3.0         \n",
      "4                                        4.0         \n",
      "5                                        5.0         \n",
      "6                                        6.0         \n",
      "7                                        7.0         \n",
      "8                                        8.0         \n",
      "9                                        9.0         \n",
      "10                                      10.0         \n",
      "11                                      11.0         \n",
      "12                                      12.0         \n",
      "13                                      13.0         \n",
      "14                                      14.0         \n",
      "15                                      15.0         \n",
      "16                                      16.0         \n",
      "17                                      17.0         \n",
      "18                                      18.0         \n",
      "19                                      19.0         \n"
     ]
    },
    {
     "name": "stderr",
     "output_type": "stream",
     "text": [
      "Completed: 100%|██████████| 3/3 [00:01<00:00,  2.05it/s]      \n"
     ]
    },
    {
     "data": {
      "text/plain": [
       "PoniardClassifier(estimators={'rf': MultiOutputClassifier(estimator=RandomForestClassifier()), 'nb': MultiOutputClassifier(estimator=RidgeClassifier())}, metrics=None,\n",
       "    preprocess=True, scaler=standard, numeric_imputer=simple,\n",
       "    custom_preprocessor=None, numeric_threshold=0.1,\n",
       "    cardinality_threshold=20, cv=None, verbose=0,\n",
       "    random_state=0, n_jobs=None, plugins=None,\n",
       "    plot_options=PoniardPlotFactory())\n",
       "            "
      ]
     },
     "execution_count": 3,
     "metadata": {},
     "output_type": "execute_result"
    }
   ],
   "source": [
    "from sklearn.datasets import make_multilabel_classification\n",
    "from sklearn.multioutput import MultiOutputClassifier\n",
    "from sklearn.ensemble import RandomForestClassifier\n",
    "from sklearn.linear_model import RidgeClassifier\n",
    "\n",
    "X, y = make_multilabel_classification()\n",
    "pnd = PoniardClassifier(estimators={\"rf\": MultiOutputClassifier(RandomForestClassifier()),\n",
    "                                    \"nb\": MultiOutputClassifier(RidgeClassifier())})\n",
    "pnd.setup(X, y)\n",
    "pnd.fit()"
   ]
  },
  {
   "cell_type": "code",
   "execution_count": 4,
   "metadata": {},
   "outputs": [
    {
     "data": {
      "text/html": [
       "<div>\n",
       "<style scoped>\n",
       "    .dataframe tbody tr th:only-of-type {\n",
       "        vertical-align: middle;\n",
       "    }\n",
       "\n",
       "    .dataframe tbody tr th {\n",
       "        vertical-align: top;\n",
       "    }\n",
       "\n",
       "    .dataframe thead th {\n",
       "        text-align: right;\n",
       "    }\n",
       "</style>\n",
       "<table border=\"1\" class=\"dataframe\">\n",
       "  <thead>\n",
       "    <tr style=\"text-align: right;\">\n",
       "      <th></th>\n",
       "      <th>test_accuracy</th>\n",
       "      <th>train_accuracy</th>\n",
       "      <th>test_precision_macro</th>\n",
       "      <th>train_precision_macro</th>\n",
       "      <th>test_recall_macro</th>\n",
       "      <th>train_recall_macro</th>\n",
       "      <th>test_f1_macro</th>\n",
       "      <th>train_f1_macro</th>\n",
       "      <th>fit_time</th>\n",
       "      <th>score_time</th>\n",
       "    </tr>\n",
       "  </thead>\n",
       "  <tbody>\n",
       "    <tr>\n",
       "      <th>rf</th>\n",
       "      <td>0.18</td>\n",
       "      <td>1.000</td>\n",
       "      <td>0.281376</td>\n",
       "      <td>1.0000</td>\n",
       "      <td>0.268039</td>\n",
       "      <td>1.00</td>\n",
       "      <td>0.267189</td>\n",
       "      <td>1.00000</td>\n",
       "      <td>0.223990</td>\n",
       "      <td>0.017918</td>\n",
       "    </tr>\n",
       "    <tr>\n",
       "      <th>nb</th>\n",
       "      <td>0.11</td>\n",
       "      <td>1.000</td>\n",
       "      <td>0.450224</td>\n",
       "      <td>1.0000</td>\n",
       "      <td>0.515310</td>\n",
       "      <td>1.00</td>\n",
       "      <td>0.468036</td>\n",
       "      <td>1.00000</td>\n",
       "      <td>0.012508</td>\n",
       "      <td>0.003609</td>\n",
       "    </tr>\n",
       "    <tr>\n",
       "      <th>DummyClassifier</th>\n",
       "      <td>0.10</td>\n",
       "      <td>0.125</td>\n",
       "      <td>0.078000</td>\n",
       "      <td>0.0865</td>\n",
       "      <td>0.160000</td>\n",
       "      <td>0.16</td>\n",
       "      <td>0.104828</td>\n",
       "      <td>0.11229</td>\n",
       "      <td>0.002935</td>\n",
       "      <td>0.003123</td>\n",
       "    </tr>\n",
       "  </tbody>\n",
       "</table>\n",
       "</div>"
      ],
      "text/plain": [
       "                 test_accuracy  train_accuracy  test_precision_macro  \\\n",
       "rf                        0.18           1.000              0.281376   \n",
       "nb                        0.11           1.000              0.450224   \n",
       "DummyClassifier           0.10           0.125              0.078000   \n",
       "\n",
       "                 train_precision_macro  test_recall_macro  train_recall_macro  \\\n",
       "rf                              1.0000           0.268039                1.00   \n",
       "nb                              1.0000           0.515310                1.00   \n",
       "DummyClassifier                 0.0865           0.160000                0.16   \n",
       "\n",
       "                 test_f1_macro  train_f1_macro  fit_time  score_time  \n",
       "rf                    0.267189         1.00000  0.223990    0.017918  \n",
       "nb                    0.468036         1.00000  0.012508    0.003609  \n",
       "DummyClassifier       0.104828         0.11229  0.002935    0.003123  "
      ]
     },
     "execution_count": 4,
     "metadata": {},
     "output_type": "execute_result"
    }
   ],
   "source": [
    "pnd.show_results()"
   ]
  },
  {
   "cell_type": "markdown",
   "metadata": {},
   "source": [
    "As you may have noticed, a dummy estimator is always included even if not explicitly set during initialization."
   ]
  },
  {
   "cell_type": "markdown",
   "metadata": {},
   "source": [
    "## `metrics`\n",
    "\n",
    "Metrics can be passed as a list of strings, following the familiar scikit-learn nomenclature, or as a dict of `str: callable`. For convenience, it can also be a single string.\n",
    "\n",
    "This restriction is in place to facilitate naming columns in the `show_results()` method."
   ]
  },
  {
   "cell_type": "code",
   "execution_count": 5,
   "metadata": {},
   "outputs": [
    {
     "name": "stdout",
     "output_type": "stream",
     "text": [
      "Main metric: neg_median_absolute_error\n",
      "Minimum unique values to consider a number feature numeric: 10\n",
      "Minimum unique values to consider a non-number feature high cardinality: 20\n",
      "\n",
      "Inferred feature types:\n",
      "    numeric categorical_high categorical_low datetime\n",
      "0       0.0                                          \n",
      "1       1.0                                          \n",
      "2       2.0                                          \n",
      "3       3.0                                          \n",
      "4       4.0                                          \n",
      "..      ...              ...             ...      ...\n",
      "95     95.0                                          \n",
      "96     96.0                                          \n",
      "97     97.0                                          \n",
      "98     98.0                                          \n",
      "99     99.0                                          \n",
      "\n",
      "[100 rows x 4 columns]\n"
     ]
    },
    {
     "name": "stderr",
     "output_type": "stream",
     "text": [
      "Completed: 100%|██████████| 2/2 [00:00<00:00, 44.58it/s]\n"
     ]
    },
    {
     "data": {
      "text/plain": [
       "PoniardRegressor(estimators=[LinearRegression()], metrics=['neg_median_absolute_error', 'explained_variance'],\n",
       "    preprocess=True, scaler=standard, numeric_imputer=simple,\n",
       "    custom_preprocessor=None, numeric_threshold=0.1,\n",
       "    cardinality_threshold=20, cv=None, verbose=0,\n",
       "    random_state=0, n_jobs=None, plugins=None,\n",
       "    plot_options=PoniardPlotFactory())\n",
       "            "
      ]
     },
     "execution_count": 5,
     "metadata": {},
     "output_type": "execute_result"
    }
   ],
   "source": [
    "from sklearn.datasets import make_regression\n",
    "from sklearn.linear_model import LinearRegression\n",
    "from poniard import PoniardRegressor\n",
    "\n",
    "X, y = make_regression()\n",
    "pnd = PoniardRegressor(metrics=[\"neg_median_absolute_error\", \"explained_variance\"],\n",
    "                       estimators=[LinearRegression()])\n",
    "pnd.setup(X, y)\n",
    "pnd.fit()"
   ]
  },
  {
   "cell_type": "code",
   "execution_count": 6,
   "metadata": {},
   "outputs": [
    {
     "data": {
      "text/html": [
       "<div>\n",
       "<style scoped>\n",
       "    .dataframe tbody tr th:only-of-type {\n",
       "        vertical-align: middle;\n",
       "    }\n",
       "\n",
       "    .dataframe tbody tr th {\n",
       "        vertical-align: top;\n",
       "    }\n",
       "\n",
       "    .dataframe thead th {\n",
       "        text-align: right;\n",
       "    }\n",
       "</style>\n",
       "<table border=\"1\" class=\"dataframe\">\n",
       "  <thead>\n",
       "    <tr style=\"text-align: right;\">\n",
       "      <th></th>\n",
       "      <th>test_neg_median_absolute_error</th>\n",
       "      <th>train_neg_median_absolute_error</th>\n",
       "      <th>test_explained_variance</th>\n",
       "      <th>train_explained_variance</th>\n",
       "      <th>fit_time</th>\n",
       "      <th>score_time</th>\n",
       "    </tr>\n",
       "  </thead>\n",
       "  <tbody>\n",
       "    <tr>\n",
       "      <th>LinearRegression</th>\n",
       "      <td>-71.841432</td>\n",
       "      <td>-2.472689e-13</td>\n",
       "      <td>0.762491</td>\n",
       "      <td>1.000000e+00</td>\n",
       "      <td>0.003141</td>\n",
       "      <td>0.000782</td>\n",
       "    </tr>\n",
       "    <tr>\n",
       "      <th>DummyRegressor</th>\n",
       "      <td>-191.154025</td>\n",
       "      <td>-1.813053e+02</td>\n",
       "      <td>0.000000</td>\n",
       "      <td>2.220446e-17</td>\n",
       "      <td>0.001496</td>\n",
       "      <td>0.000514</td>\n",
       "    </tr>\n",
       "  </tbody>\n",
       "</table>\n",
       "</div>"
      ],
      "text/plain": [
       "                  test_neg_median_absolute_error  \\\n",
       "LinearRegression                      -71.841432   \n",
       "DummyRegressor                       -191.154025   \n",
       "\n",
       "                  train_neg_median_absolute_error  test_explained_variance  \\\n",
       "LinearRegression                    -2.472689e-13                 0.762491   \n",
       "DummyRegressor                      -1.813053e+02                 0.000000   \n",
       "\n",
       "                  train_explained_variance  fit_time  score_time  \n",
       "LinearRegression              1.000000e+00  0.003141    0.000782  \n",
       "DummyRegressor                2.220446e-17  0.001496    0.000514  "
      ]
     },
     "execution_count": 6,
     "metadata": {},
     "output_type": "execute_result"
    }
   ],
   "source": [
    "pnd.show_results()"
   ]
  },
  {
   "cell_type": "code",
   "execution_count": 7,
   "metadata": {},
   "outputs": [
    {
     "name": "stdout",
     "output_type": "stream",
     "text": [
      "Main metric: scaled_r2\n",
      "Minimum unique values to consider a number feature numeric: 10\n",
      "Minimum unique values to consider a non-number feature high cardinality: 20\n",
      "\n",
      "Inferred feature types:\n",
      "    numeric categorical_high categorical_low datetime\n",
      "0       0.0                                          \n",
      "1       1.0                                          \n",
      "2       2.0                                          \n",
      "3       3.0                                          \n",
      "4       4.0                                          \n",
      "..      ...              ...             ...      ...\n",
      "95     95.0                                          \n",
      "96     96.0                                          \n",
      "97     97.0                                          \n",
      "98     98.0                                          \n",
      "99     99.0                                          \n",
      "\n",
      "[100 rows x 4 columns]\n"
     ]
    },
    {
     "name": "stderr",
     "output_type": "stream",
     "text": [
      "Completed: 100%|██████████| 2/2 [00:00<00:00, 73.44it/s]\n"
     ]
    },
    {
     "data": {
      "text/html": [
       "<div>\n",
       "<style scoped>\n",
       "    .dataframe tbody tr th:only-of-type {\n",
       "        vertical-align: middle;\n",
       "    }\n",
       "\n",
       "    .dataframe tbody tr th {\n",
       "        vertical-align: top;\n",
       "    }\n",
       "\n",
       "    .dataframe thead th {\n",
       "        text-align: right;\n",
       "    }\n",
       "</style>\n",
       "<table border=\"1\" class=\"dataframe\">\n",
       "  <thead>\n",
       "    <tr style=\"text-align: right;\">\n",
       "      <th></th>\n",
       "      <th>test_scaled_r2</th>\n",
       "      <th>train_scaled_r2</th>\n",
       "      <th>test_usual_r2</th>\n",
       "      <th>train_usual_r2</th>\n",
       "      <th>fit_time</th>\n",
       "      <th>score_time</th>\n",
       "    </tr>\n",
       "  </thead>\n",
       "  <tbody>\n",
       "    <tr>\n",
       "      <th>LinearRegression</th>\n",
       "      <td>73.88</td>\n",
       "      <td>100.0</td>\n",
       "      <td>0.738651</td>\n",
       "      <td>1.0</td>\n",
       "      <td>0.002256</td>\n",
       "      <td>0.000424</td>\n",
       "    </tr>\n",
       "    <tr>\n",
       "      <th>DummyRegressor</th>\n",
       "      <td>-5.70</td>\n",
       "      <td>0.0</td>\n",
       "      <td>-0.056867</td>\n",
       "      <td>0.0</td>\n",
       "      <td>0.000895</td>\n",
       "      <td>0.000287</td>\n",
       "    </tr>\n",
       "  </tbody>\n",
       "</table>\n",
       "</div>"
      ],
      "text/plain": [
       "                  test_scaled_r2  train_scaled_r2  test_usual_r2  \\\n",
       "LinearRegression           73.88            100.0       0.738651   \n",
       "DummyRegressor             -5.70              0.0      -0.056867   \n",
       "\n",
       "                  train_usual_r2  fit_time  score_time  \n",
       "LinearRegression             1.0  0.002256    0.000424  \n",
       "DummyRegressor               0.0  0.000895    0.000287  "
      ]
     },
     "execution_count": 7,
     "metadata": {},
     "output_type": "execute_result"
    }
   ],
   "source": [
    "from sklearn.metrics import r2_score, make_scorer\n",
    "\n",
    "def scaled_r2(y_true, y_pred):\n",
    "    return round(r2_score(y_true, y_pred) * 100, 1)\n",
    "\n",
    "pnd = PoniardRegressor(metrics={\"scaled_r2\": make_scorer(scaled_r2, greater_is_better=True),\n",
    "                                \"usual_r2\": make_scorer(r2_score, greater_is_better=True)},\n",
    "                       estimators=[LinearRegression()])\n",
    "pnd.setup(X, y).fit().show_results()"
   ]
  },
  {
   "cell_type": "markdown",
   "metadata": {},
   "source": [
    "## `cv`\n",
    "\n",
    "Cross validation can be anything that scikit-learn accepts. By default, classification tasks will be paired with a `StratifiedKFold` if the target is binary, and `KFold` otherwise. Regression tasks use `KFold` by default.\n",
    "\n",
    "`cv=int` or `cv=None` are internally converted to one of the above classes so that Poniard's `random_state` parameter can be passed on."
   ]
  },
  {
   "cell_type": "code",
   "execution_count": 8,
   "metadata": {},
   "outputs": [],
   "source": [
    "from IPython.utils import io\n",
    "from sklearn.model_selection import RepeatedKFold\n",
    "\n",
    "with io.capture_output() as c:\n",
    "    pnd_5 = PoniardRegressor(cv=4).setup(X, y)\n",
    "    pnd_none = PoniardRegressor(cv=None).setup(X, y)\n",
    "    pnd_k = PoniardRegressor(cv=RepeatedKFold(n_splits=3)).setup(X, y)"
   ]
  },
  {
   "cell_type": "code",
   "execution_count": 9,
   "metadata": {},
   "outputs": [
    {
     "name": "stdout",
     "output_type": "stream",
     "text": [
      "KFold(n_splits=4, random_state=0, shuffle=True)\n",
      "KFold(n_splits=5, random_state=0, shuffle=True)\n",
      "RepeatedKFold(n_repeats=10, n_splits=3, random_state=0)\n"
     ]
    }
   ],
   "source": [
    "print(pnd_5.cv_, pnd_none.cv_, pnd_k.cv_, sep=\"\\n\")"
   ]
  },
  {
   "cell_type": "markdown",
   "metadata": {},
   "source": [
    "Note that even though we didn't specify `random_state` for the third estimator, it gets injected during setup."
   ]
  },
  {
   "cell_type": "code",
   "execution_count": null,
   "metadata": {},
   "outputs": [],
   "source": []
  }
 ],
 "metadata": {
  "kernelspec": {
   "display_name": "Python 3.8.13 ('poniard')",
   "language": "python",
   "name": "python3"
  },
  "language_info": {
   "codemirror_mode": {
    "name": "ipython",
    "version": 3
   },
   "file_extension": ".py",
   "mimetype": "text/x-python",
   "name": "python",
   "nbconvert_exporter": "python",
   "pygments_lexer": "ipython3",
   "version": "3.8.13"
  },
  "orig_nbformat": 4,
  "vscode": {
   "interpreter": {
    "hash": "5b19e164f6cca60308283f53d0662deec50021588bbf431f94f1d943a2c89195"
   }
  }
 },
 "nbformat": 4,
 "nbformat_minor": 2
}
