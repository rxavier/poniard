{
 "cells": [
  {
   "cell_type": "markdown",
   "metadata": {},
   "source": [
    "# Plotting\n",
    "\n",
    "[![Open In Colab](https://colab.research.google.com/assets/colab-badge.svg)](https://colab.research.google.com/github/rxavier/poniard/blob/master/examples/04._plotting.ipynb)\n",
    "\n",
    "This notebook demonstrates Poniard's plotting capabilities.\n",
    "\n",
    "If you don't have it installed, please install from PyPI."
   ]
  },
  {
   "cell_type": "code",
   "execution_count": 1,
   "metadata": {},
   "outputs": [],
   "source": [
    "# %pip install poniard"
   ]
  },
  {
   "cell_type": "markdown",
   "metadata": {},
   "source": [
    "Poniard uses Plotly as a backend to plot metrics.\n",
    "\n",
    "All plots are available at the `plot` accessor."
   ]
  },
  {
   "cell_type": "code",
   "execution_count": 2,
   "metadata": {},
   "outputs": [
    {
     "name": "stdout",
     "output_type": "stream",
     "text": [
      "Target info\n",
      "-----------\n",
      "Type: binary\n",
      "Shape: (500,)\n",
      "Unique values: 2\n",
      "\n",
      "Main metric\n",
      "-----------\n",
      "roc_auc\n",
      "\n",
      "Thresholds\n",
      "----------\n",
      "Minimum unique values to consider a feature numeric: 25\n",
      "Minimum unique values to consider a categorical high cardinality: 20\n",
      "\n",
      "Inferred feature types\n",
      "----------------------\n"
     ]
    },
    {
     "data": {
      "text/html": [
       "<table border=\"1\" class=\"dataframe\">\n",
       "  <thead>\n",
       "    <tr style=\"text-align: right;\">\n",
       "      <th></th>\n",
       "      <th>numeric</th>\n",
       "      <th>categorical_high</th>\n",
       "      <th>categorical_low</th>\n",
       "      <th>datetime</th>\n",
       "    </tr>\n",
       "  </thead>\n",
       "  <tbody>\n",
       "    <tr>\n",
       "      <th>0</th>\n",
       "      <td>DVRT</td>\n",
       "      <td></td>\n",
       "      <td>Sex</td>\n",
       "      <td></td>\n",
       "    </tr>\n",
       "    <tr>\n",
       "      <th>1</th>\n",
       "      <td>Prestige_score</td>\n",
       "      <td></td>\n",
       "      <td>Educational_level</td>\n",
       "      <td></td>\n",
       "    </tr>\n",
       "    <tr>\n",
       "      <th>2</th>\n",
       "      <td></td>\n",
       "      <td></td>\n",
       "      <td>Type_school</td>\n",
       "      <td></td>\n",
       "    </tr>\n",
       "  </tbody>\n",
       "</table>"
      ],
      "text/plain": [
       "<IPython.core.display.HTML object>"
      ]
     },
     "metadata": {},
     "output_type": "display_data"
    },
    {
     "name": "stdout",
     "output_type": "stream",
     "text": [
      "\n",
      "\n"
     ]
    },
    {
     "name": "stderr",
     "output_type": "stream",
     "text": [
      "Completed: 100%|██████████| 4/4 [00:01<00:00,  3.52it/s]             \n"
     ]
    },
    {
     "data": {
      "text/html": [
       "<div>\n",
       "<style scoped>\n",
       "    .dataframe tbody tr th:only-of-type {\n",
       "        vertical-align: middle;\n",
       "    }\n",
       "\n",
       "    .dataframe tbody tr th {\n",
       "        vertical-align: top;\n",
       "    }\n",
       "\n",
       "    .dataframe thead th {\n",
       "        text-align: right;\n",
       "    }\n",
       "</style>\n",
       "<table border=\"1\" class=\"dataframe\">\n",
       "  <thead>\n",
       "    <tr style=\"text-align: right;\">\n",
       "      <th></th>\n",
       "      <th>test_roc_auc</th>\n",
       "      <th>test_accuracy</th>\n",
       "      <th>test_precision</th>\n",
       "      <th>test_recall</th>\n",
       "      <th>test_f1</th>\n",
       "      <th>fit_time</th>\n",
       "      <th>score_time</th>\n",
       "    </tr>\n",
       "  </thead>\n",
       "  <tbody>\n",
       "    <tr>\n",
       "      <th>KNeighborsClassifier</th>\n",
       "      <td>0.990550</td>\n",
       "      <td>0.970</td>\n",
       "      <td>0.948261</td>\n",
       "      <td>0.986465</td>\n",
       "      <td>0.966878</td>\n",
       "      <td>0.005216</td>\n",
       "      <td>0.069910</td>\n",
       "    </tr>\n",
       "    <tr>\n",
       "      <th>RandomForestClassifier</th>\n",
       "      <td>0.989532</td>\n",
       "      <td>0.986</td>\n",
       "      <td>0.973816</td>\n",
       "      <td>0.995556</td>\n",
       "      <td>0.984419</td>\n",
       "      <td>0.064198</td>\n",
       "      <td>0.011983</td>\n",
       "    </tr>\n",
       "    <tr>\n",
       "      <th>LogisticRegression</th>\n",
       "      <td>0.987589</td>\n",
       "      <td>0.986</td>\n",
       "      <td>0.973623</td>\n",
       "      <td>0.995455</td>\n",
       "      <td>0.984369</td>\n",
       "      <td>0.009759</td>\n",
       "      <td>0.008593</td>\n",
       "    </tr>\n",
       "    <tr>\n",
       "      <th>DummyClassifier</th>\n",
       "      <td>0.500000</td>\n",
       "      <td>0.556</td>\n",
       "      <td>0.000000</td>\n",
       "      <td>0.000000</td>\n",
       "      <td>0.000000</td>\n",
       "      <td>0.004146</td>\n",
       "      <td>0.005129</td>\n",
       "    </tr>\n",
       "  </tbody>\n",
       "</table>\n",
       "</div>"
      ],
      "text/plain": [
       "                        test_roc_auc  test_accuracy  test_precision  \\\n",
       "KNeighborsClassifier        0.990550          0.970        0.948261   \n",
       "RandomForestClassifier      0.989532          0.986        0.973816   \n",
       "LogisticRegression          0.987589          0.986        0.973623   \n",
       "DummyClassifier             0.500000          0.556        0.000000   \n",
       "\n",
       "                        test_recall   test_f1  fit_time  score_time  \n",
       "KNeighborsClassifier       0.986465  0.966878  0.005216    0.069910  \n",
       "RandomForestClassifier     0.995556  0.984419  0.064198    0.011983  \n",
       "LogisticRegression         0.995455  0.984369  0.009759    0.008593  \n",
       "DummyClassifier            0.000000  0.000000  0.004146    0.005129  "
      ]
     },
     "execution_count": 2,
     "metadata": {},
     "output_type": "execute_result"
    }
   ],
   "source": [
    "from sklearn.datasets import fetch_openml\n",
    "from sklearn.preprocessing import LabelEncoder\n",
    "from sklearn.ensemble import RandomForestClassifier\n",
    "from sklearn.linear_model import LogisticRegression\n",
    "from sklearn.neighbors import KNeighborsClassifier\n",
    "from poniard import PoniardClassifier\n",
    "\n",
    "X, y = fetch_openml(\"irish\", return_X_y=True, as_frame=True)\n",
    "y = LabelEncoder().fit_transform(y)\n",
    "clf = PoniardClassifier(\n",
    "    estimators=[LogisticRegression(), KNeighborsClassifier(), RandomForestClassifier()],\n",
    "    numeric_threshold=0.05,\n",
    ").setup(X, y)\n",
    "clf.fit()\n",
    "clf.get_results()"
   ]
  },
  {
   "cell_type": "markdown",
   "metadata": {},
   "source": [
    "## Plots based on the fit process.\n",
    "\n",
    "Metrics obtained directly from a call to `fit()` can be visualized with `plot.metrics()`.\n",
    "\n",
    "This method can plot multiple metrics, showing fold averages and error bars, or a scatter plot with the score for each fold and the mean score."
   ]
  },
  {
   "cell_type": "code",
   "execution_count": 3,
   "metadata": {},
   "outputs": [
    {
     "data": {
      "application/vnd.plotly.v1+json": {
       "config": {
        "plotlyServerURL": "https://plot.ly"
       },
       "data": [
        {
         "alignmentgroup": "True",
         "boxpoints": "all",
         "fillcolor": "rgba(255,255,255,0)",
         "hoveron": "points",
         "hovertemplate": "Type=Fold<br>Metric=test_roc_auc<br>Score=%{x}<br>Model=%{y}<extra></extra>",
         "legendgroup": "Fold",
         "line": {
          "color": "rgba(255,255,255,0)"
         },
         "marker": {
          "color": "rgb(127, 60, 141)"
         },
         "name": "Fold",
         "offsetgroup": "Fold",
         "orientation": "v",
         "pointpos": 0,
         "showlegend": true,
         "type": "box",
         "x": [
          0.9882305194805195,
          0.9667207792207793,
          0.9914772727272727,
          1,
          0.9915151515151515,
          0.9795048701298701,
          0.9807224025974026,
          0.9989853896103895,
          0.9981818181818183,
          0.9953535353535353,
          0.9784902597402597,
          0.9736201298701299,
          0.9991883116883118,
          1,
          0.9963636363636363
         ],
         "x0": " ",
         "xaxis": "x",
         "y": [
          "LogisticRegression",
          "LogisticRegression",
          "LogisticRegression",
          "LogisticRegression",
          "LogisticRegression",
          "KNeighbors",
          "KNeighbors",
          "KNeighbors",
          "KNeighbors",
          "KNeighbors",
          "RandomForest",
          "RandomForest",
          "RandomForest",
          "RandomForest",
          "RandomForest"
         ],
         "y0": " ",
         "yaxis": "y"
        },
        {
         "alignmentgroup": "True",
         "boxpoints": "all",
         "fillcolor": "rgba(255,255,255,0)",
         "hoveron": "points",
         "hovertemplate": "Type=Fold<br>Metric=test_f1<br>Score=%{x}<br>Model=%{y}<extra></extra>",
         "legendgroup": "Fold",
         "line": {
          "color": "rgba(255,255,255,0)"
         },
         "marker": {
          "color": "rgb(127, 60, 141)"
         },
         "name": "Fold",
         "offsetgroup": "Fold",
         "orientation": "v",
         "pointpos": 0,
         "showlegend": false,
         "type": "box",
         "x": [
          0.9662921348314608,
          0.9777777777777777,
          0.9887640449438202,
          1,
          0.989010989010989,
          0.9438202247191012,
          0.967032967032967,
          0.9887640449438202,
          0.967741935483871,
          0.967032967032967,
          0.9777777777777777,
          0.9777777777777777,
          0.9887640449438202,
          0.9887640449438202,
          0.989010989010989
         ],
         "x0": " ",
         "xaxis": "x2",
         "y": [
          "LogisticRegression",
          "LogisticRegression",
          "LogisticRegression",
          "LogisticRegression",
          "LogisticRegression",
          "KNeighbors",
          "KNeighbors",
          "KNeighbors",
          "KNeighbors",
          "KNeighbors",
          "RandomForest",
          "RandomForest",
          "RandomForest",
          "RandomForest",
          "RandomForest"
         ],
         "y0": " ",
         "yaxis": "y2"
        },
        {
         "alignmentgroup": "True",
         "boxpoints": "all",
         "fillcolor": "rgba(255,255,255,0)",
         "hoveron": "points",
         "hovertemplate": "Type=Mean<br>Metric=test_roc_auc<br>Score=%{x}<br>Model=%{y}<extra></extra>",
         "legendgroup": "Mean",
         "line": {
          "color": "rgba(255,255,255,0)"
         },
         "marker": {
          "color": "rgb(17, 165, 121)"
         },
         "name": "Mean",
         "offsetgroup": "Mean",
         "orientation": "v",
         "pointpos": 0,
         "showlegend": true,
         "type": "box",
         "x": [
          0.990549603174603,
          0.9875887445887445,
          0.9895324675324675
         ],
         "x0": " ",
         "xaxis": "x",
         "y": [
          "KNeighbors",
          "LogisticRegression",
          "RandomForest"
         ],
         "y0": " ",
         "yaxis": "y"
        },
        {
         "alignmentgroup": "True",
         "boxpoints": "all",
         "fillcolor": "rgba(255,255,255,0)",
         "hoveron": "points",
         "hovertemplate": "Type=Mean<br>Metric=test_f1<br>Score=%{x}<br>Model=%{y}<extra></extra>",
         "legendgroup": "Mean",
         "line": {
          "color": "rgba(255,255,255,0)"
         },
         "marker": {
          "color": "rgb(17, 165, 121)"
         },
         "name": "Mean",
         "offsetgroup": "Mean",
         "orientation": "v",
         "pointpos": 0,
         "showlegend": false,
         "type": "box",
         "x": [
          0.9668784278425454,
          0.9843689893128096,
          0.984418926890837
         ],
         "x0": " ",
         "xaxis": "x2",
         "y": [
          "KNeighbors",
          "LogisticRegression",
          "RandomForest"
         ],
         "y0": " ",
         "yaxis": "y2"
        }
       ],
       "layout": {
        "annotations": [
         {
          "font": {},
          "showarrow": false,
          "text": "Metric=test_roc_auc",
          "x": 0.245,
          "xanchor": "center",
          "xref": "paper",
          "y": 1,
          "yanchor": "bottom",
          "yref": "paper"
         },
         {
          "font": {},
          "showarrow": false,
          "text": "Metric=test_f1",
          "x": 0.755,
          "xanchor": "center",
          "xref": "paper",
          "y": 1,
          "yanchor": "bottom",
          "yref": "paper"
         }
        ],
        "boxmode": "group",
        "height": 300,
        "legend": {
         "title": {
          "text": "Type"
         },
         "tracegroupgap": 0
        },
        "template": {
         "data": {
          "bar": [
           {
            "error_x": {
             "color": "#2a3f5f"
            },
            "error_y": {
             "color": "#2a3f5f"
            },
            "marker": {
             "line": {
              "color": "white",
              "width": 0.5
             },
             "pattern": {
              "fillmode": "overlay",
              "size": 10,
              "solidity": 0.2
             }
            },
            "type": "bar"
           }
          ],
          "barpolar": [
           {
            "marker": {
             "line": {
              "color": "white",
              "width": 0.5
             },
             "pattern": {
              "fillmode": "overlay",
              "size": 10,
              "solidity": 0.2
             }
            },
            "type": "barpolar"
           }
          ],
          "carpet": [
           {
            "aaxis": {
             "endlinecolor": "#2a3f5f",
             "gridcolor": "#C8D4E3",
             "linecolor": "#C8D4E3",
             "minorgridcolor": "#C8D4E3",
             "startlinecolor": "#2a3f5f"
            },
            "baxis": {
             "endlinecolor": "#2a3f5f",
             "gridcolor": "#C8D4E3",
             "linecolor": "#C8D4E3",
             "minorgridcolor": "#C8D4E3",
             "startlinecolor": "#2a3f5f"
            },
            "type": "carpet"
           }
          ],
          "choropleth": [
           {
            "colorbar": {
             "outlinewidth": 0,
             "ticks": ""
            },
            "type": "choropleth"
           }
          ],
          "contour": [
           {
            "colorbar": {
             "outlinewidth": 0,
             "ticks": ""
            },
            "colorscale": [
             [
              0,
              "#0d0887"
             ],
             [
              0.1111111111111111,
              "#46039f"
             ],
             [
              0.2222222222222222,
              "#7201a8"
             ],
             [
              0.3333333333333333,
              "#9c179e"
             ],
             [
              0.4444444444444444,
              "#bd3786"
             ],
             [
              0.5555555555555556,
              "#d8576b"
             ],
             [
              0.6666666666666666,
              "#ed7953"
             ],
             [
              0.7777777777777778,
              "#fb9f3a"
             ],
             [
              0.8888888888888888,
              "#fdca26"
             ],
             [
              1,
              "#f0f921"
             ]
            ],
            "type": "contour"
           }
          ],
          "contourcarpet": [
           {
            "colorbar": {
             "outlinewidth": 0,
             "ticks": ""
            },
            "type": "contourcarpet"
           }
          ],
          "heatmap": [
           {
            "colorbar": {
             "outlinewidth": 0,
             "ticks": ""
            },
            "colorscale": [
             [
              0,
              "#0d0887"
             ],
             [
              0.1111111111111111,
              "#46039f"
             ],
             [
              0.2222222222222222,
              "#7201a8"
             ],
             [
              0.3333333333333333,
              "#9c179e"
             ],
             [
              0.4444444444444444,
              "#bd3786"
             ],
             [
              0.5555555555555556,
              "#d8576b"
             ],
             [
              0.6666666666666666,
              "#ed7953"
             ],
             [
              0.7777777777777778,
              "#fb9f3a"
             ],
             [
              0.8888888888888888,
              "#fdca26"
             ],
             [
              1,
              "#f0f921"
             ]
            ],
            "type": "heatmap"
           }
          ],
          "heatmapgl": [
           {
            "colorbar": {
             "outlinewidth": 0,
             "ticks": ""
            },
            "colorscale": [
             [
              0,
              "#0d0887"
             ],
             [
              0.1111111111111111,
              "#46039f"
             ],
             [
              0.2222222222222222,
              "#7201a8"
             ],
             [
              0.3333333333333333,
              "#9c179e"
             ],
             [
              0.4444444444444444,
              "#bd3786"
             ],
             [
              0.5555555555555556,
              "#d8576b"
             ],
             [
              0.6666666666666666,
              "#ed7953"
             ],
             [
              0.7777777777777778,
              "#fb9f3a"
             ],
             [
              0.8888888888888888,
              "#fdca26"
             ],
             [
              1,
              "#f0f921"
             ]
            ],
            "type": "heatmapgl"
           }
          ],
          "histogram": [
           {
            "marker": {
             "pattern": {
              "fillmode": "overlay",
              "size": 10,
              "solidity": 0.2
             }
            },
            "type": "histogram"
           }
          ],
          "histogram2d": [
           {
            "colorbar": {
             "outlinewidth": 0,
             "ticks": ""
            },
            "colorscale": [
             [
              0,
              "#0d0887"
             ],
             [
              0.1111111111111111,
              "#46039f"
             ],
             [
              0.2222222222222222,
              "#7201a8"
             ],
             [
              0.3333333333333333,
              "#9c179e"
             ],
             [
              0.4444444444444444,
              "#bd3786"
             ],
             [
              0.5555555555555556,
              "#d8576b"
             ],
             [
              0.6666666666666666,
              "#ed7953"
             ],
             [
              0.7777777777777778,
              "#fb9f3a"
             ],
             [
              0.8888888888888888,
              "#fdca26"
             ],
             [
              1,
              "#f0f921"
             ]
            ],
            "type": "histogram2d"
           }
          ],
          "histogram2dcontour": [
           {
            "colorbar": {
             "outlinewidth": 0,
             "ticks": ""
            },
            "colorscale": [
             [
              0,
              "#0d0887"
             ],
             [
              0.1111111111111111,
              "#46039f"
             ],
             [
              0.2222222222222222,
              "#7201a8"
             ],
             [
              0.3333333333333333,
              "#9c179e"
             ],
             [
              0.4444444444444444,
              "#bd3786"
             ],
             [
              0.5555555555555556,
              "#d8576b"
             ],
             [
              0.6666666666666666,
              "#ed7953"
             ],
             [
              0.7777777777777778,
              "#fb9f3a"
             ],
             [
              0.8888888888888888,
              "#fdca26"
             ],
             [
              1,
              "#f0f921"
             ]
            ],
            "type": "histogram2dcontour"
           }
          ],
          "mesh3d": [
           {
            "colorbar": {
             "outlinewidth": 0,
             "ticks": ""
            },
            "type": "mesh3d"
           }
          ],
          "parcoords": [
           {
            "line": {
             "colorbar": {
              "outlinewidth": 0,
              "ticks": ""
             }
            },
            "type": "parcoords"
           }
          ],
          "pie": [
           {
            "automargin": true,
            "type": "pie"
           }
          ],
          "scatter": [
           {
            "fillpattern": {
             "fillmode": "overlay",
             "size": 10,
             "solidity": 0.2
            },
            "type": "scatter"
           }
          ],
          "scatter3d": [
           {
            "line": {
             "colorbar": {
              "outlinewidth": 0,
              "ticks": ""
             }
            },
            "marker": {
             "colorbar": {
              "outlinewidth": 0,
              "ticks": ""
             }
            },
            "type": "scatter3d"
           }
          ],
          "scattercarpet": [
           {
            "marker": {
             "colorbar": {
              "outlinewidth": 0,
              "ticks": ""
             }
            },
            "type": "scattercarpet"
           }
          ],
          "scattergeo": [
           {
            "marker": {
             "colorbar": {
              "outlinewidth": 0,
              "ticks": ""
             }
            },
            "type": "scattergeo"
           }
          ],
          "scattergl": [
           {
            "marker": {
             "colorbar": {
              "outlinewidth": 0,
              "ticks": ""
             }
            },
            "type": "scattergl"
           }
          ],
          "scattermapbox": [
           {
            "marker": {
             "colorbar": {
              "outlinewidth": 0,
              "ticks": ""
             }
            },
            "type": "scattermapbox"
           }
          ],
          "scatterpolar": [
           {
            "marker": {
             "colorbar": {
              "outlinewidth": 0,
              "ticks": ""
             }
            },
            "type": "scatterpolar"
           }
          ],
          "scatterpolargl": [
           {
            "marker": {
             "colorbar": {
              "outlinewidth": 0,
              "ticks": ""
             }
            },
            "type": "scatterpolargl"
           }
          ],
          "scatterternary": [
           {
            "marker": {
             "colorbar": {
              "outlinewidth": 0,
              "ticks": ""
             }
            },
            "type": "scatterternary"
           }
          ],
          "surface": [
           {
            "colorbar": {
             "outlinewidth": 0,
             "ticks": ""
            },
            "colorscale": [
             [
              0,
              "#0d0887"
             ],
             [
              0.1111111111111111,
              "#46039f"
             ],
             [
              0.2222222222222222,
              "#7201a8"
             ],
             [
              0.3333333333333333,
              "#9c179e"
             ],
             [
              0.4444444444444444,
              "#bd3786"
             ],
             [
              0.5555555555555556,
              "#d8576b"
             ],
             [
              0.6666666666666666,
              "#ed7953"
             ],
             [
              0.7777777777777778,
              "#fb9f3a"
             ],
             [
              0.8888888888888888,
              "#fdca26"
             ],
             [
              1,
              "#f0f921"
             ]
            ],
            "type": "surface"
           }
          ],
          "table": [
           {
            "cells": {
             "fill": {
              "color": "#EBF0F8"
             },
             "line": {
              "color": "white"
             }
            },
            "header": {
             "fill": {
              "color": "#C8D4E3"
             },
             "line": {
              "color": "white"
             }
            },
            "type": "table"
           }
          ]
         },
         "layout": {
          "annotationdefaults": {
           "arrowcolor": "#2a3f5f",
           "arrowhead": 0,
           "arrowwidth": 1
          },
          "autotypenumbers": "strict",
          "coloraxis": {
           "colorbar": {
            "outlinewidth": 0,
            "ticks": ""
           }
          },
          "colorscale": {
           "diverging": [
            [
             0,
             "#8e0152"
            ],
            [
             0.1,
             "#c51b7d"
            ],
            [
             0.2,
             "#de77ae"
            ],
            [
             0.3,
             "#f1b6da"
            ],
            [
             0.4,
             "#fde0ef"
            ],
            [
             0.5,
             "#f7f7f7"
            ],
            [
             0.6,
             "#e6f5d0"
            ],
            [
             0.7,
             "#b8e186"
            ],
            [
             0.8,
             "#7fbc41"
            ],
            [
             0.9,
             "#4d9221"
            ],
            [
             1,
             "#276419"
            ]
           ],
           "sequential": [
            [
             0,
             "#0d0887"
            ],
            [
             0.1111111111111111,
             "#46039f"
            ],
            [
             0.2222222222222222,
             "#7201a8"
            ],
            [
             0.3333333333333333,
             "#9c179e"
            ],
            [
             0.4444444444444444,
             "#bd3786"
            ],
            [
             0.5555555555555556,
             "#d8576b"
            ],
            [
             0.6666666666666666,
             "#ed7953"
            ],
            [
             0.7777777777777778,
             "#fb9f3a"
            ],
            [
             0.8888888888888888,
             "#fdca26"
            ],
            [
             1,
             "#f0f921"
            ]
           ],
           "sequentialminus": [
            [
             0,
             "#0d0887"
            ],
            [
             0.1111111111111111,
             "#46039f"
            ],
            [
             0.2222222222222222,
             "#7201a8"
            ],
            [
             0.3333333333333333,
             "#9c179e"
            ],
            [
             0.4444444444444444,
             "#bd3786"
            ],
            [
             0.5555555555555556,
             "#d8576b"
            ],
            [
             0.6666666666666666,
             "#ed7953"
            ],
            [
             0.7777777777777778,
             "#fb9f3a"
            ],
            [
             0.8888888888888888,
             "#fdca26"
            ],
            [
             1,
             "#f0f921"
            ]
           ]
          },
          "colorway": [
           "#636efa",
           "#EF553B",
           "#00cc96",
           "#ab63fa",
           "#FFA15A",
           "#19d3f3",
           "#FF6692",
           "#B6E880",
           "#FF97FF",
           "#FECB52"
          ],
          "font": {
           "color": "#8C8C8C"
          },
          "geo": {
           "bgcolor": "white",
           "lakecolor": "white",
           "landcolor": "white",
           "showlakes": true,
           "showland": true,
           "subunitcolor": "#C8D4E3"
          },
          "hoverlabel": {
           "align": "left"
          },
          "hovermode": "closest",
          "legend": {
           "orientation": "h",
           "x": 0,
           "xanchor": "left",
           "y": -0.2,
           "yanchor": "top"
          },
          "mapbox": {
           "style": "light"
          },
          "margin": {
           "l": 20,
           "r": 20
          },
          "paper_bgcolor": "white",
          "plot_bgcolor": "white",
          "polar": {
           "angularaxis": {
            "gridcolor": "#EBF0F8",
            "linecolor": "#EBF0F8",
            "ticks": ""
           },
           "bgcolor": "white",
           "radialaxis": {
            "gridcolor": "#EBF0F8",
            "linecolor": "#EBF0F8",
            "ticks": ""
           }
          },
          "scene": {
           "xaxis": {
            "backgroundcolor": "white",
            "gridcolor": "#DFE8F3",
            "gridwidth": 2,
            "linecolor": "#EBF0F8",
            "showbackground": true,
            "ticks": "",
            "zerolinecolor": "#EBF0F8"
           },
           "yaxis": {
            "backgroundcolor": "white",
            "gridcolor": "#DFE8F3",
            "gridwidth": 2,
            "linecolor": "#EBF0F8",
            "showbackground": true,
            "ticks": "",
            "zerolinecolor": "#EBF0F8"
           },
           "zaxis": {
            "backgroundcolor": "white",
            "gridcolor": "#DFE8F3",
            "gridwidth": 2,
            "linecolor": "#EBF0F8",
            "showbackground": true,
            "ticks": "",
            "zerolinecolor": "#EBF0F8"
           }
          },
          "shapedefaults": {
           "line": {
            "color": "#2a3f5f"
           }
          },
          "ternary": {
           "aaxis": {
            "gridcolor": "#DFE8F3",
            "linecolor": "#A2B1C6",
            "ticks": ""
           },
           "baxis": {
            "gridcolor": "#DFE8F3",
            "linecolor": "#A2B1C6",
            "ticks": ""
           },
           "bgcolor": "white",
           "caxis": {
            "gridcolor": "#DFE8F3",
            "linecolor": "#A2B1C6",
            "ticks": ""
           }
          },
          "title": {
           "x": 0.05
          },
          "xaxis": {
           "automargin": true,
           "gridcolor": "#EBF0F8",
           "linecolor": "#EBF0F8",
           "ticks": "",
           "title": {
            "standoff": 15
           },
           "zerolinecolor": "#EBF0F8",
           "zerolinewidth": 2
          },
          "yaxis": {
           "automargin": true,
           "gridcolor": "#EBF0F8",
           "linecolor": "#EBF0F8",
           "ticks": "",
           "title": {
            "standoff": 15
           },
           "zerolinecolor": "#EBF0F8",
           "zerolinewidth": 2
          }
         }
        },
        "title": {
         "text": "Model scores"
        },
        "xaxis": {
         "anchor": "y",
         "domain": [
          0,
          0.49
         ],
         "title": {
          "text": "Score"
         }
        },
        "xaxis2": {
         "anchor": "y2",
         "domain": [
          0.51,
          1
         ],
         "title": {
          "text": "Score"
         }
        },
        "yaxis": {
         "anchor": "x",
         "domain": [
          0,
          1
         ],
         "title": {
          "text": ""
         }
        },
        "yaxis2": {
         "anchor": "x2",
         "domain": [
          0,
          1
         ],
         "matches": "y",
         "showticklabels": false
        }
       }
      }
     },
     "metadata": {},
     "output_type": "display_data"
    }
   ],
   "source": [
    "clf.plot.metrics(metrics=[\"roc_auc\", \"f1\"])"
   ]
  },
  {
   "cell_type": "code",
   "execution_count": 4,
   "metadata": {},
   "outputs": [
    {
     "data": {
      "application/vnd.plotly.v1+json": {
       "config": {
        "plotlyServerURL": "https://plot.ly"
       },
       "data": [
        {
         "alignmentgroup": "True",
         "error_x": {
          "array": [
           0.008438902386162017,
           0.008226189316418654,
           0.00812169108547536
          ]
         },
         "error_y": {
          "array": [
           0.008438902386162017,
           0.008226189316418654,
           0.00812169108547536
          ]
         },
         "hovertemplate": "Metric=test_precision<br>Score=%{x}<br>Model=%{y}<extra></extra>",
         "legendgroup": "",
         "marker": {
          "color": "rgb(127, 60, 141)",
          "pattern": {
           "shape": ""
          }
         },
         "name": "",
         "offsetgroup": "",
         "orientation": "h",
         "showlegend": false,
         "textposition": "auto",
         "type": "bar",
         "x": [
          0.9482606126015007,
          0.9736231884057972,
          0.9738164251207729
         ],
         "xaxis": "x",
         "y": [
          "KNeighbors",
          "LogisticRegression",
          "RandomForest"
         ],
         "yaxis": "y"
        },
        {
         "alignmentgroup": "True",
         "error_x": {
          "array": [
           0.009066184110027015,
           0.004545454545454542,
           0.004444444444444451
          ]
         },
         "error_y": {
          "array": [
           0.009066184110027015,
           0.004545454545454542,
           0.004444444444444451
          ]
         },
         "hovertemplate": "Metric=test_recall<br>Score=%{x}<br>Model=%{y}<extra></extra>",
         "legendgroup": "",
         "marker": {
          "color": "rgb(127, 60, 141)",
          "pattern": {
           "shape": ""
          }
         },
         "name": "",
         "offsetgroup": "",
         "orientation": "h",
         "showlegend": false,
         "textposition": "auto",
         "type": "bar",
         "x": [
          0.9864646464646464,
          0.9954545454545455,
          0.9955555555555555
         ],
         "xaxis": "x2",
         "y": [
          "KNeighbors",
          "LogisticRegression",
          "RandomForest"
         ],
         "yaxis": "y2"
        }
       ],
       "layout": {
        "annotations": [
         {
          "font": {},
          "showarrow": false,
          "text": "Metric=test_precision",
          "x": 0.245,
          "xanchor": "center",
          "xref": "paper",
          "y": 1,
          "yanchor": "bottom",
          "yref": "paper"
         },
         {
          "font": {},
          "showarrow": false,
          "text": "Metric=test_recall",
          "x": 0.755,
          "xanchor": "center",
          "xref": "paper",
          "y": 1,
          "yanchor": "bottom",
          "yref": "paper"
         }
        ],
        "barmode": "relative",
        "height": 300,
        "legend": {
         "tracegroupgap": 0
        },
        "template": {
         "data": {
          "bar": [
           {
            "error_x": {
             "color": "#2a3f5f"
            },
            "error_y": {
             "color": "#2a3f5f"
            },
            "marker": {
             "line": {
              "color": "white",
              "width": 0.5
             },
             "pattern": {
              "fillmode": "overlay",
              "size": 10,
              "solidity": 0.2
             }
            },
            "type": "bar"
           }
          ],
          "barpolar": [
           {
            "marker": {
             "line": {
              "color": "white",
              "width": 0.5
             },
             "pattern": {
              "fillmode": "overlay",
              "size": 10,
              "solidity": 0.2
             }
            },
            "type": "barpolar"
           }
          ],
          "carpet": [
           {
            "aaxis": {
             "endlinecolor": "#2a3f5f",
             "gridcolor": "#C8D4E3",
             "linecolor": "#C8D4E3",
             "minorgridcolor": "#C8D4E3",
             "startlinecolor": "#2a3f5f"
            },
            "baxis": {
             "endlinecolor": "#2a3f5f",
             "gridcolor": "#C8D4E3",
             "linecolor": "#C8D4E3",
             "minorgridcolor": "#C8D4E3",
             "startlinecolor": "#2a3f5f"
            },
            "type": "carpet"
           }
          ],
          "choropleth": [
           {
            "colorbar": {
             "outlinewidth": 0,
             "ticks": ""
            },
            "type": "choropleth"
           }
          ],
          "contour": [
           {
            "colorbar": {
             "outlinewidth": 0,
             "ticks": ""
            },
            "colorscale": [
             [
              0,
              "#0d0887"
             ],
             [
              0.1111111111111111,
              "#46039f"
             ],
             [
              0.2222222222222222,
              "#7201a8"
             ],
             [
              0.3333333333333333,
              "#9c179e"
             ],
             [
              0.4444444444444444,
              "#bd3786"
             ],
             [
              0.5555555555555556,
              "#d8576b"
             ],
             [
              0.6666666666666666,
              "#ed7953"
             ],
             [
              0.7777777777777778,
              "#fb9f3a"
             ],
             [
              0.8888888888888888,
              "#fdca26"
             ],
             [
              1,
              "#f0f921"
             ]
            ],
            "type": "contour"
           }
          ],
          "contourcarpet": [
           {
            "colorbar": {
             "outlinewidth": 0,
             "ticks": ""
            },
            "type": "contourcarpet"
           }
          ],
          "heatmap": [
           {
            "colorbar": {
             "outlinewidth": 0,
             "ticks": ""
            },
            "colorscale": [
             [
              0,
              "#0d0887"
             ],
             [
              0.1111111111111111,
              "#46039f"
             ],
             [
              0.2222222222222222,
              "#7201a8"
             ],
             [
              0.3333333333333333,
              "#9c179e"
             ],
             [
              0.4444444444444444,
              "#bd3786"
             ],
             [
              0.5555555555555556,
              "#d8576b"
             ],
             [
              0.6666666666666666,
              "#ed7953"
             ],
             [
              0.7777777777777778,
              "#fb9f3a"
             ],
             [
              0.8888888888888888,
              "#fdca26"
             ],
             [
              1,
              "#f0f921"
             ]
            ],
            "type": "heatmap"
           }
          ],
          "heatmapgl": [
           {
            "colorbar": {
             "outlinewidth": 0,
             "ticks": ""
            },
            "colorscale": [
             [
              0,
              "#0d0887"
             ],
             [
              0.1111111111111111,
              "#46039f"
             ],
             [
              0.2222222222222222,
              "#7201a8"
             ],
             [
              0.3333333333333333,
              "#9c179e"
             ],
             [
              0.4444444444444444,
              "#bd3786"
             ],
             [
              0.5555555555555556,
              "#d8576b"
             ],
             [
              0.6666666666666666,
              "#ed7953"
             ],
             [
              0.7777777777777778,
              "#fb9f3a"
             ],
             [
              0.8888888888888888,
              "#fdca26"
             ],
             [
              1,
              "#f0f921"
             ]
            ],
            "type": "heatmapgl"
           }
          ],
          "histogram": [
           {
            "marker": {
             "pattern": {
              "fillmode": "overlay",
              "size": 10,
              "solidity": 0.2
             }
            },
            "type": "histogram"
           }
          ],
          "histogram2d": [
           {
            "colorbar": {
             "outlinewidth": 0,
             "ticks": ""
            },
            "colorscale": [
             [
              0,
              "#0d0887"
             ],
             [
              0.1111111111111111,
              "#46039f"
             ],
             [
              0.2222222222222222,
              "#7201a8"
             ],
             [
              0.3333333333333333,
              "#9c179e"
             ],
             [
              0.4444444444444444,
              "#bd3786"
             ],
             [
              0.5555555555555556,
              "#d8576b"
             ],
             [
              0.6666666666666666,
              "#ed7953"
             ],
             [
              0.7777777777777778,
              "#fb9f3a"
             ],
             [
              0.8888888888888888,
              "#fdca26"
             ],
             [
              1,
              "#f0f921"
             ]
            ],
            "type": "histogram2d"
           }
          ],
          "histogram2dcontour": [
           {
            "colorbar": {
             "outlinewidth": 0,
             "ticks": ""
            },
            "colorscale": [
             [
              0,
              "#0d0887"
             ],
             [
              0.1111111111111111,
              "#46039f"
             ],
             [
              0.2222222222222222,
              "#7201a8"
             ],
             [
              0.3333333333333333,
              "#9c179e"
             ],
             [
              0.4444444444444444,
              "#bd3786"
             ],
             [
              0.5555555555555556,
              "#d8576b"
             ],
             [
              0.6666666666666666,
              "#ed7953"
             ],
             [
              0.7777777777777778,
              "#fb9f3a"
             ],
             [
              0.8888888888888888,
              "#fdca26"
             ],
             [
              1,
              "#f0f921"
             ]
            ],
            "type": "histogram2dcontour"
           }
          ],
          "mesh3d": [
           {
            "colorbar": {
             "outlinewidth": 0,
             "ticks": ""
            },
            "type": "mesh3d"
           }
          ],
          "parcoords": [
           {
            "line": {
             "colorbar": {
              "outlinewidth": 0,
              "ticks": ""
             }
            },
            "type": "parcoords"
           }
          ],
          "pie": [
           {
            "automargin": true,
            "type": "pie"
           }
          ],
          "scatter": [
           {
            "fillpattern": {
             "fillmode": "overlay",
             "size": 10,
             "solidity": 0.2
            },
            "type": "scatter"
           }
          ],
          "scatter3d": [
           {
            "line": {
             "colorbar": {
              "outlinewidth": 0,
              "ticks": ""
             }
            },
            "marker": {
             "colorbar": {
              "outlinewidth": 0,
              "ticks": ""
             }
            },
            "type": "scatter3d"
           }
          ],
          "scattercarpet": [
           {
            "marker": {
             "colorbar": {
              "outlinewidth": 0,
              "ticks": ""
             }
            },
            "type": "scattercarpet"
           }
          ],
          "scattergeo": [
           {
            "marker": {
             "colorbar": {
              "outlinewidth": 0,
              "ticks": ""
             }
            },
            "type": "scattergeo"
           }
          ],
          "scattergl": [
           {
            "marker": {
             "colorbar": {
              "outlinewidth": 0,
              "ticks": ""
             }
            },
            "type": "scattergl"
           }
          ],
          "scattermapbox": [
           {
            "marker": {
             "colorbar": {
              "outlinewidth": 0,
              "ticks": ""
             }
            },
            "type": "scattermapbox"
           }
          ],
          "scatterpolar": [
           {
            "marker": {
             "colorbar": {
              "outlinewidth": 0,
              "ticks": ""
             }
            },
            "type": "scatterpolar"
           }
          ],
          "scatterpolargl": [
           {
            "marker": {
             "colorbar": {
              "outlinewidth": 0,
              "ticks": ""
             }
            },
            "type": "scatterpolargl"
           }
          ],
          "scatterternary": [
           {
            "marker": {
             "colorbar": {
              "outlinewidth": 0,
              "ticks": ""
             }
            },
            "type": "scatterternary"
           }
          ],
          "surface": [
           {
            "colorbar": {
             "outlinewidth": 0,
             "ticks": ""
            },
            "colorscale": [
             [
              0,
              "#0d0887"
             ],
             [
              0.1111111111111111,
              "#46039f"
             ],
             [
              0.2222222222222222,
              "#7201a8"
             ],
             [
              0.3333333333333333,
              "#9c179e"
             ],
             [
              0.4444444444444444,
              "#bd3786"
             ],
             [
              0.5555555555555556,
              "#d8576b"
             ],
             [
              0.6666666666666666,
              "#ed7953"
             ],
             [
              0.7777777777777778,
              "#fb9f3a"
             ],
             [
              0.8888888888888888,
              "#fdca26"
             ],
             [
              1,
              "#f0f921"
             ]
            ],
            "type": "surface"
           }
          ],
          "table": [
           {
            "cells": {
             "fill": {
              "color": "#EBF0F8"
             },
             "line": {
              "color": "white"
             }
            },
            "header": {
             "fill": {
              "color": "#C8D4E3"
             },
             "line": {
              "color": "white"
             }
            },
            "type": "table"
           }
          ]
         },
         "layout": {
          "annotationdefaults": {
           "arrowcolor": "#2a3f5f",
           "arrowhead": 0,
           "arrowwidth": 1
          },
          "autotypenumbers": "strict",
          "coloraxis": {
           "colorbar": {
            "outlinewidth": 0,
            "ticks": ""
           }
          },
          "colorscale": {
           "diverging": [
            [
             0,
             "#8e0152"
            ],
            [
             0.1,
             "#c51b7d"
            ],
            [
             0.2,
             "#de77ae"
            ],
            [
             0.3,
             "#f1b6da"
            ],
            [
             0.4,
             "#fde0ef"
            ],
            [
             0.5,
             "#f7f7f7"
            ],
            [
             0.6,
             "#e6f5d0"
            ],
            [
             0.7,
             "#b8e186"
            ],
            [
             0.8,
             "#7fbc41"
            ],
            [
             0.9,
             "#4d9221"
            ],
            [
             1,
             "#276419"
            ]
           ],
           "sequential": [
            [
             0,
             "#0d0887"
            ],
            [
             0.1111111111111111,
             "#46039f"
            ],
            [
             0.2222222222222222,
             "#7201a8"
            ],
            [
             0.3333333333333333,
             "#9c179e"
            ],
            [
             0.4444444444444444,
             "#bd3786"
            ],
            [
             0.5555555555555556,
             "#d8576b"
            ],
            [
             0.6666666666666666,
             "#ed7953"
            ],
            [
             0.7777777777777778,
             "#fb9f3a"
            ],
            [
             0.8888888888888888,
             "#fdca26"
            ],
            [
             1,
             "#f0f921"
            ]
           ],
           "sequentialminus": [
            [
             0,
             "#0d0887"
            ],
            [
             0.1111111111111111,
             "#46039f"
            ],
            [
             0.2222222222222222,
             "#7201a8"
            ],
            [
             0.3333333333333333,
             "#9c179e"
            ],
            [
             0.4444444444444444,
             "#bd3786"
            ],
            [
             0.5555555555555556,
             "#d8576b"
            ],
            [
             0.6666666666666666,
             "#ed7953"
            ],
            [
             0.7777777777777778,
             "#fb9f3a"
            ],
            [
             0.8888888888888888,
             "#fdca26"
            ],
            [
             1,
             "#f0f921"
            ]
           ]
          },
          "colorway": [
           "#636efa",
           "#EF553B",
           "#00cc96",
           "#ab63fa",
           "#FFA15A",
           "#19d3f3",
           "#FF6692",
           "#B6E880",
           "#FF97FF",
           "#FECB52"
          ],
          "font": {
           "color": "#8C8C8C"
          },
          "geo": {
           "bgcolor": "white",
           "lakecolor": "white",
           "landcolor": "white",
           "showlakes": true,
           "showland": true,
           "subunitcolor": "#C8D4E3"
          },
          "hoverlabel": {
           "align": "left"
          },
          "hovermode": "closest",
          "legend": {
           "orientation": "h",
           "x": 0,
           "xanchor": "left",
           "y": -0.2,
           "yanchor": "top"
          },
          "mapbox": {
           "style": "light"
          },
          "margin": {
           "l": 20,
           "r": 20
          },
          "paper_bgcolor": "white",
          "plot_bgcolor": "white",
          "polar": {
           "angularaxis": {
            "gridcolor": "#EBF0F8",
            "linecolor": "#EBF0F8",
            "ticks": ""
           },
           "bgcolor": "white",
           "radialaxis": {
            "gridcolor": "#EBF0F8",
            "linecolor": "#EBF0F8",
            "ticks": ""
           }
          },
          "scene": {
           "xaxis": {
            "backgroundcolor": "white",
            "gridcolor": "#DFE8F3",
            "gridwidth": 2,
            "linecolor": "#EBF0F8",
            "showbackground": true,
            "ticks": "",
            "zerolinecolor": "#EBF0F8"
           },
           "yaxis": {
            "backgroundcolor": "white",
            "gridcolor": "#DFE8F3",
            "gridwidth": 2,
            "linecolor": "#EBF0F8",
            "showbackground": true,
            "ticks": "",
            "zerolinecolor": "#EBF0F8"
           },
           "zaxis": {
            "backgroundcolor": "white",
            "gridcolor": "#DFE8F3",
            "gridwidth": 2,
            "linecolor": "#EBF0F8",
            "showbackground": true,
            "ticks": "",
            "zerolinecolor": "#EBF0F8"
           }
          },
          "shapedefaults": {
           "line": {
            "color": "#2a3f5f"
           }
          },
          "ternary": {
           "aaxis": {
            "gridcolor": "#DFE8F3",
            "linecolor": "#A2B1C6",
            "ticks": ""
           },
           "baxis": {
            "gridcolor": "#DFE8F3",
            "linecolor": "#A2B1C6",
            "ticks": ""
           },
           "bgcolor": "white",
           "caxis": {
            "gridcolor": "#DFE8F3",
            "linecolor": "#A2B1C6",
            "ticks": ""
           }
          },
          "title": {
           "x": 0.05
          },
          "xaxis": {
           "automargin": true,
           "gridcolor": "#EBF0F8",
           "linecolor": "#EBF0F8",
           "ticks": "",
           "title": {
            "standoff": 15
           },
           "zerolinecolor": "#EBF0F8",
           "zerolinewidth": 2
          },
          "yaxis": {
           "automargin": true,
           "gridcolor": "#EBF0F8",
           "linecolor": "#EBF0F8",
           "ticks": "",
           "title": {
            "standoff": 15
           },
           "zerolinecolor": "#EBF0F8",
           "zerolinewidth": 2
          }
         }
        },
        "title": {
         "text": "Model scores"
        },
        "xaxis": {
         "anchor": "y",
         "domain": [
          0,
          0.49
         ],
         "title": {
          "text": "Score"
         }
        },
        "xaxis2": {
         "anchor": "y2",
         "domain": [
          0.51,
          1
         ],
         "title": {
          "text": "Score"
         }
        },
        "yaxis": {
         "anchor": "x",
         "domain": [
          0,
          1
         ],
         "title": {
          "text": ""
         }
        },
        "yaxis2": {
         "anchor": "x2",
         "domain": [
          0,
          1
         ],
         "matches": "y",
         "showticklabels": false
        }
       }
      }
     },
     "metadata": {},
     "output_type": "display_data"
    }
   ],
   "source": [
    "clf.plot.metrics(metrics=[\"recall\", \"precision\"], kind=\"bar\")"
   ]
  },
  {
   "cell_type": "markdown",
   "metadata": {},
   "source": [
    "`plot.overfitness()` shows a measure of how much each estimator is overfitting when comparing test and train scores."
   ]
  },
  {
   "cell_type": "code",
   "execution_count": 5,
   "metadata": {},
   "outputs": [
    {
     "data": {
      "application/vnd.plotly.v1+json": {
       "config": {
        "plotlyServerURL": "https://plot.ly"
       },
       "data": [
        {
         "alignmentgroup": "True",
         "boxpoints": "all",
         "fillcolor": "rgba(255,255,255,0)",
         "hoveron": "points",
         "hovertemplate": "train_f1=%{x}<br>Model=%{y}<extra></extra>",
         "legendgroup": "",
         "line": {
          "color": "rgba(255,255,255,0)"
         },
         "marker": {
          "color": "rgb(127, 60, 141)"
         },
         "name": "",
         "offsetgroup": "",
         "orientation": "v",
         "pointpos": 0,
         "showlegend": false,
         "type": "box",
         "x": [
          1.0023341191276143,
          1.0089699088492134,
          1.0158276854330441
         ],
         "x0": " ",
         "xaxis": "x",
         "y": [
          "LogisticRegression",
          "KNeighbors",
          "RandomForest"
         ],
         "y0": " ",
         "yaxis": "y"
        }
       ],
       "layout": {
        "boxmode": "group",
        "legend": {
         "tracegroupgap": 0
        },
        "template": {
         "data": {
          "bar": [
           {
            "error_x": {
             "color": "#2a3f5f"
            },
            "error_y": {
             "color": "#2a3f5f"
            },
            "marker": {
             "line": {
              "color": "white",
              "width": 0.5
             },
             "pattern": {
              "fillmode": "overlay",
              "size": 10,
              "solidity": 0.2
             }
            },
            "type": "bar"
           }
          ],
          "barpolar": [
           {
            "marker": {
             "line": {
              "color": "white",
              "width": 0.5
             },
             "pattern": {
              "fillmode": "overlay",
              "size": 10,
              "solidity": 0.2
             }
            },
            "type": "barpolar"
           }
          ],
          "carpet": [
           {
            "aaxis": {
             "endlinecolor": "#2a3f5f",
             "gridcolor": "#C8D4E3",
             "linecolor": "#C8D4E3",
             "minorgridcolor": "#C8D4E3",
             "startlinecolor": "#2a3f5f"
            },
            "baxis": {
             "endlinecolor": "#2a3f5f",
             "gridcolor": "#C8D4E3",
             "linecolor": "#C8D4E3",
             "minorgridcolor": "#C8D4E3",
             "startlinecolor": "#2a3f5f"
            },
            "type": "carpet"
           }
          ],
          "choropleth": [
           {
            "colorbar": {
             "outlinewidth": 0,
             "ticks": ""
            },
            "type": "choropleth"
           }
          ],
          "contour": [
           {
            "colorbar": {
             "outlinewidth": 0,
             "ticks": ""
            },
            "colorscale": [
             [
              0,
              "#0d0887"
             ],
             [
              0.1111111111111111,
              "#46039f"
             ],
             [
              0.2222222222222222,
              "#7201a8"
             ],
             [
              0.3333333333333333,
              "#9c179e"
             ],
             [
              0.4444444444444444,
              "#bd3786"
             ],
             [
              0.5555555555555556,
              "#d8576b"
             ],
             [
              0.6666666666666666,
              "#ed7953"
             ],
             [
              0.7777777777777778,
              "#fb9f3a"
             ],
             [
              0.8888888888888888,
              "#fdca26"
             ],
             [
              1,
              "#f0f921"
             ]
            ],
            "type": "contour"
           }
          ],
          "contourcarpet": [
           {
            "colorbar": {
             "outlinewidth": 0,
             "ticks": ""
            },
            "type": "contourcarpet"
           }
          ],
          "heatmap": [
           {
            "colorbar": {
             "outlinewidth": 0,
             "ticks": ""
            },
            "colorscale": [
             [
              0,
              "#0d0887"
             ],
             [
              0.1111111111111111,
              "#46039f"
             ],
             [
              0.2222222222222222,
              "#7201a8"
             ],
             [
              0.3333333333333333,
              "#9c179e"
             ],
             [
              0.4444444444444444,
              "#bd3786"
             ],
             [
              0.5555555555555556,
              "#d8576b"
             ],
             [
              0.6666666666666666,
              "#ed7953"
             ],
             [
              0.7777777777777778,
              "#fb9f3a"
             ],
             [
              0.8888888888888888,
              "#fdca26"
             ],
             [
              1,
              "#f0f921"
             ]
            ],
            "type": "heatmap"
           }
          ],
          "heatmapgl": [
           {
            "colorbar": {
             "outlinewidth": 0,
             "ticks": ""
            },
            "colorscale": [
             [
              0,
              "#0d0887"
             ],
             [
              0.1111111111111111,
              "#46039f"
             ],
             [
              0.2222222222222222,
              "#7201a8"
             ],
             [
              0.3333333333333333,
              "#9c179e"
             ],
             [
              0.4444444444444444,
              "#bd3786"
             ],
             [
              0.5555555555555556,
              "#d8576b"
             ],
             [
              0.6666666666666666,
              "#ed7953"
             ],
             [
              0.7777777777777778,
              "#fb9f3a"
             ],
             [
              0.8888888888888888,
              "#fdca26"
             ],
             [
              1,
              "#f0f921"
             ]
            ],
            "type": "heatmapgl"
           }
          ],
          "histogram": [
           {
            "marker": {
             "pattern": {
              "fillmode": "overlay",
              "size": 10,
              "solidity": 0.2
             }
            },
            "type": "histogram"
           }
          ],
          "histogram2d": [
           {
            "colorbar": {
             "outlinewidth": 0,
             "ticks": ""
            },
            "colorscale": [
             [
              0,
              "#0d0887"
             ],
             [
              0.1111111111111111,
              "#46039f"
             ],
             [
              0.2222222222222222,
              "#7201a8"
             ],
             [
              0.3333333333333333,
              "#9c179e"
             ],
             [
              0.4444444444444444,
              "#bd3786"
             ],
             [
              0.5555555555555556,
              "#d8576b"
             ],
             [
              0.6666666666666666,
              "#ed7953"
             ],
             [
              0.7777777777777778,
              "#fb9f3a"
             ],
             [
              0.8888888888888888,
              "#fdca26"
             ],
             [
              1,
              "#f0f921"
             ]
            ],
            "type": "histogram2d"
           }
          ],
          "histogram2dcontour": [
           {
            "colorbar": {
             "outlinewidth": 0,
             "ticks": ""
            },
            "colorscale": [
             [
              0,
              "#0d0887"
             ],
             [
              0.1111111111111111,
              "#46039f"
             ],
             [
              0.2222222222222222,
              "#7201a8"
             ],
             [
              0.3333333333333333,
              "#9c179e"
             ],
             [
              0.4444444444444444,
              "#bd3786"
             ],
             [
              0.5555555555555556,
              "#d8576b"
             ],
             [
              0.6666666666666666,
              "#ed7953"
             ],
             [
              0.7777777777777778,
              "#fb9f3a"
             ],
             [
              0.8888888888888888,
              "#fdca26"
             ],
             [
              1,
              "#f0f921"
             ]
            ],
            "type": "histogram2dcontour"
           }
          ],
          "mesh3d": [
           {
            "colorbar": {
             "outlinewidth": 0,
             "ticks": ""
            },
            "type": "mesh3d"
           }
          ],
          "parcoords": [
           {
            "line": {
             "colorbar": {
              "outlinewidth": 0,
              "ticks": ""
             }
            },
            "type": "parcoords"
           }
          ],
          "pie": [
           {
            "automargin": true,
            "type": "pie"
           }
          ],
          "scatter": [
           {
            "fillpattern": {
             "fillmode": "overlay",
             "size": 10,
             "solidity": 0.2
            },
            "type": "scatter"
           }
          ],
          "scatter3d": [
           {
            "line": {
             "colorbar": {
              "outlinewidth": 0,
              "ticks": ""
             }
            },
            "marker": {
             "colorbar": {
              "outlinewidth": 0,
              "ticks": ""
             }
            },
            "type": "scatter3d"
           }
          ],
          "scattercarpet": [
           {
            "marker": {
             "colorbar": {
              "outlinewidth": 0,
              "ticks": ""
             }
            },
            "type": "scattercarpet"
           }
          ],
          "scattergeo": [
           {
            "marker": {
             "colorbar": {
              "outlinewidth": 0,
              "ticks": ""
             }
            },
            "type": "scattergeo"
           }
          ],
          "scattergl": [
           {
            "marker": {
             "colorbar": {
              "outlinewidth": 0,
              "ticks": ""
             }
            },
            "type": "scattergl"
           }
          ],
          "scattermapbox": [
           {
            "marker": {
             "colorbar": {
              "outlinewidth": 0,
              "ticks": ""
             }
            },
            "type": "scattermapbox"
           }
          ],
          "scatterpolar": [
           {
            "marker": {
             "colorbar": {
              "outlinewidth": 0,
              "ticks": ""
             }
            },
            "type": "scatterpolar"
           }
          ],
          "scatterpolargl": [
           {
            "marker": {
             "colorbar": {
              "outlinewidth": 0,
              "ticks": ""
             }
            },
            "type": "scatterpolargl"
           }
          ],
          "scatterternary": [
           {
            "marker": {
             "colorbar": {
              "outlinewidth": 0,
              "ticks": ""
             }
            },
            "type": "scatterternary"
           }
          ],
          "surface": [
           {
            "colorbar": {
             "outlinewidth": 0,
             "ticks": ""
            },
            "colorscale": [
             [
              0,
              "#0d0887"
             ],
             [
              0.1111111111111111,
              "#46039f"
             ],
             [
              0.2222222222222222,
              "#7201a8"
             ],
             [
              0.3333333333333333,
              "#9c179e"
             ],
             [
              0.4444444444444444,
              "#bd3786"
             ],
             [
              0.5555555555555556,
              "#d8576b"
             ],
             [
              0.6666666666666666,
              "#ed7953"
             ],
             [
              0.7777777777777778,
              "#fb9f3a"
             ],
             [
              0.8888888888888888,
              "#fdca26"
             ],
             [
              1,
              "#f0f921"
             ]
            ],
            "type": "surface"
           }
          ],
          "table": [
           {
            "cells": {
             "fill": {
              "color": "#EBF0F8"
             },
             "line": {
              "color": "white"
             }
            },
            "header": {
             "fill": {
              "color": "#C8D4E3"
             },
             "line": {
              "color": "white"
             }
            },
            "type": "table"
           }
          ]
         },
         "layout": {
          "annotationdefaults": {
           "arrowcolor": "#2a3f5f",
           "arrowhead": 0,
           "arrowwidth": 1
          },
          "autotypenumbers": "strict",
          "coloraxis": {
           "colorbar": {
            "outlinewidth": 0,
            "ticks": ""
           }
          },
          "colorscale": {
           "diverging": [
            [
             0,
             "#8e0152"
            ],
            [
             0.1,
             "#c51b7d"
            ],
            [
             0.2,
             "#de77ae"
            ],
            [
             0.3,
             "#f1b6da"
            ],
            [
             0.4,
             "#fde0ef"
            ],
            [
             0.5,
             "#f7f7f7"
            ],
            [
             0.6,
             "#e6f5d0"
            ],
            [
             0.7,
             "#b8e186"
            ],
            [
             0.8,
             "#7fbc41"
            ],
            [
             0.9,
             "#4d9221"
            ],
            [
             1,
             "#276419"
            ]
           ],
           "sequential": [
            [
             0,
             "#0d0887"
            ],
            [
             0.1111111111111111,
             "#46039f"
            ],
            [
             0.2222222222222222,
             "#7201a8"
            ],
            [
             0.3333333333333333,
             "#9c179e"
            ],
            [
             0.4444444444444444,
             "#bd3786"
            ],
            [
             0.5555555555555556,
             "#d8576b"
            ],
            [
             0.6666666666666666,
             "#ed7953"
            ],
            [
             0.7777777777777778,
             "#fb9f3a"
            ],
            [
             0.8888888888888888,
             "#fdca26"
            ],
            [
             1,
             "#f0f921"
            ]
           ],
           "sequentialminus": [
            [
             0,
             "#0d0887"
            ],
            [
             0.1111111111111111,
             "#46039f"
            ],
            [
             0.2222222222222222,
             "#7201a8"
            ],
            [
             0.3333333333333333,
             "#9c179e"
            ],
            [
             0.4444444444444444,
             "#bd3786"
            ],
            [
             0.5555555555555556,
             "#d8576b"
            ],
            [
             0.6666666666666666,
             "#ed7953"
            ],
            [
             0.7777777777777778,
             "#fb9f3a"
            ],
            [
             0.8888888888888888,
             "#fdca26"
            ],
            [
             1,
             "#f0f921"
            ]
           ]
          },
          "colorway": [
           "#636efa",
           "#EF553B",
           "#00cc96",
           "#ab63fa",
           "#FFA15A",
           "#19d3f3",
           "#FF6692",
           "#B6E880",
           "#FF97FF",
           "#FECB52"
          ],
          "font": {
           "color": "#8C8C8C"
          },
          "geo": {
           "bgcolor": "white",
           "lakecolor": "white",
           "landcolor": "white",
           "showlakes": true,
           "showland": true,
           "subunitcolor": "#C8D4E3"
          },
          "hoverlabel": {
           "align": "left"
          },
          "hovermode": "closest",
          "legend": {
           "orientation": "h",
           "x": 0,
           "xanchor": "left",
           "y": -0.2,
           "yanchor": "top"
          },
          "mapbox": {
           "style": "light"
          },
          "margin": {
           "l": 20,
           "r": 20
          },
          "paper_bgcolor": "white",
          "plot_bgcolor": "white",
          "polar": {
           "angularaxis": {
            "gridcolor": "#EBF0F8",
            "linecolor": "#EBF0F8",
            "ticks": ""
           },
           "bgcolor": "white",
           "radialaxis": {
            "gridcolor": "#EBF0F8",
            "linecolor": "#EBF0F8",
            "ticks": ""
           }
          },
          "scene": {
           "xaxis": {
            "backgroundcolor": "white",
            "gridcolor": "#DFE8F3",
            "gridwidth": 2,
            "linecolor": "#EBF0F8",
            "showbackground": true,
            "ticks": "",
            "zerolinecolor": "#EBF0F8"
           },
           "yaxis": {
            "backgroundcolor": "white",
            "gridcolor": "#DFE8F3",
            "gridwidth": 2,
            "linecolor": "#EBF0F8",
            "showbackground": true,
            "ticks": "",
            "zerolinecolor": "#EBF0F8"
           },
           "zaxis": {
            "backgroundcolor": "white",
            "gridcolor": "#DFE8F3",
            "gridwidth": 2,
            "linecolor": "#EBF0F8",
            "showbackground": true,
            "ticks": "",
            "zerolinecolor": "#EBF0F8"
           }
          },
          "shapedefaults": {
           "line": {
            "color": "#2a3f5f"
           }
          },
          "ternary": {
           "aaxis": {
            "gridcolor": "#DFE8F3",
            "linecolor": "#A2B1C6",
            "ticks": ""
           },
           "baxis": {
            "gridcolor": "#DFE8F3",
            "linecolor": "#A2B1C6",
            "ticks": ""
           },
           "bgcolor": "white",
           "caxis": {
            "gridcolor": "#DFE8F3",
            "linecolor": "#A2B1C6",
            "ticks": ""
           }
          },
          "title": {
           "x": 0.05
          },
          "xaxis": {
           "automargin": true,
           "gridcolor": "#EBF0F8",
           "linecolor": "#EBF0F8",
           "ticks": "",
           "title": {
            "standoff": 15
           },
           "zerolinecolor": "#EBF0F8",
           "zerolinewidth": 2
          },
          "yaxis": {
           "automargin": true,
           "gridcolor": "#EBF0F8",
           "linecolor": "#EBF0F8",
           "ticks": "",
           "title": {
            "standoff": 15
           },
           "zerolinecolor": "#EBF0F8",
           "zerolinewidth": 2
          }
         }
        },
        "title": {
         "text": "f1 overfitness"
        },
        "xaxis": {
         "anchor": "y",
         "domain": [
          0,
          1
         ],
         "title": {
          "text": "Train / test ratio"
         }
        },
        "yaxis": {
         "anchor": "x",
         "domain": [
          0,
          1
         ],
         "title": {
          "text": ""
         }
        }
       }
      }
     },
     "metadata": {},
     "output_type": "display_data"
    }
   ],
   "source": [
    "clf.plot.overfitness(metric=\"f1\")"
   ]
  },
  {
   "cell_type": "markdown",
   "metadata": {},
   "source": [
    "## Based on cross validated predictions\n",
    "\n",
    "Some of the plots require that predictions are obtained for the relevant estimators. These methods will automatically run the predictions using scikit-learn's `cross_val_predict()`.\n",
    "\n",
    "Each of these will add keys to the cross validation results dict created when calling `fit()` which will be used for the plots that require them."
   ]
  },
  {
   "cell_type": "code",
   "execution_count": 6,
   "metadata": {},
   "outputs": [
    {
     "name": "stderr",
     "output_type": "stream",
     "text": [
      "Completed: 100%|██████████| 1/1 [00:00<00:00, 19.09it/s]   \n"
     ]
    },
    {
     "data": {
      "application/vnd.plotly.v1+json": {
       "config": {
        "plotlyServerURL": "https://plot.ly"
       },
       "data": [
        {
         "coloraxis": "coloraxis",
         "hovertemplate": "Predicted: %{x}<br>Ground truth: %{y}<br>Count: %{z}<extra></extra>",
         "name": "0",
         "texttemplate": "%{z}",
         "type": "heatmap",
         "xaxis": "x",
         "yaxis": "y",
         "z": [
          [
           266,
           12
          ],
          [
           3,
           219
          ]
         ]
        }
       ],
       "layout": {
        "coloraxis": {
         "colorbar": {
          "title": {
           "text": "Count"
          }
         },
         "colorscale": [
          [
           0,
           "rgb(247,251,255)"
          ],
          [
           0.125,
           "rgb(222,235,247)"
          ],
          [
           0.25,
           "rgb(198,219,239)"
          ],
          [
           0.375,
           "rgb(158,202,225)"
          ],
          [
           0.5,
           "rgb(107,174,214)"
          ],
          [
           0.625,
           "rgb(66,146,198)"
          ],
          [
           0.75,
           "rgb(33,113,181)"
          ],
          [
           0.875,
           "rgb(8,81,156)"
          ],
          [
           1,
           "rgb(8,48,107)"
          ]
         ],
         "showscale": false
        },
        "template": {
         "data": {
          "bar": [
           {
            "error_x": {
             "color": "#2a3f5f"
            },
            "error_y": {
             "color": "#2a3f5f"
            },
            "marker": {
             "line": {
              "color": "white",
              "width": 0.5
             },
             "pattern": {
              "fillmode": "overlay",
              "size": 10,
              "solidity": 0.2
             }
            },
            "type": "bar"
           }
          ],
          "barpolar": [
           {
            "marker": {
             "line": {
              "color": "white",
              "width": 0.5
             },
             "pattern": {
              "fillmode": "overlay",
              "size": 10,
              "solidity": 0.2
             }
            },
            "type": "barpolar"
           }
          ],
          "carpet": [
           {
            "aaxis": {
             "endlinecolor": "#2a3f5f",
             "gridcolor": "#C8D4E3",
             "linecolor": "#C8D4E3",
             "minorgridcolor": "#C8D4E3",
             "startlinecolor": "#2a3f5f"
            },
            "baxis": {
             "endlinecolor": "#2a3f5f",
             "gridcolor": "#C8D4E3",
             "linecolor": "#C8D4E3",
             "minorgridcolor": "#C8D4E3",
             "startlinecolor": "#2a3f5f"
            },
            "type": "carpet"
           }
          ],
          "choropleth": [
           {
            "colorbar": {
             "outlinewidth": 0,
             "ticks": ""
            },
            "type": "choropleth"
           }
          ],
          "contour": [
           {
            "colorbar": {
             "outlinewidth": 0,
             "ticks": ""
            },
            "colorscale": [
             [
              0,
              "#0d0887"
             ],
             [
              0.1111111111111111,
              "#46039f"
             ],
             [
              0.2222222222222222,
              "#7201a8"
             ],
             [
              0.3333333333333333,
              "#9c179e"
             ],
             [
              0.4444444444444444,
              "#bd3786"
             ],
             [
              0.5555555555555556,
              "#d8576b"
             ],
             [
              0.6666666666666666,
              "#ed7953"
             ],
             [
              0.7777777777777778,
              "#fb9f3a"
             ],
             [
              0.8888888888888888,
              "#fdca26"
             ],
             [
              1,
              "#f0f921"
             ]
            ],
            "type": "contour"
           }
          ],
          "contourcarpet": [
           {
            "colorbar": {
             "outlinewidth": 0,
             "ticks": ""
            },
            "type": "contourcarpet"
           }
          ],
          "heatmap": [
           {
            "colorbar": {
             "outlinewidth": 0,
             "ticks": ""
            },
            "colorscale": [
             [
              0,
              "#0d0887"
             ],
             [
              0.1111111111111111,
              "#46039f"
             ],
             [
              0.2222222222222222,
              "#7201a8"
             ],
             [
              0.3333333333333333,
              "#9c179e"
             ],
             [
              0.4444444444444444,
              "#bd3786"
             ],
             [
              0.5555555555555556,
              "#d8576b"
             ],
             [
              0.6666666666666666,
              "#ed7953"
             ],
             [
              0.7777777777777778,
              "#fb9f3a"
             ],
             [
              0.8888888888888888,
              "#fdca26"
             ],
             [
              1,
              "#f0f921"
             ]
            ],
            "type": "heatmap"
           }
          ],
          "heatmapgl": [
           {
            "colorbar": {
             "outlinewidth": 0,
             "ticks": ""
            },
            "colorscale": [
             [
              0,
              "#0d0887"
             ],
             [
              0.1111111111111111,
              "#46039f"
             ],
             [
              0.2222222222222222,
              "#7201a8"
             ],
             [
              0.3333333333333333,
              "#9c179e"
             ],
             [
              0.4444444444444444,
              "#bd3786"
             ],
             [
              0.5555555555555556,
              "#d8576b"
             ],
             [
              0.6666666666666666,
              "#ed7953"
             ],
             [
              0.7777777777777778,
              "#fb9f3a"
             ],
             [
              0.8888888888888888,
              "#fdca26"
             ],
             [
              1,
              "#f0f921"
             ]
            ],
            "type": "heatmapgl"
           }
          ],
          "histogram": [
           {
            "marker": {
             "pattern": {
              "fillmode": "overlay",
              "size": 10,
              "solidity": 0.2
             }
            },
            "type": "histogram"
           }
          ],
          "histogram2d": [
           {
            "colorbar": {
             "outlinewidth": 0,
             "ticks": ""
            },
            "colorscale": [
             [
              0,
              "#0d0887"
             ],
             [
              0.1111111111111111,
              "#46039f"
             ],
             [
              0.2222222222222222,
              "#7201a8"
             ],
             [
              0.3333333333333333,
              "#9c179e"
             ],
             [
              0.4444444444444444,
              "#bd3786"
             ],
             [
              0.5555555555555556,
              "#d8576b"
             ],
             [
              0.6666666666666666,
              "#ed7953"
             ],
             [
              0.7777777777777778,
              "#fb9f3a"
             ],
             [
              0.8888888888888888,
              "#fdca26"
             ],
             [
              1,
              "#f0f921"
             ]
            ],
            "type": "histogram2d"
           }
          ],
          "histogram2dcontour": [
           {
            "colorbar": {
             "outlinewidth": 0,
             "ticks": ""
            },
            "colorscale": [
             [
              0,
              "#0d0887"
             ],
             [
              0.1111111111111111,
              "#46039f"
             ],
             [
              0.2222222222222222,
              "#7201a8"
             ],
             [
              0.3333333333333333,
              "#9c179e"
             ],
             [
              0.4444444444444444,
              "#bd3786"
             ],
             [
              0.5555555555555556,
              "#d8576b"
             ],
             [
              0.6666666666666666,
              "#ed7953"
             ],
             [
              0.7777777777777778,
              "#fb9f3a"
             ],
             [
              0.8888888888888888,
              "#fdca26"
             ],
             [
              1,
              "#f0f921"
             ]
            ],
            "type": "histogram2dcontour"
           }
          ],
          "mesh3d": [
           {
            "colorbar": {
             "outlinewidth": 0,
             "ticks": ""
            },
            "type": "mesh3d"
           }
          ],
          "parcoords": [
           {
            "line": {
             "colorbar": {
              "outlinewidth": 0,
              "ticks": ""
             }
            },
            "type": "parcoords"
           }
          ],
          "pie": [
           {
            "automargin": true,
            "type": "pie"
           }
          ],
          "scatter": [
           {
            "fillpattern": {
             "fillmode": "overlay",
             "size": 10,
             "solidity": 0.2
            },
            "type": "scatter"
           }
          ],
          "scatter3d": [
           {
            "line": {
             "colorbar": {
              "outlinewidth": 0,
              "ticks": ""
             }
            },
            "marker": {
             "colorbar": {
              "outlinewidth": 0,
              "ticks": ""
             }
            },
            "type": "scatter3d"
           }
          ],
          "scattercarpet": [
           {
            "marker": {
             "colorbar": {
              "outlinewidth": 0,
              "ticks": ""
             }
            },
            "type": "scattercarpet"
           }
          ],
          "scattergeo": [
           {
            "marker": {
             "colorbar": {
              "outlinewidth": 0,
              "ticks": ""
             }
            },
            "type": "scattergeo"
           }
          ],
          "scattergl": [
           {
            "marker": {
             "colorbar": {
              "outlinewidth": 0,
              "ticks": ""
             }
            },
            "type": "scattergl"
           }
          ],
          "scattermapbox": [
           {
            "marker": {
             "colorbar": {
              "outlinewidth": 0,
              "ticks": ""
             }
            },
            "type": "scattermapbox"
           }
          ],
          "scatterpolar": [
           {
            "marker": {
             "colorbar": {
              "outlinewidth": 0,
              "ticks": ""
             }
            },
            "type": "scatterpolar"
           }
          ],
          "scatterpolargl": [
           {
            "marker": {
             "colorbar": {
              "outlinewidth": 0,
              "ticks": ""
             }
            },
            "type": "scatterpolargl"
           }
          ],
          "scatterternary": [
           {
            "marker": {
             "colorbar": {
              "outlinewidth": 0,
              "ticks": ""
             }
            },
            "type": "scatterternary"
           }
          ],
          "surface": [
           {
            "colorbar": {
             "outlinewidth": 0,
             "ticks": ""
            },
            "colorscale": [
             [
              0,
              "#0d0887"
             ],
             [
              0.1111111111111111,
              "#46039f"
             ],
             [
              0.2222222222222222,
              "#7201a8"
             ],
             [
              0.3333333333333333,
              "#9c179e"
             ],
             [
              0.4444444444444444,
              "#bd3786"
             ],
             [
              0.5555555555555556,
              "#d8576b"
             ],
             [
              0.6666666666666666,
              "#ed7953"
             ],
             [
              0.7777777777777778,
              "#fb9f3a"
             ],
             [
              0.8888888888888888,
              "#fdca26"
             ],
             [
              1,
              "#f0f921"
             ]
            ],
            "type": "surface"
           }
          ],
          "table": [
           {
            "cells": {
             "fill": {
              "color": "#EBF0F8"
             },
             "line": {
              "color": "white"
             }
            },
            "header": {
             "fill": {
              "color": "#C8D4E3"
             },
             "line": {
              "color": "white"
             }
            },
            "type": "table"
           }
          ]
         },
         "layout": {
          "annotationdefaults": {
           "arrowcolor": "#2a3f5f",
           "arrowhead": 0,
           "arrowwidth": 1
          },
          "autotypenumbers": "strict",
          "coloraxis": {
           "colorbar": {
            "outlinewidth": 0,
            "ticks": ""
           }
          },
          "colorscale": {
           "diverging": [
            [
             0,
             "#8e0152"
            ],
            [
             0.1,
             "#c51b7d"
            ],
            [
             0.2,
             "#de77ae"
            ],
            [
             0.3,
             "#f1b6da"
            ],
            [
             0.4,
             "#fde0ef"
            ],
            [
             0.5,
             "#f7f7f7"
            ],
            [
             0.6,
             "#e6f5d0"
            ],
            [
             0.7,
             "#b8e186"
            ],
            [
             0.8,
             "#7fbc41"
            ],
            [
             0.9,
             "#4d9221"
            ],
            [
             1,
             "#276419"
            ]
           ],
           "sequential": [
            [
             0,
             "#0d0887"
            ],
            [
             0.1111111111111111,
             "#46039f"
            ],
            [
             0.2222222222222222,
             "#7201a8"
            ],
            [
             0.3333333333333333,
             "#9c179e"
            ],
            [
             0.4444444444444444,
             "#bd3786"
            ],
            [
             0.5555555555555556,
             "#d8576b"
            ],
            [
             0.6666666666666666,
             "#ed7953"
            ],
            [
             0.7777777777777778,
             "#fb9f3a"
            ],
            [
             0.8888888888888888,
             "#fdca26"
            ],
            [
             1,
             "#f0f921"
            ]
           ],
           "sequentialminus": [
            [
             0,
             "#0d0887"
            ],
            [
             0.1111111111111111,
             "#46039f"
            ],
            [
             0.2222222222222222,
             "#7201a8"
            ],
            [
             0.3333333333333333,
             "#9c179e"
            ],
            [
             0.4444444444444444,
             "#bd3786"
            ],
            [
             0.5555555555555556,
             "#d8576b"
            ],
            [
             0.6666666666666666,
             "#ed7953"
            ],
            [
             0.7777777777777778,
             "#fb9f3a"
            ],
            [
             0.8888888888888888,
             "#fdca26"
            ],
            [
             1,
             "#f0f921"
            ]
           ]
          },
          "colorway": [
           "#636efa",
           "#EF553B",
           "#00cc96",
           "#ab63fa",
           "#FFA15A",
           "#19d3f3",
           "#FF6692",
           "#B6E880",
           "#FF97FF",
           "#FECB52"
          ],
          "font": {
           "color": "#8C8C8C"
          },
          "geo": {
           "bgcolor": "white",
           "lakecolor": "white",
           "landcolor": "white",
           "showlakes": true,
           "showland": true,
           "subunitcolor": "#C8D4E3"
          },
          "hoverlabel": {
           "align": "left"
          },
          "hovermode": "closest",
          "legend": {
           "orientation": "h",
           "x": 0,
           "xanchor": "left",
           "y": -0.2,
           "yanchor": "top"
          },
          "mapbox": {
           "style": "light"
          },
          "margin": {
           "l": 20,
           "r": 20
          },
          "paper_bgcolor": "white",
          "plot_bgcolor": "white",
          "polar": {
           "angularaxis": {
            "gridcolor": "#EBF0F8",
            "linecolor": "#EBF0F8",
            "ticks": ""
           },
           "bgcolor": "white",
           "radialaxis": {
            "gridcolor": "#EBF0F8",
            "linecolor": "#EBF0F8",
            "ticks": ""
           }
          },
          "scene": {
           "xaxis": {
            "backgroundcolor": "white",
            "gridcolor": "#DFE8F3",
            "gridwidth": 2,
            "linecolor": "#EBF0F8",
            "showbackground": true,
            "ticks": "",
            "zerolinecolor": "#EBF0F8"
           },
           "yaxis": {
            "backgroundcolor": "white",
            "gridcolor": "#DFE8F3",
            "gridwidth": 2,
            "linecolor": "#EBF0F8",
            "showbackground": true,
            "ticks": "",
            "zerolinecolor": "#EBF0F8"
           },
           "zaxis": {
            "backgroundcolor": "white",
            "gridcolor": "#DFE8F3",
            "gridwidth": 2,
            "linecolor": "#EBF0F8",
            "showbackground": true,
            "ticks": "",
            "zerolinecolor": "#EBF0F8"
           }
          },
          "shapedefaults": {
           "line": {
            "color": "#2a3f5f"
           }
          },
          "ternary": {
           "aaxis": {
            "gridcolor": "#DFE8F3",
            "linecolor": "#A2B1C6",
            "ticks": ""
           },
           "baxis": {
            "gridcolor": "#DFE8F3",
            "linecolor": "#A2B1C6",
            "ticks": ""
           },
           "bgcolor": "white",
           "caxis": {
            "gridcolor": "#DFE8F3",
            "linecolor": "#A2B1C6",
            "ticks": ""
           }
          },
          "title": {
           "x": 0.05
          },
          "xaxis": {
           "automargin": true,
           "gridcolor": "#EBF0F8",
           "linecolor": "#EBF0F8",
           "ticks": "",
           "title": {
            "standoff": 15
           },
           "zerolinecolor": "#EBF0F8",
           "zerolinewidth": 2
          },
          "yaxis": {
           "automargin": true,
           "gridcolor": "#EBF0F8",
           "linecolor": "#EBF0F8",
           "ticks": "",
           "title": {
            "standoff": 15
           },
           "zerolinecolor": "#EBF0F8",
           "zerolinewidth": 2
          }
         }
        },
        "title": {
         "text": "Confusion matrix with cross-validated predictions"
        },
        "xaxis": {
         "anchor": "y",
         "constrain": "domain",
         "domain": [
          0,
          1
         ],
         "nticks": 3,
         "scaleanchor": "y",
         "title": {
          "text": "Predicted"
         }
        },
        "yaxis": {
         "anchor": "x",
         "autorange": "reversed",
         "constrain": "domain",
         "domain": [
          0,
          1
         ],
         "nticks": 3,
         "title": {
          "text": "Ground truth"
         }
        }
       }
      }
     },
     "metadata": {},
     "output_type": "display_data"
    }
   ],
   "source": [
    "clf.plot.confusion_matrix(\"KNeighborsClassifier\")"
   ]
  },
  {
   "cell_type": "code",
   "execution_count": 7,
   "metadata": {},
   "outputs": [
    {
     "name": "stdout",
     "output_type": "stream",
     "text": [
      "Target info\n",
      "-----------\n",
      "Type: binary\n",
      "Shape: (569,)\n",
      "Unique values: 2\n",
      "\n",
      "Main metric\n",
      "-----------\n",
      "roc_auc\n",
      "\n",
      "Thresholds\n",
      "----------\n",
      "Minimum unique values to consider a feature numeric: 56\n",
      "Minimum unique values to consider a categorical high cardinality: 20\n",
      "\n",
      "Inferred feature types\n",
      "----------------------\n"
     ]
    },
    {
     "data": {
      "text/html": [
       "<table border=\"1\" class=\"dataframe\">\n",
       "  <thead>\n",
       "    <tr style=\"text-align: right;\">\n",
       "      <th></th>\n",
       "      <th>numeric</th>\n",
       "      <th>categorical_high</th>\n",
       "      <th>categorical_low</th>\n",
       "      <th>datetime</th>\n",
       "    </tr>\n",
       "  </thead>\n",
       "  <tbody>\n",
       "    <tr>\n",
       "      <th>0</th>\n",
       "      <td>mean radius</td>\n",
       "      <td></td>\n",
       "      <td></td>\n",
       "      <td></td>\n",
       "    </tr>\n",
       "    <tr>\n",
       "      <th>1</th>\n",
       "      <td>mean texture</td>\n",
       "      <td></td>\n",
       "      <td></td>\n",
       "      <td></td>\n",
       "    </tr>\n",
       "    <tr>\n",
       "      <th>2</th>\n",
       "      <td>mean perimeter</td>\n",
       "      <td></td>\n",
       "      <td></td>\n",
       "      <td></td>\n",
       "    </tr>\n",
       "    <tr>\n",
       "      <th>3</th>\n",
       "      <td>mean area</td>\n",
       "      <td></td>\n",
       "      <td></td>\n",
       "      <td></td>\n",
       "    </tr>\n",
       "    <tr>\n",
       "      <th>4</th>\n",
       "      <td>mean smoothness</td>\n",
       "      <td></td>\n",
       "      <td></td>\n",
       "      <td></td>\n",
       "    </tr>\n",
       "    <tr>\n",
       "      <th>5</th>\n",
       "      <td>mean compactness</td>\n",
       "      <td></td>\n",
       "      <td></td>\n",
       "      <td></td>\n",
       "    </tr>\n",
       "    <tr>\n",
       "      <th>6</th>\n",
       "      <td>mean concavity</td>\n",
       "      <td></td>\n",
       "      <td></td>\n",
       "      <td></td>\n",
       "    </tr>\n",
       "    <tr>\n",
       "      <th>7</th>\n",
       "      <td>mean concave points</td>\n",
       "      <td></td>\n",
       "      <td></td>\n",
       "      <td></td>\n",
       "    </tr>\n",
       "    <tr>\n",
       "      <th>8</th>\n",
       "      <td>mean symmetry</td>\n",
       "      <td></td>\n",
       "      <td></td>\n",
       "      <td></td>\n",
       "    </tr>\n",
       "    <tr>\n",
       "      <th>9</th>\n",
       "      <td>mean fractal dimension</td>\n",
       "      <td></td>\n",
       "      <td></td>\n",
       "      <td></td>\n",
       "    </tr>\n",
       "    <tr>\n",
       "      <th>10</th>\n",
       "      <td>radius error</td>\n",
       "      <td></td>\n",
       "      <td></td>\n",
       "      <td></td>\n",
       "    </tr>\n",
       "    <tr>\n",
       "      <th>11</th>\n",
       "      <td>texture error</td>\n",
       "      <td></td>\n",
       "      <td></td>\n",
       "      <td></td>\n",
       "    </tr>\n",
       "    <tr>\n",
       "      <th>12</th>\n",
       "      <td>perimeter error</td>\n",
       "      <td></td>\n",
       "      <td></td>\n",
       "      <td></td>\n",
       "    </tr>\n",
       "    <tr>\n",
       "      <th>13</th>\n",
       "      <td>area error</td>\n",
       "      <td></td>\n",
       "      <td></td>\n",
       "      <td></td>\n",
       "    </tr>\n",
       "    <tr>\n",
       "      <th>14</th>\n",
       "      <td>smoothness error</td>\n",
       "      <td></td>\n",
       "      <td></td>\n",
       "      <td></td>\n",
       "    </tr>\n",
       "    <tr>\n",
       "      <th>15</th>\n",
       "      <td>compactness error</td>\n",
       "      <td></td>\n",
       "      <td></td>\n",
       "      <td></td>\n",
       "    </tr>\n",
       "    <tr>\n",
       "      <th>16</th>\n",
       "      <td>concavity error</td>\n",
       "      <td></td>\n",
       "      <td></td>\n",
       "      <td></td>\n",
       "    </tr>\n",
       "    <tr>\n",
       "      <th>17</th>\n",
       "      <td>concave points error</td>\n",
       "      <td></td>\n",
       "      <td></td>\n",
       "      <td></td>\n",
       "    </tr>\n",
       "    <tr>\n",
       "      <th>18</th>\n",
       "      <td>symmetry error</td>\n",
       "      <td></td>\n",
       "      <td></td>\n",
       "      <td></td>\n",
       "    </tr>\n",
       "    <tr>\n",
       "      <th>19</th>\n",
       "      <td>fractal dimension error</td>\n",
       "      <td></td>\n",
       "      <td></td>\n",
       "      <td></td>\n",
       "    </tr>\n",
       "    <tr>\n",
       "      <th>20</th>\n",
       "      <td>worst radius</td>\n",
       "      <td></td>\n",
       "      <td></td>\n",
       "      <td></td>\n",
       "    </tr>\n",
       "    <tr>\n",
       "      <th>21</th>\n",
       "      <td>worst texture</td>\n",
       "      <td></td>\n",
       "      <td></td>\n",
       "      <td></td>\n",
       "    </tr>\n",
       "    <tr>\n",
       "      <th>22</th>\n",
       "      <td>worst perimeter</td>\n",
       "      <td></td>\n",
       "      <td></td>\n",
       "      <td></td>\n",
       "    </tr>\n",
       "    <tr>\n",
       "      <th>23</th>\n",
       "      <td>worst area</td>\n",
       "      <td></td>\n",
       "      <td></td>\n",
       "      <td></td>\n",
       "    </tr>\n",
       "    <tr>\n",
       "      <th>24</th>\n",
       "      <td>worst smoothness</td>\n",
       "      <td></td>\n",
       "      <td></td>\n",
       "      <td></td>\n",
       "    </tr>\n",
       "    <tr>\n",
       "      <th>25</th>\n",
       "      <td>worst compactness</td>\n",
       "      <td></td>\n",
       "      <td></td>\n",
       "      <td></td>\n",
       "    </tr>\n",
       "    <tr>\n",
       "      <th>26</th>\n",
       "      <td>worst concavity</td>\n",
       "      <td></td>\n",
       "      <td></td>\n",
       "      <td></td>\n",
       "    </tr>\n",
       "    <tr>\n",
       "      <th>27</th>\n",
       "      <td>worst concave points</td>\n",
       "      <td></td>\n",
       "      <td></td>\n",
       "      <td></td>\n",
       "    </tr>\n",
       "    <tr>\n",
       "      <th>28</th>\n",
       "      <td>worst symmetry</td>\n",
       "      <td></td>\n",
       "      <td></td>\n",
       "      <td></td>\n",
       "    </tr>\n",
       "    <tr>\n",
       "      <th>29</th>\n",
       "      <td>worst fractal dimension</td>\n",
       "      <td></td>\n",
       "      <td></td>\n",
       "      <td></td>\n",
       "    </tr>\n",
       "  </tbody>\n",
       "</table>"
      ],
      "text/plain": [
       "<IPython.core.display.HTML object>"
      ]
     },
     "metadata": {},
     "output_type": "display_data"
    },
    {
     "name": "stdout",
     "output_type": "stream",
     "text": [
      "\n",
      "\n"
     ]
    },
    {
     "name": "stderr",
     "output_type": "stream",
     "text": [
      "Completed: 100%|██████████| 9/9 [00:14<00:00,  1.57s/it]                     \n",
      "Completed: 100%|██████████| 1/1 [00:00<00:00,  1.42it/s] \n",
      "Completed: 100%|██████████| 1/1 [00:00<00:00,  2.33it/s]\n"
     ]
    },
    {
     "data": {
      "application/vnd.plotly.v1+json": {
       "config": {
        "plotlyServerURL": "https://plot.ly"
       },
       "data": [
        {
         "customdata": [
          [
           "LogisticRegression | AUC: 1.00",
           "LogisticRegression",
           0.9953094445325299
          ],
          [
           "LogisticRegression | AUC: 1.00",
           "LogisticRegression",
           0.9953094445325299
          ],
          [
           "LogisticRegression | AUC: 1.00",
           "LogisticRegression",
           0.9953094445325299
          ],
          [
           "LogisticRegression | AUC: 1.00",
           "LogisticRegression",
           0.9953094445325299
          ],
          [
           "LogisticRegression | AUC: 1.00",
           "LogisticRegression",
           0.9953094445325299
          ],
          [
           "LogisticRegression | AUC: 1.00",
           "LogisticRegression",
           0.9953094445325299
          ],
          [
           "LogisticRegression | AUC: 1.00",
           "LogisticRegression",
           0.9953094445325299
          ],
          [
           "LogisticRegression | AUC: 1.00",
           "LogisticRegression",
           0.9953094445325299
          ],
          [
           "LogisticRegression | AUC: 1.00",
           "LogisticRegression",
           0.9953094445325299
          ],
          [
           "LogisticRegression | AUC: 1.00",
           "LogisticRegression",
           0.9953094445325299
          ],
          [
           "LogisticRegression | AUC: 1.00",
           "LogisticRegression",
           0.9953094445325299
          ],
          [
           "LogisticRegression | AUC: 1.00",
           "LogisticRegression",
           0.9953094445325299
          ],
          [
           "LogisticRegression | AUC: 1.00",
           "LogisticRegression",
           0.9953094445325299
          ],
          [
           "LogisticRegression | AUC: 1.00",
           "LogisticRegression",
           0.9953094445325299
          ],
          [
           "LogisticRegression | AUC: 1.00",
           "LogisticRegression",
           0.9953094445325299
          ],
          [
           "LogisticRegression | AUC: 1.00",
           "LogisticRegression",
           0.9953094445325299
          ],
          [
           "LogisticRegression | AUC: 1.00",
           "LogisticRegression",
           0.9953094445325299
          ],
          [
           "LogisticRegression | AUC: 1.00",
           "LogisticRegression",
           0.9953094445325299
          ],
          [
           "LogisticRegression | AUC: 1.00",
           "LogisticRegression",
           0.9953094445325299
          ],
          [
           "LogisticRegression | AUC: 1.00",
           "LogisticRegression",
           0.9953094445325299
          ],
          [
           "LogisticRegression | AUC: 1.00",
           "LogisticRegression",
           0.9953094445325299
          ],
          [
           "LogisticRegression | AUC: 1.00",
           "LogisticRegression",
           0.9953094445325299
          ],
          [
           "LogisticRegression | AUC: 1.00",
           "LogisticRegression",
           0.9953094445325299
          ],
          [
           "LogisticRegression | AUC: 1.00",
           "LogisticRegression",
           0.9953094445325299
          ],
          [
           "LogisticRegression | AUC: 1.00",
           "LogisticRegression",
           0.9953094445325299
          ],
          [
           "LogisticRegression | AUC: 1.00",
           "LogisticRegression",
           0.9953094445325299
          ]
         ],
         "hovertemplate": "False positive rate=%{x:.2f}<br>True positive rate=%{y:.2f}<br>Estimator=%{customdata[1]}<br>AUC=%{customdata[2]:.2f}<extra></extra>",
         "legendgroup": "LogisticRegression | AUC: 1.00",
         "line": {
          "color": "rgb(127, 60, 141)",
          "dash": "solid"
         },
         "marker": {
          "symbol": "circle"
         },
         "mode": "lines",
         "name": "LogisticRegression | AUC: 1.00",
         "orientation": "v",
         "showlegend": true,
         "type": "scatter",
         "x": [
          0,
          0,
          0,
          0.0047169811320754715,
          0.0047169811320754715,
          0.009433962264150943,
          0.009433962264150943,
          0.014150943396226415,
          0.014150943396226415,
          0.018867924528301886,
          0.018867924528301886,
          0.02358490566037736,
          0.02358490566037736,
          0.02830188679245283,
          0.02830188679245283,
          0.0330188679245283,
          0.0330188679245283,
          0.03773584905660377,
          0.03773584905660377,
          0.04245283018867924,
          0.04245283018867924,
          0.05660377358490566,
          0.05660377358490566,
          0.08018867924528301,
          0.08018867924528301,
          1
         ],
         "xaxis": "x",
         "y": [
          0,
          0.0028011204481792717,
          0.5406162464985994,
          0.5406162464985994,
          0.8599439775910365,
          0.8599439775910365,
          0.8627450980392157,
          0.8627450980392157,
          0.9215686274509803,
          0.9215686274509803,
          0.9523809523809523,
          0.9523809523809523,
          0.9607843137254902,
          0.9607843137254902,
          0.969187675070028,
          0.969187675070028,
          0.9775910364145658,
          0.9775910364145658,
          0.9915966386554622,
          0.9915966386554622,
          0.9943977591036415,
          0.9943977591036415,
          0.9971988795518207,
          0.9971988795518207,
          1,
          1
         ],
         "yaxis": "y"
        },
        {
         "customdata": [
          [
           "XGBClassifier | AUC: 0.99",
           "XGBClassifier",
           0.9931293272025792
          ],
          [
           "XGBClassifier | AUC: 0.99",
           "XGBClassifier",
           0.9931293272025792
          ],
          [
           "XGBClassifier | AUC: 0.99",
           "XGBClassifier",
           0.9931293272025792
          ],
          [
           "XGBClassifier | AUC: 0.99",
           "XGBClassifier",
           0.9931293272025792
          ],
          [
           "XGBClassifier | AUC: 0.99",
           "XGBClassifier",
           0.9931293272025792
          ],
          [
           "XGBClassifier | AUC: 0.99",
           "XGBClassifier",
           0.9931293272025792
          ],
          [
           "XGBClassifier | AUC: 0.99",
           "XGBClassifier",
           0.9931293272025792
          ],
          [
           "XGBClassifier | AUC: 0.99",
           "XGBClassifier",
           0.9931293272025792
          ],
          [
           "XGBClassifier | AUC: 0.99",
           "XGBClassifier",
           0.9931293272025792
          ],
          [
           "XGBClassifier | AUC: 0.99",
           "XGBClassifier",
           0.9931293272025792
          ],
          [
           "XGBClassifier | AUC: 0.99",
           "XGBClassifier",
           0.9931293272025792
          ],
          [
           "XGBClassifier | AUC: 0.99",
           "XGBClassifier",
           0.9931293272025792
          ],
          [
           "XGBClassifier | AUC: 0.99",
           "XGBClassifier",
           0.9931293272025792
          ],
          [
           "XGBClassifier | AUC: 0.99",
           "XGBClassifier",
           0.9931293272025792
          ],
          [
           "XGBClassifier | AUC: 0.99",
           "XGBClassifier",
           0.9931293272025792
          ],
          [
           "XGBClassifier | AUC: 0.99",
           "XGBClassifier",
           0.9931293272025792
          ],
          [
           "XGBClassifier | AUC: 0.99",
           "XGBClassifier",
           0.9931293272025792
          ],
          [
           "XGBClassifier | AUC: 0.99",
           "XGBClassifier",
           0.9931293272025792
          ],
          [
           "XGBClassifier | AUC: 0.99",
           "XGBClassifier",
           0.9931293272025792
          ],
          [
           "XGBClassifier | AUC: 0.99",
           "XGBClassifier",
           0.9931293272025792
          ],
          [
           "XGBClassifier | AUC: 0.99",
           "XGBClassifier",
           0.9931293272025792
          ],
          [
           "XGBClassifier | AUC: 0.99",
           "XGBClassifier",
           0.9931293272025792
          ],
          [
           "XGBClassifier | AUC: 0.99",
           "XGBClassifier",
           0.9931293272025792
          ],
          [
           "XGBClassifier | AUC: 0.99",
           "XGBClassifier",
           0.9931293272025792
          ],
          [
           "XGBClassifier | AUC: 0.99",
           "XGBClassifier",
           0.9931293272025792
          ],
          [
           "XGBClassifier | AUC: 0.99",
           "XGBClassifier",
           0.9931293272025792
          ],
          [
           "XGBClassifier | AUC: 0.99",
           "XGBClassifier",
           0.9931293272025792
          ],
          [
           "XGBClassifier | AUC: 0.99",
           "XGBClassifier",
           0.9931293272025792
          ],
          [
           "XGBClassifier | AUC: 0.99",
           "XGBClassifier",
           0.9931293272025792
          ],
          [
           "XGBClassifier | AUC: 0.99",
           "XGBClassifier",
           0.9931293272025792
          ],
          [
           "XGBClassifier | AUC: 0.99",
           "XGBClassifier",
           0.9931293272025792
          ],
          [
           "XGBClassifier | AUC: 0.99",
           "XGBClassifier",
           0.9931293272025792
          ]
         ],
         "hovertemplate": "False positive rate=%{x:.2f}<br>True positive rate=%{y:.2f}<br>Estimator=%{customdata[1]}<br>AUC=%{customdata[2]:.2f}<extra></extra>",
         "legendgroup": "XGBClassifier | AUC: 0.99",
         "line": {
          "color": "rgb(17, 165, 121)",
          "dash": "solid"
         },
         "marker": {
          "symbol": "circle"
         },
         "mode": "lines",
         "name": "XGBClassifier | AUC: 0.99",
         "orientation": "v",
         "showlegend": true,
         "type": "scatter",
         "x": [
          0,
          0,
          0,
          0,
          0,
          0,
          0,
          0,
          0,
          0.0047169811320754715,
          0.0047169811320754715,
          0.009433962264150943,
          0.009433962264150943,
          0.014150943396226415,
          0.014150943396226415,
          0.018867924528301886,
          0.018867924528301886,
          0.02358490566037736,
          0.02358490566037736,
          0.04245283018867924,
          0.04245283018867924,
          0.06132075471698113,
          0.06132075471698113,
          0.09433962264150944,
          0.09433962264150944,
          0.8207547169811321,
          0.8349056603773585,
          0.8443396226415094,
          0.8537735849056604,
          0.8726415094339622,
          0.8867924528301887,
          1
         ],
         "xaxis": "x",
         "y": [
          0,
          0.0028011204481792717,
          0.1400560224089636,
          0.14565826330532214,
          0.18487394957983194,
          0.19047619047619047,
          0.22128851540616246,
          0.226890756302521,
          0.5154061624649859,
          0.5154061624649859,
          0.7254901960784313,
          0.7254901960784313,
          0.7366946778711485,
          0.7366946778711485,
          0.8207282913165266,
          0.8207282913165266,
          0.8991596638655462,
          0.8991596638655462,
          0.9803921568627451,
          0.9803921568627451,
          0.9859943977591037,
          0.9859943977591037,
          0.9971988795518207,
          0.9971988795518207,
          1,
          1,
          1,
          1,
          1,
          1,
          1,
          1
         ],
         "yaxis": "y"
        }
       ],
       "layout": {
        "legend": {
         "title": {
          "text": "Estimator_AUC"
         },
         "tracegroupgap": 0
        },
        "shapes": [
         {
          "line": {
           "dash": "dash"
          },
          "type": "line",
          "x0": 0,
          "x1": 1,
          "xref": "x",
          "y0": 0,
          "y1": 1,
          "yref": "y"
         }
        ],
        "template": {
         "data": {
          "bar": [
           {
            "error_x": {
             "color": "#2a3f5f"
            },
            "error_y": {
             "color": "#2a3f5f"
            },
            "marker": {
             "line": {
              "color": "white",
              "width": 0.5
             },
             "pattern": {
              "fillmode": "overlay",
              "size": 10,
              "solidity": 0.2
             }
            },
            "type": "bar"
           }
          ],
          "barpolar": [
           {
            "marker": {
             "line": {
              "color": "white",
              "width": 0.5
             },
             "pattern": {
              "fillmode": "overlay",
              "size": 10,
              "solidity": 0.2
             }
            },
            "type": "barpolar"
           }
          ],
          "carpet": [
           {
            "aaxis": {
             "endlinecolor": "#2a3f5f",
             "gridcolor": "#C8D4E3",
             "linecolor": "#C8D4E3",
             "minorgridcolor": "#C8D4E3",
             "startlinecolor": "#2a3f5f"
            },
            "baxis": {
             "endlinecolor": "#2a3f5f",
             "gridcolor": "#C8D4E3",
             "linecolor": "#C8D4E3",
             "minorgridcolor": "#C8D4E3",
             "startlinecolor": "#2a3f5f"
            },
            "type": "carpet"
           }
          ],
          "choropleth": [
           {
            "colorbar": {
             "outlinewidth": 0,
             "ticks": ""
            },
            "type": "choropleth"
           }
          ],
          "contour": [
           {
            "colorbar": {
             "outlinewidth": 0,
             "ticks": ""
            },
            "colorscale": [
             [
              0,
              "#0d0887"
             ],
             [
              0.1111111111111111,
              "#46039f"
             ],
             [
              0.2222222222222222,
              "#7201a8"
             ],
             [
              0.3333333333333333,
              "#9c179e"
             ],
             [
              0.4444444444444444,
              "#bd3786"
             ],
             [
              0.5555555555555556,
              "#d8576b"
             ],
             [
              0.6666666666666666,
              "#ed7953"
             ],
             [
              0.7777777777777778,
              "#fb9f3a"
             ],
             [
              0.8888888888888888,
              "#fdca26"
             ],
             [
              1,
              "#f0f921"
             ]
            ],
            "type": "contour"
           }
          ],
          "contourcarpet": [
           {
            "colorbar": {
             "outlinewidth": 0,
             "ticks": ""
            },
            "type": "contourcarpet"
           }
          ],
          "heatmap": [
           {
            "colorbar": {
             "outlinewidth": 0,
             "ticks": ""
            },
            "colorscale": [
             [
              0,
              "#0d0887"
             ],
             [
              0.1111111111111111,
              "#46039f"
             ],
             [
              0.2222222222222222,
              "#7201a8"
             ],
             [
              0.3333333333333333,
              "#9c179e"
             ],
             [
              0.4444444444444444,
              "#bd3786"
             ],
             [
              0.5555555555555556,
              "#d8576b"
             ],
             [
              0.6666666666666666,
              "#ed7953"
             ],
             [
              0.7777777777777778,
              "#fb9f3a"
             ],
             [
              0.8888888888888888,
              "#fdca26"
             ],
             [
              1,
              "#f0f921"
             ]
            ],
            "type": "heatmap"
           }
          ],
          "heatmapgl": [
           {
            "colorbar": {
             "outlinewidth": 0,
             "ticks": ""
            },
            "colorscale": [
             [
              0,
              "#0d0887"
             ],
             [
              0.1111111111111111,
              "#46039f"
             ],
             [
              0.2222222222222222,
              "#7201a8"
             ],
             [
              0.3333333333333333,
              "#9c179e"
             ],
             [
              0.4444444444444444,
              "#bd3786"
             ],
             [
              0.5555555555555556,
              "#d8576b"
             ],
             [
              0.6666666666666666,
              "#ed7953"
             ],
             [
              0.7777777777777778,
              "#fb9f3a"
             ],
             [
              0.8888888888888888,
              "#fdca26"
             ],
             [
              1,
              "#f0f921"
             ]
            ],
            "type": "heatmapgl"
           }
          ],
          "histogram": [
           {
            "marker": {
             "pattern": {
              "fillmode": "overlay",
              "size": 10,
              "solidity": 0.2
             }
            },
            "type": "histogram"
           }
          ],
          "histogram2d": [
           {
            "colorbar": {
             "outlinewidth": 0,
             "ticks": ""
            },
            "colorscale": [
             [
              0,
              "#0d0887"
             ],
             [
              0.1111111111111111,
              "#46039f"
             ],
             [
              0.2222222222222222,
              "#7201a8"
             ],
             [
              0.3333333333333333,
              "#9c179e"
             ],
             [
              0.4444444444444444,
              "#bd3786"
             ],
             [
              0.5555555555555556,
              "#d8576b"
             ],
             [
              0.6666666666666666,
              "#ed7953"
             ],
             [
              0.7777777777777778,
              "#fb9f3a"
             ],
             [
              0.8888888888888888,
              "#fdca26"
             ],
             [
              1,
              "#f0f921"
             ]
            ],
            "type": "histogram2d"
           }
          ],
          "histogram2dcontour": [
           {
            "colorbar": {
             "outlinewidth": 0,
             "ticks": ""
            },
            "colorscale": [
             [
              0,
              "#0d0887"
             ],
             [
              0.1111111111111111,
              "#46039f"
             ],
             [
              0.2222222222222222,
              "#7201a8"
             ],
             [
              0.3333333333333333,
              "#9c179e"
             ],
             [
              0.4444444444444444,
              "#bd3786"
             ],
             [
              0.5555555555555556,
              "#d8576b"
             ],
             [
              0.6666666666666666,
              "#ed7953"
             ],
             [
              0.7777777777777778,
              "#fb9f3a"
             ],
             [
              0.8888888888888888,
              "#fdca26"
             ],
             [
              1,
              "#f0f921"
             ]
            ],
            "type": "histogram2dcontour"
           }
          ],
          "mesh3d": [
           {
            "colorbar": {
             "outlinewidth": 0,
             "ticks": ""
            },
            "type": "mesh3d"
           }
          ],
          "parcoords": [
           {
            "line": {
             "colorbar": {
              "outlinewidth": 0,
              "ticks": ""
             }
            },
            "type": "parcoords"
           }
          ],
          "pie": [
           {
            "automargin": true,
            "type": "pie"
           }
          ],
          "scatter": [
           {
            "fillpattern": {
             "fillmode": "overlay",
             "size": 10,
             "solidity": 0.2
            },
            "type": "scatter"
           }
          ],
          "scatter3d": [
           {
            "line": {
             "colorbar": {
              "outlinewidth": 0,
              "ticks": ""
             }
            },
            "marker": {
             "colorbar": {
              "outlinewidth": 0,
              "ticks": ""
             }
            },
            "type": "scatter3d"
           }
          ],
          "scattercarpet": [
           {
            "marker": {
             "colorbar": {
              "outlinewidth": 0,
              "ticks": ""
             }
            },
            "type": "scattercarpet"
           }
          ],
          "scattergeo": [
           {
            "marker": {
             "colorbar": {
              "outlinewidth": 0,
              "ticks": ""
             }
            },
            "type": "scattergeo"
           }
          ],
          "scattergl": [
           {
            "marker": {
             "colorbar": {
              "outlinewidth": 0,
              "ticks": ""
             }
            },
            "type": "scattergl"
           }
          ],
          "scattermapbox": [
           {
            "marker": {
             "colorbar": {
              "outlinewidth": 0,
              "ticks": ""
             }
            },
            "type": "scattermapbox"
           }
          ],
          "scatterpolar": [
           {
            "marker": {
             "colorbar": {
              "outlinewidth": 0,
              "ticks": ""
             }
            },
            "type": "scatterpolar"
           }
          ],
          "scatterpolargl": [
           {
            "marker": {
             "colorbar": {
              "outlinewidth": 0,
              "ticks": ""
             }
            },
            "type": "scatterpolargl"
           }
          ],
          "scatterternary": [
           {
            "marker": {
             "colorbar": {
              "outlinewidth": 0,
              "ticks": ""
             }
            },
            "type": "scatterternary"
           }
          ],
          "surface": [
           {
            "colorbar": {
             "outlinewidth": 0,
             "ticks": ""
            },
            "colorscale": [
             [
              0,
              "#0d0887"
             ],
             [
              0.1111111111111111,
              "#46039f"
             ],
             [
              0.2222222222222222,
              "#7201a8"
             ],
             [
              0.3333333333333333,
              "#9c179e"
             ],
             [
              0.4444444444444444,
              "#bd3786"
             ],
             [
              0.5555555555555556,
              "#d8576b"
             ],
             [
              0.6666666666666666,
              "#ed7953"
             ],
             [
              0.7777777777777778,
              "#fb9f3a"
             ],
             [
              0.8888888888888888,
              "#fdca26"
             ],
             [
              1,
              "#f0f921"
             ]
            ],
            "type": "surface"
           }
          ],
          "table": [
           {
            "cells": {
             "fill": {
              "color": "#EBF0F8"
             },
             "line": {
              "color": "white"
             }
            },
            "header": {
             "fill": {
              "color": "#C8D4E3"
             },
             "line": {
              "color": "white"
             }
            },
            "type": "table"
           }
          ]
         },
         "layout": {
          "annotationdefaults": {
           "arrowcolor": "#2a3f5f",
           "arrowhead": 0,
           "arrowwidth": 1
          },
          "autotypenumbers": "strict",
          "coloraxis": {
           "colorbar": {
            "outlinewidth": 0,
            "ticks": ""
           }
          },
          "colorscale": {
           "diverging": [
            [
             0,
             "#8e0152"
            ],
            [
             0.1,
             "#c51b7d"
            ],
            [
             0.2,
             "#de77ae"
            ],
            [
             0.3,
             "#f1b6da"
            ],
            [
             0.4,
             "#fde0ef"
            ],
            [
             0.5,
             "#f7f7f7"
            ],
            [
             0.6,
             "#e6f5d0"
            ],
            [
             0.7,
             "#b8e186"
            ],
            [
             0.8,
             "#7fbc41"
            ],
            [
             0.9,
             "#4d9221"
            ],
            [
             1,
             "#276419"
            ]
           ],
           "sequential": [
            [
             0,
             "#0d0887"
            ],
            [
             0.1111111111111111,
             "#46039f"
            ],
            [
             0.2222222222222222,
             "#7201a8"
            ],
            [
             0.3333333333333333,
             "#9c179e"
            ],
            [
             0.4444444444444444,
             "#bd3786"
            ],
            [
             0.5555555555555556,
             "#d8576b"
            ],
            [
             0.6666666666666666,
             "#ed7953"
            ],
            [
             0.7777777777777778,
             "#fb9f3a"
            ],
            [
             0.8888888888888888,
             "#fdca26"
            ],
            [
             1,
             "#f0f921"
            ]
           ],
           "sequentialminus": [
            [
             0,
             "#0d0887"
            ],
            [
             0.1111111111111111,
             "#46039f"
            ],
            [
             0.2222222222222222,
             "#7201a8"
            ],
            [
             0.3333333333333333,
             "#9c179e"
            ],
            [
             0.4444444444444444,
             "#bd3786"
            ],
            [
             0.5555555555555556,
             "#d8576b"
            ],
            [
             0.6666666666666666,
             "#ed7953"
            ],
            [
             0.7777777777777778,
             "#fb9f3a"
            ],
            [
             0.8888888888888888,
             "#fdca26"
            ],
            [
             1,
             "#f0f921"
            ]
           ]
          },
          "colorway": [
           "#636efa",
           "#EF553B",
           "#00cc96",
           "#ab63fa",
           "#FFA15A",
           "#19d3f3",
           "#FF6692",
           "#B6E880",
           "#FF97FF",
           "#FECB52"
          ],
          "font": {
           "color": "#8C8C8C"
          },
          "geo": {
           "bgcolor": "white",
           "lakecolor": "white",
           "landcolor": "white",
           "showlakes": true,
           "showland": true,
           "subunitcolor": "#C8D4E3"
          },
          "hoverlabel": {
           "align": "left"
          },
          "hovermode": "closest",
          "legend": {
           "orientation": "h",
           "x": 0,
           "xanchor": "left",
           "y": -0.2,
           "yanchor": "top"
          },
          "mapbox": {
           "style": "light"
          },
          "margin": {
           "l": 20,
           "r": 20
          },
          "paper_bgcolor": "white",
          "plot_bgcolor": "white",
          "polar": {
           "angularaxis": {
            "gridcolor": "#EBF0F8",
            "linecolor": "#EBF0F8",
            "ticks": ""
           },
           "bgcolor": "white",
           "radialaxis": {
            "gridcolor": "#EBF0F8",
            "linecolor": "#EBF0F8",
            "ticks": ""
           }
          },
          "scene": {
           "xaxis": {
            "backgroundcolor": "white",
            "gridcolor": "#DFE8F3",
            "gridwidth": 2,
            "linecolor": "#EBF0F8",
            "showbackground": true,
            "ticks": "",
            "zerolinecolor": "#EBF0F8"
           },
           "yaxis": {
            "backgroundcolor": "white",
            "gridcolor": "#DFE8F3",
            "gridwidth": 2,
            "linecolor": "#EBF0F8",
            "showbackground": true,
            "ticks": "",
            "zerolinecolor": "#EBF0F8"
           },
           "zaxis": {
            "backgroundcolor": "white",
            "gridcolor": "#DFE8F3",
            "gridwidth": 2,
            "linecolor": "#EBF0F8",
            "showbackground": true,
            "ticks": "",
            "zerolinecolor": "#EBF0F8"
           }
          },
          "shapedefaults": {
           "line": {
            "color": "#2a3f5f"
           }
          },
          "ternary": {
           "aaxis": {
            "gridcolor": "#DFE8F3",
            "linecolor": "#A2B1C6",
            "ticks": ""
           },
           "baxis": {
            "gridcolor": "#DFE8F3",
            "linecolor": "#A2B1C6",
            "ticks": ""
           },
           "bgcolor": "white",
           "caxis": {
            "gridcolor": "#DFE8F3",
            "linecolor": "#A2B1C6",
            "ticks": ""
           }
          },
          "title": {
           "x": 0.05
          },
          "xaxis": {
           "automargin": true,
           "gridcolor": "#EBF0F8",
           "linecolor": "#EBF0F8",
           "ticks": "",
           "title": {
            "standoff": 15
           },
           "zerolinecolor": "#EBF0F8",
           "zerolinewidth": 2
          },
          "yaxis": {
           "automargin": true,
           "gridcolor": "#EBF0F8",
           "linecolor": "#EBF0F8",
           "ticks": "",
           "title": {
            "standoff": 15
           },
           "zerolinecolor": "#EBF0F8",
           "zerolinewidth": 2
          }
         }
        },
        "title": {
         "text": "ROC curve with cross-validated predictions"
        },
        "xaxis": {
         "anchor": "y",
         "domain": [
          0,
          1
         ],
         "title": {
          "text": "False positive rate"
         }
        },
        "yaxis": {
         "anchor": "x",
         "domain": [
          0,
          1
         ],
         "title": {
          "text": "True positive rate"
         }
        }
       }
      }
     },
     "metadata": {},
     "output_type": "display_data"
    }
   ],
   "source": [
    "from sklearn.datasets import load_breast_cancer\n",
    "from poniard import PoniardClassifier\n",
    "\n",
    "X, y = load_breast_cancer(return_X_y=True, as_frame=True)\n",
    "clf = PoniardClassifier().setup(X, y)\n",
    "clf.fit()\n",
    "selected_clf = [\"LogisticRegression\", \"XGBClassifier\"]\n",
    "clf.plot.roc_curve(estimator_names=selected_clf)"
   ]
  },
  {
   "cell_type": "code",
   "execution_count": 8,
   "metadata": {},
   "outputs": [
    {
     "name": "stdout",
     "output_type": "stream",
     "text": [
      "Target info\n",
      "-----------\n",
      "Type: continuous\n",
      "Shape: (442,)\n",
      "Unique values: 214\n",
      "\n",
      "Main metric\n",
      "-----------\n",
      "neg_mean_squared_error\n",
      "\n",
      "Thresholds\n",
      "----------\n",
      "Minimum unique values to consider a feature numeric: 44\n",
      "Minimum unique values to consider a categorical high cardinality: 20\n",
      "\n",
      "Inferred feature types\n",
      "----------------------\n"
     ]
    },
    {
     "data": {
      "text/html": [
       "<table border=\"1\" class=\"dataframe\">\n",
       "  <thead>\n",
       "    <tr style=\"text-align: right;\">\n",
       "      <th></th>\n",
       "      <th>numeric</th>\n",
       "      <th>categorical_high</th>\n",
       "      <th>categorical_low</th>\n",
       "      <th>datetime</th>\n",
       "    </tr>\n",
       "  </thead>\n",
       "  <tbody>\n",
       "    <tr>\n",
       "      <th>0</th>\n",
       "      <td>age</td>\n",
       "      <td></td>\n",
       "      <td>sex</td>\n",
       "      <td></td>\n",
       "    </tr>\n",
       "    <tr>\n",
       "      <th>1</th>\n",
       "      <td>bmi</td>\n",
       "      <td></td>\n",
       "      <td></td>\n",
       "      <td></td>\n",
       "    </tr>\n",
       "    <tr>\n",
       "      <th>2</th>\n",
       "      <td>bp</td>\n",
       "      <td></td>\n",
       "      <td></td>\n",
       "      <td></td>\n",
       "    </tr>\n",
       "    <tr>\n",
       "      <th>3</th>\n",
       "      <td>s1</td>\n",
       "      <td></td>\n",
       "      <td></td>\n",
       "      <td></td>\n",
       "    </tr>\n",
       "    <tr>\n",
       "      <th>4</th>\n",
       "      <td>s2</td>\n",
       "      <td></td>\n",
       "      <td></td>\n",
       "      <td></td>\n",
       "    </tr>\n",
       "    <tr>\n",
       "      <th>5</th>\n",
       "      <td>s3</td>\n",
       "      <td></td>\n",
       "      <td></td>\n",
       "      <td></td>\n",
       "    </tr>\n",
       "    <tr>\n",
       "      <th>6</th>\n",
       "      <td>s4</td>\n",
       "      <td></td>\n",
       "      <td></td>\n",
       "      <td></td>\n",
       "    </tr>\n",
       "    <tr>\n",
       "      <th>7</th>\n",
       "      <td>s5</td>\n",
       "      <td></td>\n",
       "      <td></td>\n",
       "      <td></td>\n",
       "    </tr>\n",
       "    <tr>\n",
       "      <th>8</th>\n",
       "      <td>s6</td>\n",
       "      <td></td>\n",
       "      <td></td>\n",
       "      <td></td>\n",
       "    </tr>\n",
       "  </tbody>\n",
       "</table>"
      ],
      "text/plain": [
       "<IPython.core.display.HTML object>"
      ]
     },
     "metadata": {},
     "output_type": "display_data"
    },
    {
     "name": "stdout",
     "output_type": "stream",
     "text": [
      "\n",
      "\n"
     ]
    },
    {
     "name": "stderr",
     "output_type": "stream",
     "text": [
      "Completed: 100%|██████████| 4/4 [00:00<00:00,  4.43it/s]            \n",
      "Completed: 100%|██████████| 1/1 [00:00<00:00, 19.02it/s]\n",
      "Completed: 100%|██████████| 1/1 [00:00<00:00, 11.70it/s]  \n",
      "Completed: 100%|██████████| 1/1 [00:01<00:00,  1.04s/it]    \n"
     ]
    },
    {
     "data": {
      "application/vnd.plotly.v1+json": {
       "config": {
        "plotlyServerURL": "https://plot.ly"
       },
       "data": [
        {
         "hovertemplate": "Estimator=LinearRegression<br>Predicted=%{x}<br>Residuals=%{y}<extra></extra>",
         "legendgroup": "LinearRegression",
         "marker": {
          "color": "rgb(127, 60, 141)",
          "symbol": "circle"
         },
         "mode": "markers",
         "name": "LinearRegression",
         "showlegend": true,
         "type": "scattergl",
         "x": [
          201.61182947010778,
          66.98992013012499,
          179.51165678870603,
          162.89263405439388,
          129.04314358621033,
          109.13390293718413,
          74.5432599355655,
          120.37369853825861,
          156.72998795341164,
          206.24029161274166,
          100.4223359800383,
          98.2202586460049,
          113.55788482447822,
          162.63246587116905,
          101.32458310607079,
          174.23210042449386,
          208.0980270292896,
          185.43826118411297,
          147.65350850968653,
          119.58445122196002,
          122.50382654276697,
          87.35445582921047,
          114.46103133797588,
          262.74273129987694,
          167.07354366118764,
          146.64306848445977,
          101.10518276389,
          180.4121003220246,
          124.67946691279974,
          179.9102062431132,
          159.6636736149636,
          69.5378920481321,
          265.0028290090006,
          109.08678283709023,
          82.58868114004535,
          87.64408080062061,
          202.8321657952241,
          161.29726459846276,
          235.6098304455665,
          134.72205329991016,
          153.59359475500267,
          71.97768208342377,
          146.8524745059387,
          78.39875578760235,
          221.16961680054257,
          127.59339701794912,
          144.5078176494463,
          108.79605642731983,
          73.22491332738184,
          194.0345212007141,
          153.37159017257258,
          169.99252674834418,
          132.7882703138961,
          163.32263287076245,
          138.68063136680917,
          70.75245758386617,
          214.7395063416075,
          81.52337167448849,
          105.81614967303499,
          129.3021415566108,
          118.9814038887549,
          174.2708689288798,
          61.105910821773904,
          97.49718728718766,
          113.10642791868253,
          190.03668770519545,
          147.18602776759678,
          126.51070585925928,
          113.70484643887897,
          119.10067752992276,
          79.74092332037348,
          234.3428871069977,
          130.09867341155282,
          125.98358113548842,
          156.91221557809115,
          129.9430122977353,
          196.66463010036645,
          73.4917394034314,
          172.24561893200047,
          92.38219833725564,
          173.5197489494595,
          121.77491233667278,
          62.55417070889477,
          145.68214296385165,
          48.81386882732424,
          176.08677715688174,
          41.66427966659046,
          147.71839008530205,
          87.35616660670499,
          108.44360255433497,
          78.46774352564829,
          182.08822643899575,
          199.22952199984252,
          59.09128088247317,
          102.93644560077324,
          121.18309459201518,
          208.42557717822962,
          217.24604598467528,
          118.50156321141976,
          137.98988431232004,
          167.58280538869403,
          111.58026961702767,
          152.17962850654968,
          156.91839341863616,
          158.82481522073377,
          118.90106926584721,
          73.74591578598826,
          157.37648738454675,
          225.1866610117528,
          145.23698648604818,
          41.617716749306794,
          128.26815514707388,
          154.70853857907292,
          206.20934211931012,
          292.95258643890367,
          182.48384527620365,
          213.36803266929147,
          234.66006342022428,
          164.02262497546448,
          152.29837420857837,
          156.89523799693808,
          199.3405408041906,
          219.1369445792733,
          181.6081101403292,
          171.42284127821526,
          187.0346953589257,
          59.15912511997732,
          103.89451944048268,
          91.87759035031456,
          209.0346207135321,
          237.9349439009569,
          68.86662877913191,
          108.86915141863271,
          65.57929030281775,
          145.2953432294868,
          238.11935878001628,
          57.05071901221328,
          235.42624349852863,
          251.87175877665032,
          248.37352213001975,
          157.19308307109696,
          231.5676494856057,
          168.5291441633884,
          114.56380848397755,
          178.87936197648244,
          242.7699955832092,
          191.61189529191856,
          227.75211746957874,
          110.86680389296981,
          179.59455073716205,
          208.60966247193943,
          145.69337288759397,
          201.79095135643294,
          124.58285335829925,
          150.80548385870387,
          197.51584777691392,
          148.1485375017354,
          120.80857572644874,
          84.35750170348138,
          237.41798755760277,
          82.43753531310531,
          232.01256326024304,
          146.57541655359344,
          201.57837464378792,
          143.3664487747074,
          81.04196469979992,
          58.56536746777388,
          264.00227554630146,
          221.66234257109238,
          227.8631375812093,
          44.591595467109954,
          92.13333574150445,
          217.23861334819392,
          92.33195103730347,
          164.14572014786063,
          118.94820130927302,
          159.99360962007938,
          216.84172687887371,
          98.75140326129736,
          165.9431921385188,
          181.03373513863073,
          99.0185901577049,
          171.8523347073978,
          162.06202499765692,
          198.0530102439207,
          181.82705161916772,
          202.9088885014404,
          62.14513428627292,
          149.61038652513994,
          117.37739471990753,
          197.4449466276323,
          130.75749404859465,
          88.95857916020076,
          137.6682764293364,
          155.72165683752564,
          169.91040338300564,
          101.46816318233036,
          192.49513735460604,
          149.49521726334325,
          178.79737070255953,
          95.13747687671004,
          67.71589107482498,
          151.15072889630338,
          199.66285920643304,
          176.98926700756851,
          236.00758247084707,
          160.60496230885556,
          206.74473908181997,
          218.0957235989065,
          170.56025543585343,
          133.9240723288321,
          172.32494507840337,
          158.3183911969048,
          94.93692626380056,
          100.22519802560883,
          258.17373902083284,
          218.81135461464007,
          225.33440826530597,
          133.78258870452464,
          149.04048884072046,
          50.39939984619781,
          144.26395874092103,
          147.55235811592493,
          123.8469946849315,
          74.7993546485829,
          233.20048724520146,
          74.36584311679425,
          104.96231905070056,
          115.07644243114089,
          99.2240158956039,
          172.81134115842534,
          161.8864701355037,
          158.49229212141046,
          144.6524578531717,
          232.36821610032388,
          179.34572865742405,
          191.5351969150823,
          66.70551404625492,
          190.6597389035125,
          183.54358010857348,
          236.9568454639611,
          120.07161654933782,
          86.98846326645992,
          102.78408603922165,
          143.06760130433338,
          100.15693761174398,
          129.61212557436244,
          85.09262077902329,
          234.6257860019448,
          248.92812014604874,
          265.0136553759762,
          269.6445660628963,
          175.9373311228746,
          208.9050829288742,
          255.81749633053863,
          118.80509769198828,
          262.8981299307034,
          106.27393423134106,
          121.23508017794035,
          142.91730788431104,
          61.3677740943444,
          120.74279789874709,
          262.4423349614446,
          43.25683884906198,
          120.02677576294616,
          133.57848446444825,
          35.14602592311293,
          135.19719547209564,
          243.32766187131705,
          89.5106769267512,
          186.4167799565231,
          164.05732579085353,
          145.74485214450277,
          179.44408085920352,
          179.719300238964,
          156.04893775230042,
          186.137514192385,
          121.57790196988785,
          107.89668846407085,
          114.8097900757516,
          163.07780245723706,
          101.54825485009823,
          132.20521500858723,
          84.22759673921767,
          161.94132344270335,
          198.39652239347555,
          81.63031919118473,
          140.96436256668213,
          79.73822954066402,
          197.88770177019353,
          219.43233729266535,
          193.75478507052756,
          94.32787332580675,
          184.50815680437373,
          80.50540779355516,
          153.45562452170503,
          74.33261183629958,
          94.08089374049705,
          109.16034679341404,
          123.55228272122969,
          217.0990659886718,
          124.08111208284097,
          206.41497077255121,
          236.088457171328,
          122.75042905976957,
          136.8794640421736,
          127.61118933860024,
          150.55954126848752,
          90.28417792661213,
          137.48388775709043,
          206.8950283889104,
          182.24599975427623,
          116.51355226120694,
          215.6117825833747,
          173.6572370919069,
          109.57625508721368,
          199.88933989590575,
          175.29305187822433,
          161.165159450088,
          192.03438449406582,
          190.87871792776343,
          275.8019266302546,
          275.51127930518567,
          199.12219694710643,
          205.50190465057136,
          212.0848609802508,
          156.78815441959725,
          222.15160033894233,
          186.8140395992906,
          107.38933004111868,
          177.80076448951553,
          113.02749054654117,
          292.0409124677104,
          183.6269841497237,
          81.1931789049825,
          86.53389871043746,
          243.53296558882903,
          177.26062981784068,
          120.42651660422956,
          144.10639773070108,
          162.63603265238217,
          178.3391034823028,
          159.7581411416614,
          154.71683591056592,
          145.97264453606414,
          122.51393926030968,
          182.26314210006225,
          104.6009422718621,
          132.7337337062365,
          94.28282845422501,
          246.27761356696556,
          82.12054673389763,
          64.135937759483,
          157.07629912585847,
          191.1761083533101,
          130.0623479191086,
          92.77807073289064,
          200.43918854350312,
          54.01398327243116,
          178.35669903391067,
          197.0042316778978,
          118.3148129478534,
          238.46949509209475,
          168.29775168423558,
          161.01651466373957,
          162.89053842481013,
          253.0330414834309,
          259.36180941548,
          199.48262579919913,
          182.21976261700826,
          57.8012758124535,
          196.4757223471289,
          109.89287232804296,
          145.80002729087207,
          126.9375101008595,
          175.17348033502458,
          219.5668172311961,
          168.94810951414084,
          164.99991079597493,
          131.85939930238698,
          175.77174018780997,
          76.77255545921653,
          257.0629445843191,
          116.27671949711525,
          109.98660253973422,
          143.1170163660284,
          109.8099539413656,
          84.11524034211891,
          161.70870434456063,
          71.86824413949083,
          254.89384022881973,
          56.185682725041715,
          104.47837253620763,
          101.73594445173603,
          238.0669489697311,
          166.7757004645029,
          65.23199718445152,
          184.6899661561391,
          162.1726739667608,
          188.0776280744811,
          187.42483427310015,
          84.84033237788181,
          150.48388413211038,
          259.047469689976,
          200.89595008141004,
          286.5060149001506,
          47.99132260728814,
          181.1281187601041,
          202.59924792954592,
          172.33590178075738,
          150.27674176100237,
          156.52404016631186,
          233.77552603208443,
          124.10424019524442,
          162.60228653219517,
          169.03604372506132,
          219.2242194002422,
          154.8651967593033,
          98.1642976378176,
          81.2595316113333,
          139.89876474940885,
          192.2765128667701,
          200.95282533176118,
          155.69568308674195,
          169.7002890790713,
          112.86339015842589,
          165.5071389448712,
          132.27795738814785,
          257.5984613811487,
          97.40570837437488,
          114.23813387460126,
          121.2523987846554,
          220.87275478147563,
          62.66619671853766,
          128.22361933089755,
          120.30774825701761,
          50.48193506632806,
          197.67786947933502,
          97.5598726128992,
          119.66122228483958,
          207.30110561699212,
          47.181756231662646
         ],
         "xaxis": "x",
         "y": [
          -50.61182947010778,
          8.010079869875014,
          -38.511656788706034,
          43.10736594560612,
          5.956856413789666,
          -12.133902937184132,
          63.4567400644345,
          -57.37369853825861,
          -46.72998795341164,
          103.75970838725834,
          0.577664019961702,
          -29.220258646004893,
          65.44211517552178,
          22.367534128830954,
          16.67541689392921,
          -3.232100424493865,
          -42.0980270292896,
          -41.438261184112974,
          -50.65350850968653,
          48.41554877803998,
          -54.50382654276697,
          -38.354455829210465,
          -46.46103133797588,
          -17.742731299876937,
          16.926456338812358,
          55.356931515540225,
          35.89481723611,
          -95.4121003220246,
          6.3205330872002605,
          103.08979375688679,
          -30.663673614963614,
          -10.537892048132093,
          75.9971709909994,
          -22.086782837090226,
          -17.588681140045352,
          14.355919199379386,
          62.167834204775886,
          114.70273540153724,
          16.3901695544335,
          -44.72205329991016,
          -53.59359475500267,
          -16.977682083423772,
          -85.85247450593869,
          13.601244212397646,
          37.83038319945743,
          -74.59339701794912,
          45.49218235055369,
          33.203943572680174,
          1.7750866726181584,
          -52.034521200714096,
          1.6284098274274186,
          55.007473251655824,
          -73.7882703138961,
          -59.32263287076245,
          43.319368633190834,
          57.247542416133825,
          -162.7395063416075,
          -44.52337167448849,
          64.18385032696501,
          40.69785844338921,
          -57.9814038887549,
          -30.270868928879793,
          -9.105910821773904,
          30.502812712812343,
          -42.10642791868253,
          -27.036687705195448,
          2.8139722324032164,
          -29.510705859259275,
          46.295153561121026,
          58.89932247007724,
          -31.740923320373483,
          35.65711289300231,
          71.90132658844718,
          -14.983581135488421,
          -71.91221557809115,
          -87.9430122977353,
          -26.664630100366452,
          126.5082605965686,
          79.75438106799953,
          20.617801662744355,
          -30.519748949459512,
          -70.77491233667278,
          -10.554170708894773,
          64.31785703614835,
          16.186131172675758,
          -35.08677715688174,
          13.33572033340954,
          -13.718390085302048,
          -45.35616660670499,
          2.556397445665027,
          19.532256474351712,
          -18.088226438995747,
          -151.22952199984252,
          36.90871911752683,
          -12.93644560077324,
          40.81690540798482,
          -58.42557717822962,
          61.75395401532472,
          -26.501563211419764,
          -54.989884312320044,
          -39.58280538869403,
          -9.580269617027668,
          149.82037149345032,
          41.08160658136384,
          -63.82481522073377,
          -65.90106926584721,
          60.25408421401174,
          -13.37648738454675,
          6.81333898824721,
          -64.23698648604818,
          62.382283250693206,
          -69.26815514707388,
          91.29146142092708,
          90.79065788068988,
          -34.952586438903666,
          46.51615472379635,
          61.631967330708534,
          46.339936579775724,
          14.977375024535519,
          47.701625791421634,
          43.10476200306192,
          -26.340540804190596,
          -39.13694457927329,
          -97.60811014032919,
          -50.42284127821526,
          -26.03469535892569,
          39.84087488002268,
          5.105480559517318,
          23.122409649685437,
          58.96537928646791,
          36.06505609904309,
          89.13337122086809,
          -1.8691514186327112,
          17.420709697182247,
          -42.295343229486804,
          33.880641219983715,
          27.94928098778672,
          44.573756501471365,
          84.12824122334968,
          32.62647786998025,
          -39.193083071096964,
          85.4323505143943,
          66.4708558366116,
          -54.56380848397755,
          -4.879361976482443,
          16.23000441679079,
          -13.611895291918557,
          -99.75211746957874,
          -14.866803892969813,
          -53.59455073716205,
          79.39033752806057,
          -57.693372887593966,
          90.20904864356706,
          -53.582853358299246,
          46.194516141296134,
          -11.515847776913915,
          -123.1485375017354,
          -36.80857572644874,
          11.642498296518625,
          -42.41798755760277,
          -29.437535313105315,
          -15.012563260243041,
          25.424583446406558,
          -70.57837464378792,
          70.63355122529259,
          -22.04196469979992,
          11.434632532226118,
          -44.00227554630146,
          46.33765742890762,
          -75.86313758120929,
          2.408404532890046,
          -18.133335741504453,
          77.76138665180608,
          8.668048962696531,
          -13.14572014786063,
          8.051798690726983,
          77.00639037992062,
          8.158273121126285,
          -17.751403261297355,
          -14.94319213851881,
          -74.03373513863073,
          -35.01859015770491,
          -33.8523347073978,
          22.93797500234308,
          66.94698975607929,
          -80.82705161916772,
          -65.9088885014404,
          80.85486571372708,
          -8.610386525139944,
          -38.37739471990753,
          94.5550533723677,
          47.24250595140535,
          2.041420839799244,
          -21.6682764293364,
          -69.72165683752564,
          -47.910403383005644,
          -29.468163182330358,
          -63.495137354606044,
          -7.49521726334325,
          -88.79737070255953,
          62.86252312328996,
          -28.71589107482498,
          44.84927110369662,
          22.33714079356696,
          100.01073299243149,
          -137.00758247084707,
          35.39503769114444,
          -4.744739081819972,
          -63.09572359890649,
          -93.56025543585343,
          57.075927671167904,
          -102.32494507840337,
          -85.3183911969048,
          -45.93692626380056,
          -35.22519802560883,
          4.826260979167159,
          29.188645385359933,
          70.66559173469403,
          80.21741129547536,
          35.95951115927954,
          27.60060015380219,
          -51.263958740921026,
          104.44764188407507,
          26.153005315068498,
          2.2006453514170943,
          -25.200487245201458,
          2.6341568832057476,
          3.0376809492994425,
          44.92355756885911,
          -46.2240158956039,
          47.188658841574664,
          -7.886470135503714,
          100.50770787858954,
          -54.65245785317171,
          13.631783899676122,
          -55.34572865742405,
          -124.53519691508231,
          5.294485953745081,
          66.3402610964875,
          78.45641989142652,
          38.04315453603891,
          56.92838345066218,
          -15.988463266459917,
          -55.78408603922165,
          43.93239869566662,
          24.843062388256016,
          -51.61212557436244,
          -34.09262077902329,
          23.37421399805521,
          -33.92812014604874,
          37.986344624023786,
          -26.644566062896274,
          -84.93733112287461,
          -58.90508292887421,
          54.18250366946137,
          34.19490230801172,
          83.10187006929658,
          -43.27393423134106,
          -32.23508017794035,
          -92.91730788431104,
          -22.367774094344398,
          -17.742797898747085,
          45.5576650385554,
          72.74316115093802,
          24.97322423705384,
          -59.57848446444825,
          9.85397407688707,
          -20.197195472095643,
          20.672338128682952,
          -2.510676926751202,
          15.5832200434769,
          -37.057325790853525,
          36.25514785549723,
          61.555919140796476,
          -113.719300238964,
          -62.04893775230042,
          96.862485807615,
          -57.57790196988785,
          -5.896688464070849,
          85.1902099242484,
          101.92219754276294,
          -7.548254850098232,
          97.79478499141277,
          96.77240326078233,
          -5.94132344270335,
          34.60347760652445,
          -21.630319191184725,
          78.03563743331787,
          0.26177045933597753,
          -129.88770177019353,
          112.56766270733465,
          54.24521492947244,
          -10.327873325806749,
          15.491843195626274,
          -25.505407793555165,
          -68.45562452170503,
          14.667388163700423,
          -63.08089374049705,
          19.839653206585965,
          -40.55228272122969,
          57.90093401132819,
          -59.081112082840974,
          -8.414970772551214,
          -0.08845717132800246,
          130.24957094023043,
          -12.879464042173595,
          -83.61118933860024,
          21.44045873151248,
          23.71582207338787,
          4.516112242909571,
          -97.89502838891039,
          -2.2459997542762267,
          27.48644773879306,
          -52.61178258337469,
          -26.657237091906893,
          -12.576255087213681,
          20.11066010409425,
          14.706948121775667,
          -52.165159450088,
          -1.0343844940658187,
          -68.87871792776343,
          -45.80192663025463,
          -33.51127930518567,
          48.87780305289357,
          43.49809534942864,
          -20.084860980250795,
          -25.788154419597248,
          14.84839966105767,
          -108.8140395992906,
          27.610669958881317,
          66.19923551048447,
          85.97250945345883,
          -22.040912467710427,
          -19.62698414972371,
          -9.193178904982503,
          9.466101289562545,
          62.46703441117097,
          -86.26062981784068,
          93.57348339577044,
          -49.106397730701076,
          53.36396734761783,
          84.66089651769721,
          18.24185885833859,
          -41.71683591056592,
          54.02735546393586,
          16.486060739690316,
          -43.263142100062254,
          -16.600942271862095,
          15.266266293763493,
          -6.282828454225012,
          -3.277613566965556,
          -11.120546733897626,
          12.864062240517,
          -48.07629912585847,
          80.8238916466899,
          -70.06234791910859,
          -38.77807073289064,
          20.56081145649688,
          35.98601672756884,
          132.64330096608933,
          83.99576832210221,
          63.6851870521466,
          82.53050490790525,
          -110.29775168423558,
          100.98348533626043,
          43.10946157518987,
          -20.033041483430907,
          -17.361809415480025,
          -76.48262579919913,
          -15.219762617008257,
          5.198724187546503,
          0.524277652871092,
          -38.892872328042955,
          22.199972709127934,
          13.062489899140502,
          41.82651966497542,
          -98.5668172311961,
          66.05189048585916,
          80.00008920402507,
          -91.85939930238698,
          -123.77174018780997,
          27.227444540783466,
          -125.0629445843191,
          -28.276719497115252,
          -40.98660253973422,
          75.8829836339716,
          -37.809953941365606,
          116.88475965788109,
          -51.70870434456063,
          -20.868244139490827,
          22.106159771180273,
          6.8143172749582845,
          13.52162746379237,
          -32.73594445173603,
          34.9330510302689,
          91.2242995354971,
          -22.231997184451515,
          13.310033843860907,
          79.82732603323919,
          43.92237192551889,
          -12.424834273100146,
          8.159667622118192,
          17.516115867889624,
          15.952530310023974,
          92.10404991858996,
          -5.506014900150603,
          24.00867739271186,
          -41.12811876010409,
          -13.599247929545925,
          8.664098219242618,
          58.72325823899763,
          -20.524040166311863,
          27.22447396791557,
          -11.104240195244415,
          -31.602286532195166,
          4.963956274938681,
          37.77578059975781,
          -99.8651967593033,
          -14.164297637817597,
          -39.2595316113333,
          6.101235250591145,
          19.723487133229895,
          32.047174668238824,
          -64.69568308674195,
          -58.7002890790713,
          39.13660984157411,
          -45.5071389448712,
          -65.27795738814785,
          52.401538618851305,
          -3.405708374374882,
          68.76186612539874,
          -55.2523987846554,
          -47.872754781475635,
          9.333803281462338,
          -79.22361933089755,
          -56.30774825701761,
          -2.481935066328063,
          -19.677869479335016,
          6.440127387100802,
          12.338777715160418,
          12.698894383007882,
          9.818243768337354
         ],
         "yaxis": "y"
        },
        {
         "hovertemplate": "Estimator=KNeighborsRegressor<br>Predicted=%{x}<br>Residuals=%{y}<extra></extra>",
         "legendgroup": "KNeighborsRegressor",
         "marker": {
          "color": "rgb(17, 165, 121)",
          "symbol": "circle"
         },
         "mode": "markers",
         "name": "KNeighborsRegressor",
         "showlegend": true,
         "type": "scattergl",
         "x": [
          197.8,
          83.8,
          108.2,
          202.6,
          81.8,
          118.6,
          76.6,
          168.4,
          115.8,
          143,
          96,
          150.4,
          96.6,
          107.4,
          95.6,
          160.4,
          156.8,
          180,
          147.8,
          93.2,
          103.4,
          78.4,
          159.6,
          263,
          154.6,
          125,
          101.6,
          158.2,
          98.6,
          202,
          158.2,
          88.2,
          256,
          83.2,
          85.6,
          124.8,
          142,
          115.2,
          214,
          75.4,
          174.4,
          120.2,
          101.6,
          87.6,
          246.8,
          100.6,
          189.2,
          142,
          92.6,
          139.2,
          81,
          127,
          115.8,
          86.2,
          84.6,
          58.4,
          159.8,
          95.6,
          123.4,
          135.6,
          116.6,
          135.6,
          92.4,
          125.4,
          106,
          140.4,
          138.4,
          108.8,
          81.8,
          101.4,
          79.8,
          213.6,
          134.8,
          139.4,
          124,
          80.4,
          142.8,
          95.8,
          164.6,
          131,
          137.2,
          119,
          83.8,
          135.6,
          69.4,
          143.2,
          102.6,
          136,
          81.2,
          80.4,
          102.8,
          128.8,
          187,
          86.6,
          79.2,
          91.2,
          200.4,
          204.6,
          71,
          131.8,
          166.4,
          80.2,
          130.4,
          173,
          128.4,
          94,
          118.2,
          128.2,
          215.2,
          195.6,
          89.4,
          107,
          111.6,
          199,
          281.2,
          171.4,
          236,
          234.4,
          173.8,
          111.4,
          123.2,
          212.6,
          236.6,
          183.4,
          121,
          139.2,
          93,
          108.2,
          104.4,
          229.6,
          273.2,
          85.4,
          134.6,
          101,
          92,
          205.4,
          99.8,
          229.8,
          264,
          235.6,
          185,
          262.6,
          175.2,
          123.8,
          193.8,
          192.8,
          154.6,
          217,
          135.2,
          129.4,
          192.6,
          109,
          186.4,
          127.2,
          171.8,
          223.6,
          148.4,
          107.4,
          155.6,
          253.8,
          91.2,
          213.6,
          126.2,
          228,
          110.4,
          96.6,
          99.8,
          291.2,
          258,
          235.8,
          76.2,
          55.6,
          200,
          121.6,
          128.6,
          118.6,
          244.2,
          182.2,
          109.8,
          165.6,
          166.6,
          96.6,
          179.6,
          128.2,
          206.4,
          130,
          196.4,
          94.4,
          110.8,
          116.2,
          129.2,
          126.2,
          125,
          170.2,
          140,
          197,
          82.4,
          202.6,
          175.4,
          200,
          94.2,
          79.2,
          153.8,
          206.8,
          180.8,
          258,
          144.2,
          238.2,
          256.2,
          151,
          98.8,
          190,
          151.6,
          92.6,
          71,
          256.4,
          231,
          224.6,
          191.2,
          126,
          95.6,
          158.6,
          100.8,
          119.2,
          56.6,
          195.6,
          109.6,
          142.4,
          119,
          85,
          235,
          149.6,
          137.4,
          97.8,
          220.8,
          154.8,
          169,
          86.8,
          150.6,
          147.4,
          269.6,
          125.8,
          81.4,
          87,
          106.8,
          116.8,
          147.2,
          97.6,
          164,
          184.8,
          228.4,
          241,
          163.6,
          196.8,
          260,
          104,
          199.6,
          104,
          168.4,
          111.6,
          71.4,
          103,
          276.6,
          75.4,
          113.2,
          79,
          91.4,
          154.4,
          282.4,
          111.6,
          176.8,
          183.2,
          134,
          171,
          158.4,
          163.8,
          135.4,
          79.8,
          107.6,
          59.6,
          216,
          137.8,
          106.8,
          63.8,
          124.2,
          136.4,
          73.6,
          109.4,
          112.6,
          201.4,
          250.6,
          168.8,
          103.8,
          136.4,
          81.2,
          129.4,
          84.6,
          114.6,
          155.4,
          88.4,
          230.2,
          115,
          197.2,
          201.2,
          149.2,
          190.6,
          158.8,
          173.6,
          114,
          165.6,
          231,
          169,
          65.2,
          244.8,
          132.4,
          71.8,
          135.8,
          164.2,
          166,
          172.4,
          138.4,
          248.8,
          254.6,
          222.6,
          170.2,
          175.2,
          128.6,
          158.6,
          89.8,
          110.8,
          134.2,
          111.6,
          293.4,
          172.4,
          92.6,
          102.4,
          215.4,
          186.2,
          108.2,
          140.6,
          181.8,
          187.2,
          157.8,
          145.2,
          178,
          123.4,
          206.4,
          106.2,
          150.6,
          130.6,
          295.2,
          74,
          66.4,
          155,
          174.4,
          109,
          83,
          187.8,
          79.8,
          217.6,
          159.2,
          103.2,
          253.6,
          123,
          205.4,
          170.2,
          247.6,
          258,
          251.8,
          176.2,
          108.4,
          181.2,
          66.8,
          161.4,
          142,
          192.2,
          230.8,
          211.4,
          170.2,
          114.8,
          166.4,
          113.8,
          262.6,
          124.4,
          193.4,
          143.4,
          123.4,
          144.4,
          146.4,
          88,
          276,
          91.4,
          94.4,
          119,
          196.8,
          157.2,
          91.4,
          163.6,
          172,
          199.4,
          207.8,
          79.2,
          154.2,
          189.6,
          166,
          264.2,
          109.8,
          137.2,
          217,
          192.8,
          187.6,
          119.4,
          220.6,
          108.6,
          188.2,
          174,
          216.6,
          141.6,
          121.4,
          113.8,
          134.6,
          170.4,
          214.2,
          210.8,
          141.4,
          108.6,
          203.6,
          126.2,
          273.6,
          71.6,
          125.6,
          161.8,
          214.2,
          94.4,
          120.8,
          119,
          84.2,
          156,
          142.2,
          91.4,
          137.2,
          89.4
         ],
         "xaxis": "x",
         "y": [
          -46.80000000000001,
          -8.799999999999997,
          32.8,
          3.4000000000000057,
          53.2,
          -21.599999999999994,
          61.400000000000006,
          -105.4,
          -5.799999999999997,
          167,
          5,
          -81.4,
          82.4,
          77.6,
          22.400000000000006,
          10.599999999999994,
          9.199999999999989,
          -36,
          -50.80000000000001,
          74.8,
          -35.400000000000006,
          -29.400000000000006,
          -91.6,
          -18,
          29.400000000000006,
          77,
          35.400000000000006,
          -73.19999999999999,
          32.400000000000006,
          81,
          -29.19999999999999,
          -29.200000000000003,
          85,
          3.799999999999997,
          -20.599999999999994,
          -22.799999999999997,
          123,
          160.8,
          38,
          14.599999999999994,
          -74.4,
          -65.2,
          -40.599999999999994,
          4.400000000000006,
          12.199999999999989,
          -47.599999999999994,
          0.8000000000000114,
          0,
          -17.599999999999994,
          2.8000000000000114,
          74,
          98,
          -56.8,
          17.799999999999997,
          97.4,
          69.6,
          -107.80000000000001,
          -58.599999999999994,
          46.599999999999994,
          34.400000000000006,
          -55.599999999999994,
          8.400000000000006,
          -40.400000000000006,
          2.5999999999999943,
          -35,
          22.599999999999994,
          11.599999999999994,
          -11.799999999999997,
          78.2,
          76.6,
          -31.799999999999997,
          56.400000000000006,
          67.19999999999999,
          -28.400000000000006,
          -39,
          -38.400000000000006,
          27.19999999999999,
          104.2,
          87.4,
          -18,
          5.800000000000011,
          -68,
          -31.799999999999997,
          74.4,
          -4.400000000000006,
          -2.1999999999999886,
          -47.599999999999994,
          -2,
          -39.2,
          30.599999999999994,
          -4.799999999999997,
          35.19999999999999,
          -139,
          9.400000000000006,
          10.799999999999997,
          70.8,
          -50.400000000000006,
          74.4,
          21,
          -48.80000000000001,
          -38.400000000000006,
          21.799999999999997,
          171.6,
          25,
          -33.400000000000006,
          -41,
          15.799999999999997,
          15.800000000000011,
          16.80000000000001,
          -114.6,
          14.599999999999994,
          -48,
          134.4,
          98,
          -23.19999999999999,
          57.599999999999994,
          39,
          46.599999999999994,
          5.199999999999989,
          88.6,
          76.8,
          -39.599999999999994,
          -56.599999999999994,
          -99.4,
          0,
          21.80000000000001,
          6,
          0.7999999999999972,
          10.599999999999994,
          38.400000000000006,
          0.8000000000000114,
          72.6,
          -27.599999999999994,
          -18,
          11,
          66.6,
          -14.799999999999997,
          50.19999999999999,
          72,
          45.400000000000006,
          -67,
          54.39999999999998,
          59.80000000000001,
          -63.8,
          -19.80000000000001,
          66.19999999999999,
          23.400000000000006,
          -89,
          -39.19999999999999,
          -3.4000000000000057,
          95.4,
          -21,
          105.6,
          -56.2,
          25.19999999999999,
          -37.599999999999994,
          -123.4,
          -23.400000000000006,
          -59.599999999999994,
          -58.80000000000001,
          -38.2,
          3.4000000000000057,
          45.8,
          -97,
          103.6,
          -37.599999999999994,
          -29.799999999999997,
          -71.19999999999999,
          10,
          -83.80000000000001,
          -29.200000000000003,
          18.4,
          95,
          -20.599999999999994,
          22.400000000000006,
          8.400000000000006,
          -7.199999999999989,
          42.80000000000001,
          -28.799999999999997,
          -14.599999999999994,
          -59.599999999999994,
          -32.599999999999994,
          -41.599999999999994,
          56.80000000000001,
          58.599999999999994,
          -29,
          -59.400000000000006,
          48.599999999999994,
          30.200000000000003,
          -37.2,
          162.8,
          51.8,
          -34,
          -54.19999999999999,
          -54,
          -75,
          -10.400000000000006,
          -73.6,
          -33.400000000000006,
          -110,
          63.8,
          -40.2,
          42.19999999999999,
          15.199999999999989,
          96.19999999999999,
          -159,
          51.80000000000001,
          -36.19999999999999,
          -101.19999999999999,
          -74,
          92.2,
          -120,
          -78.6,
          -43.599999999999994,
          -6,
          6.600000000000023,
          17,
          71.4,
          22.80000000000001,
          59,
          -17.599999999999994,
          -65.6,
          151.2,
          30.799999999999997,
          20.4,
          12.400000000000006,
          -32.599999999999994,
          -34.400000000000006,
          41,
          -32,
          -15,
          4.400000000000006,
          121.6,
          -7.799999999999997,
          25.19999999999999,
          -30.80000000000001,
          -102,
          -14.799999999999997,
          106.4,
          114.6,
          5.399999999999977,
          51.2,
          -10.400000000000006,
          -40,
          80.2,
          8.200000000000003,
          -69.19999999999999,
          -46.599999999999994,
          94,
          30.19999999999999,
          74.6,
          2,
          -72.6,
          -46.80000000000001,
          50,
          49,
          146.4,
          -41,
          -79.4,
          -61.599999999999994,
          -32.400000000000006,
          0,
          31.399999999999977,
          40.599999999999994,
          31.799999999999997,
          -5,
          -46.400000000000006,
          -39.400000000000006,
          -18.399999999999977,
          -24.599999999999994,
          25.19999999999999,
          -56.19999999999999,
          48,
          70,
          -92.4,
          -69.80000000000001,
          147.6,
          -15.799999999999997,
          -5.599999999999994,
          140.4,
          49,
          -43.80000000000001,
          123.2,
          117.2,
          31.799999999999997,
          96.6,
          -13.599999999999994,
          109.6,
          -32.599999999999994,
          -133.4,
          81.4,
          79.19999999999999,
          -19.799999999999997,
          63.599999999999994,
          -26.200000000000003,
          -44.400000000000006,
          4.400000000000006,
          -83.6,
          -26.400000000000006,
          -5.400000000000006,
          44.80000000000001,
          -50,
          0.8000000000000114,
          34.80000000000001,
          103.80000000000001,
          -66.6,
          -114.80000000000001,
          -1.5999999999999943,
          0,
          -23.599999999999994,
          -122,
          11,
          78.8,
          -81.80000000000001,
          14.599999999999994,
          25.200000000000003,
          84.19999999999999,
          25.80000000000001,
          -57,
          18.599999999999994,
          -16.400000000000006,
          -18.80000000000001,
          -12.599999999999994,
          25.400000000000006,
          78.80000000000001,
          16.80000000000001,
          2.4000000000000057,
          78.4,
          -11.799999999999997,
          24.200000000000003,
          109.80000000000001,
          87.4,
          -23.399999999999977,
          -8.400000000000006,
          -20.599999999999994,
          -6.400000000000006,
          90.6,
          -95.19999999999999,
          105.8,
          -45.599999999999994,
          34.19999999999999,
          75.80000000000001,
          20.19999999999999,
          -32.19999999999999,
          22,
          15.599999999999994,
          -67.4,
          -18.200000000000003,
          -2.5999999999999943,
          -42.599999999999994,
          -52.19999999999999,
          -3,
          10.599999999999994,
          -46,
          97.6,
          -49,
          -29,
          33.19999999999999,
          10.200000000000003,
          93.4,
          121.80000000000001,
          78.8,
          67.4,
          -65,
          56.599999999999994,
          35.80000000000001,
          -14.599999999999994,
          -16,
          -128.8,
          -9.199999999999989,
          -45.400000000000006,
          15.800000000000011,
          4.200000000000003,
          6.599999999999994,
          -2,
          24.80000000000001,
          -109.80000000000001,
          23.599999999999994,
          74.80000000000001,
          -74.8,
          -114.4,
          -9.799999999999997,
          -130.60000000000002,
          -36.400000000000006,
          -124.4,
          75.6,
          -51.400000000000006,
          56.599999999999994,
          -36.400000000000006,
          -37,
          1,
          -28.400000000000006,
          23.599999999999994,
          -50,
          76.19999999999999,
          100.80000000000001,
          -48.400000000000006,
          34.400000000000006,
          70,
          32.599999999999994,
          -32.80000000000001,
          13.799999999999997,
          13.800000000000011,
          85.4,
          127,
          16.80000000000001,
          -37.8,
          2.8000000000000114,
          -28,
          -11.800000000000011,
          21.400000000000006,
          16.599999999999994,
          40.400000000000006,
          4.400000000000006,
          -57.19999999999999,
          0,
          40.400000000000006,
          -86.6,
          -37.400000000000006,
          -71.8,
          11.400000000000006,
          41.599999999999994,
          18.80000000000001,
          -119.80000000000001,
          -30.400000000000006,
          43.400000000000006,
          -83.6,
          -59.2,
          36.39999999999998,
          22.400000000000006,
          57.400000000000006,
          -95.80000000000001,
          -41.19999999999999,
          -22.400000000000006,
          -71.8,
          -55,
          -36.2,
          22,
          -38.19999999999999,
          40.599999999999994,
          82.80000000000001,
          -32.400000000000006
         ],
         "yaxis": "y"
        },
        {
         "hovertemplate": "Estimator=RandomForestRegressor<br>Predicted=%{x}<br>Residuals=%{y}<extra></extra>",
         "legendgroup": "RandomForestRegressor",
         "marker": {
          "color": "rgb(57, 105, 172)",
          "symbol": "circle"
         },
         "mode": "markers",
         "name": "RandomForestRegressor",
         "showlegend": true,
         "type": "scattergl",
         "x": [
          212.96,
          79.68,
          156.58,
          157.61,
          95.14,
          114.52,
          65.35,
          163.4,
          145.49,
          131.51,
          116.98,
          172.09,
          99.5,
          180.84,
          96.14,
          187.78,
          213.6,
          203.96,
          117.13,
          100.27,
          120.41,
          79.97,
          117.59,
          249.86,
          131.99,
          170.03,
          99.79,
          160.94,
          139.86,
          192.28,
          139.94,
          79.6,
          240.21,
          116.75,
          92.55,
          139.06,
          204.77,
          132.98,
          235.8,
          172.08,
          187,
          115.42,
          141.95,
          88.19,
          231.95,
          107.46,
          132.76,
          106.92,
          82.59,
          188.64,
          124.6,
          178.5,
          97.48,
          123.62,
          138.71,
          72.23,
          233.94,
          84.91,
          118.23,
          142.47,
          90.71,
          144.25,
          62.93,
          111.77,
          138.42,
          175.5,
          130.99,
          98.05,
          91.13,
          93.31,
          84.92,
          250.51,
          153.75,
          114.74,
          181.4,
          102.53,
          196.02,
          99.38,
          173.94,
          113.93,
          187.58,
          102.48,
          90.78,
          149.17,
          98.18,
          158.28,
          98.27,
          168.83,
          100.86,
          82.57,
          84.25,
          164.61,
          172.3,
          77.93,
          97.3,
          120.6,
          196.02,
          239.29,
          89.4,
          151.02,
          181.59,
          96.65,
          156.33,
          153.6,
          151.33,
          110.33,
          129.41,
          116.63,
          217.39,
          138.07,
          87.57,
          99.06,
          167.46,
          245.2,
          286.06,
          157.1,
          205.42,
          198.42,
          182.43,
          143.41,
          101.24,
          197.31,
          257.59,
          231.5,
          145.16,
          199.78,
          88.3,
          145.35,
          88.57,
          245.03,
          255.2,
          97.63,
          100.88,
          90.09,
          153.86,
          229.56,
          90.1,
          208.02,
          279.47,
          213.81,
          158.77,
          209.77,
          169.68,
          128.15,
          139.82,
          207.64,
          175.69,
          255.19,
          185.67,
          164.03,
          160.58,
          142.39,
          212.7,
          118.81,
          178,
          232.56,
          135.51,
          102.55,
          112.38,
          249.32,
          88.11,
          238.29,
          128.41,
          229.57,
          124.4,
          81.86,
          99.58,
          270.06,
          252.81,
          196.08,
          70.12,
          95.64,
          233.69,
          121.03,
          177.31,
          123.5,
          194.3,
          190.27,
          73.89,
          155.09,
          181.15,
          106.08,
          183.71,
          158.88,
          181.67,
          159.57,
          207.61,
          98.63,
          103.51,
          104.17,
          155.49,
          148.67,
          99.21,
          160.26,
          171.65,
          193.79,
          96.71,
          216.52,
          135.39,
          180.64,
          88.89,
          81.17,
          154.12,
          192.24,
          162.67,
          242.79,
          154.89,
          229.78,
          213.51,
          128.2,
          127.13,
          179.32,
          128.31,
          97.81,
          103.06,
          280.47,
          221.89,
          221.85,
          137.08,
          149.28,
          97.17,
          134.73,
          93.08,
          151.14,
          80.9,
          228.06,
          111.87,
          88.39,
          99.33,
          91.15,
          227.06,
          126.19,
          152.8,
          119.36,
          238.69,
          172.78,
          178.37,
          76.99,
          135.79,
          214.1,
          267.99,
          109.62,
          103.15,
          97.06,
          124.96,
          85.45,
          145.29,
          108.69,
          208.09,
          240.02,
          216.7,
          254.84,
          150.95,
          202.46,
          252.59,
          87.17,
          179.44,
          113.26,
          115.24,
          126.77,
          91.35,
          130.29,
          242.78,
          85.4,
          142.76,
          116.15,
          100.79,
          164.97,
          279.84,
          91.95,
          205.03,
          164.14,
          144.83,
          163.51,
          143.63,
          134.84,
          217.38,
          80.45,
          147.24,
          104.74,
          215.59,
          137.87,
          129.29,
          73.37,
          162.01,
          184.25,
          83.48,
          151.59,
          86,
          206.94,
          241.43,
          241.56,
          95.71,
          192.75,
          72.07,
          169.4,
          81.21,
          96.3,
          137.73,
          111.93,
          233.56,
          105.11,
          203.57,
          225.67,
          135.63,
          168.94,
          99.77,
          177.57,
          99.94,
          176.92,
          206.1,
          152.97,
          101.86,
          244.9,
          142.35,
          94.9,
          236.83,
          157.07,
          173.73,
          204.38,
          178.13,
          266.38,
          266.09,
          193.33,
          153.19,
          219.35,
          177.01,
          230.61,
          169.52,
          89.66,
          185.61,
          101.95,
          278.6,
          211.06,
          96.91,
          90.67,
          228.84,
          186.2,
          117.8,
          121.53,
          80.78,
          171.28,
          164.6,
          156.97,
          156.2,
          149.3,
          204.05,
          115.02,
          114.84,
          108.66,
          259.36,
          98.01,
          84.55,
          155.17,
          217.2,
          115.97,
          108.71,
          158.4,
          87.83,
          170.18,
          171.04,
          98.42,
          245.73,
          142.79,
          160.32,
          192.69,
          247.65,
          261.71,
          221.4,
          163.71,
          81.24,
          183.58,
          89.31,
          110.87,
          165.28,
          188.84,
          208.73,
          187.85,
          160.54,
          106.93,
          176.26,
          115.55,
          262.47,
          112.6,
          145.88,
          104.88,
          95.59,
          144.91,
          168.36,
          72.76,
          250.92,
          88.85,
          108.61,
          122.43,
          207.95,
          155.69,
          96.78,
          183.79,
          182.21,
          213.51,
          187.4,
          75.16,
          134.9,
          250.4,
          183.67,
          276.36,
          90.9,
          176.99,
          187.13,
          175.14,
          138.18,
          115.65,
          268.06,
          80.41,
          162.37,
          144.84,
          178.65,
          161.04,
          113.45,
          110.19,
          127.08,
          179.97,
          208.77,
          160.16,
          191.31,
          94.99,
          171.03,
          140.73,
          253.2,
          86.85,
          104.39,
          126.95,
          237.73,
          73.78,
          92.15,
          100.84,
          80,
          249.48,
          128.68,
          84.08,
          157.04,
          119.77
         ],
         "xaxis": "x",
         "y": [
          -61.96000000000001,
          -4.680000000000007,
          -15.580000000000013,
          48.389999999999986,
          39.86,
          -17.519999999999996,
          72.65,
          -100.4,
          -35.49000000000001,
          178.49,
          -15.980000000000004,
          -103.09,
          79.5,
          4.159999999999997,
          21.86,
          -16.78,
          -47.599999999999994,
          -59.96000000000001,
          -20.129999999999995,
          67.73,
          -52.41,
          -30.97,
          -49.59,
          -4.860000000000014,
          52.00999999999999,
          31.97,
          37.209999999999994,
          -75.94,
          -8.860000000000014,
          90.72,
          -10.939999999999998,
          -20.599999999999994,
          100.78999999999999,
          -29.75,
          -27.549999999999997,
          -37.06,
          60.22999999999999,
          143.02,
          16.19999999999999,
          -82.08000000000001,
          -87,
          -60.42,
          -80.94999999999999,
          3.8100000000000023,
          27.05000000000001,
          -54.459999999999994,
          57.24000000000001,
          35.08,
          -7.590000000000003,
          -46.639999999999986,
          30.400000000000006,
          46.5,
          -38.480000000000004,
          -19.620000000000005,
          43.28999999999999,
          55.769999999999996,
          -181.94,
          -47.91,
          51.769999999999996,
          27.53,
          -29.709999999999994,
          -0.25,
          -10.93,
          16.230000000000004,
          -67.41999999999999,
          -12.5,
          19.00999999999999,
          -1.0499999999999972,
          68.87,
          84.69,
          -36.92,
          19.49000000000001,
          48.25,
          -3.739999999999995,
          -96.4,
          -60.53,
          -26.02000000000001,
          100.62,
          78.06,
          -0.9300000000000068,
          -44.58000000000001,
          -51.480000000000004,
          -38.78,
          60.83000000000001,
          -33.18000000000001,
          -17.28,
          -43.269999999999996,
          -34.83000000000001,
          -58.86,
          28.430000000000007,
          13.75,
          -0.6100000000000136,
          -124.30000000000001,
          18.069999999999993,
          -7.299999999999997,
          41.400000000000006,
          -46.02000000000001,
          39.71000000000001,
          2.5999999999999943,
          -68.02000000000001,
          -53.59,
          5.349999999999994,
          145.67,
          44.400000000000006,
          -56.33000000000001,
          -57.33,
          4.590000000000003,
          27.370000000000005,
          14.610000000000014,
          -57.06999999999999,
          16.430000000000007,
          -40.06,
          78.53999999999999,
          51.80000000000001,
          -28.060000000000002,
          71.9,
          69.58000000000001,
          82.58000000000001,
          -3.430000000000007,
          56.59,
          98.76,
          -24.310000000000002,
          -77.58999999999997,
          -147.5,
          -24.159999999999997,
          -38.78,
          10.700000000000003,
          -36.349999999999994,
          26.430000000000007,
          22.97,
          18.80000000000001,
          60.370000000000005,
          6.1200000000000045,
          -7.090000000000003,
          -50.860000000000014,
          42.44,
          -5.099999999999994,
          71.97999999999999,
          56.52999999999997,
          67.19,
          -40.77000000000001,
          107.22999999999999,
          65.32,
          -68.15,
          34.18000000000001,
          51.360000000000014,
          2.3100000000000023,
          -127.19,
          -89.66999999999999,
          -38.03,
          127.41999999999999,
          -54.389999999999986,
          79.30000000000001,
          -47.81,
          19,
          -46.56,
          -110.50999999999999,
          -18.549999999999997,
          -16.379999999999995,
          -54.31999999999999,
          -35.11,
          -21.289999999999992,
          43.59,
          -98.57,
          89.6,
          -22.86,
          -29.58,
          -50.06,
          15.189999999999998,
          -44.08000000000001,
          -23.120000000000005,
          -21.64,
          61.31,
          -20.03,
          -26.310000000000002,
          3.5,
          42.69999999999999,
          34.72999999999999,
          7.109999999999999,
          -4.090000000000003,
          -74.15,
          -42.08,
          -45.71000000000001,
          26.120000000000005,
          83.33000000000001,
          -58.56999999999999,
          -70.61000000000001,
          44.370000000000005,
          37.489999999999995,
          -25.17,
          136.51,
          29.330000000000013,
          -8.209999999999994,
          -44.25999999999999,
          -85.65,
          -71.78999999999999,
          -24.709999999999994,
          -87.52000000000001,
          6.610000000000014,
          -90.63999999999999,
          69.11,
          -42.17,
          41.879999999999995,
          29.75999999999999,
          114.33000000000001,
          -143.79,
          41.110000000000014,
          -27.78,
          -58.50999999999999,
          -51.19999999999999,
          63.870000000000005,
          -109.32,
          -55.31,
          -48.81,
          -38.06,
          -17.470000000000027,
          26.110000000000014,
          74.15,
          76.91999999999999,
          35.72,
          -19.17,
          -41.72999999999999,
          158.92000000000002,
          -1.1399999999999864,
          -3.9000000000000057,
          -20.060000000000002,
          -34.870000000000005,
          19.61,
          60.67,
          -38.150000000000006,
          -7.060000000000002,
          27.810000000000002,
          106.19999999999999,
          -29.36,
          7.310000000000002,
          -48.78,
          -111.37,
          -4.989999999999995,
          121.21000000000001,
          47.900000000000006,
          7.009999999999991,
          67.38,
          -32.150000000000006,
          -50.06,
          62.040000000000006,
          39.55,
          -67.28999999999999,
          -57.69,
          49.91,
          -25.02000000000001,
          86.30000000000001,
          -11.840000000000003,
          -59.94999999999999,
          -52.46000000000001,
          57.41,
          65.83,
          166.56,
          -50.260000000000005,
          -26.239999999999995,
          -76.77,
          -52.349999999999994,
          -27.289999999999992,
          65.22,
          30.599999999999994,
          2.240000000000009,
          -42.150000000000006,
          -55.790000000000006,
          -49.97,
          -15.839999999999975,
          -4.950000000000003,
          -3.030000000000001,
          -37.139999999999986,
          37.16999999999999,
          77.49000000000001,
          -77.63,
          -40.84,
          65.62,
          -16.450000000000003,
          -45.24000000000001,
          95.26,
          49.41,
          -43.870000000000005,
          100.71000000000001,
          107.63,
          -6.009999999999991,
          48.75,
          -23.480000000000004,
          67.41,
          -6,
          -138.94,
          90.57,
          6.439999999999998,
          -11.709999999999994,
          7.25,
          -17.069999999999993,
          -84.4,
          7.790000000000006,
          -65.3,
          -8.72999999999999,
          -28.930000000000007,
          41.44,
          -40.11,
          -5.569999999999993,
          10.330000000000013,
          117.37,
          -44.94,
          -55.769999999999996,
          -5.569999999999993,
          14.060000000000002,
          -34.91999999999999,
          -97.1,
          27.03,
          42.14,
          -81.9,
          4.650000000000006,
          2.0999999999999943,
          -16.830000000000013,
          32.93000000000001,
          -64.72999999999999,
          -13.379999999999995,
          -56.129999999999995,
          -36.379999999999995,
          -24.089999999999975,
          54.66999999999999,
          95.81,
          -27.349999999999994,
          -46.00999999999999,
          6.389999999999986,
          -91.52000000000001,
          45.34,
          58.389999999999986,
          97.05,
          -8.600000000000023,
          -47.06,
          -24.909999999999997,
          5.329999999999998,
          77.16,
          -95.19999999999999,
          96.2,
          -26.53,
          135.22,
          91.72,
          13.400000000000006,
          -43.97,
          43.80000000000001,
          -10.300000000000011,
          -65.05000000000001,
          -27.019999999999996,
          33.16,
          -20.659999999999997,
          -16.360000000000014,
          -27.010000000000005,
          -7.549999999999997,
          -46.16999999999999,
          54.80000000000001,
          -55.97,
          -54.709999999999994,
          62.599999999999994,
          2.1700000000000017,
          140.82,
          109.96000000000001,
          83.58,
          75.27000000000001,
          -84.78999999999999,
          101.68,
          13.310000000000002,
          -14.650000000000006,
          -19.70999999999998,
          -98.4,
          3.289999999999992,
          -18.239999999999995,
          13.419999999999987,
          -18.310000000000002,
          57.129999999999995,
          -25.28,
          28.159999999999997,
          -87.72999999999999,
          47.150000000000006,
          84.46000000000001,
          -66.93,
          -124.25999999999999,
          -11.549999999999997,
          -130.47000000000003,
          -24.599999999999994,
          -76.88,
          114.12,
          -23.590000000000003,
          56.09,
          -58.360000000000014,
          -21.760000000000005,
          26.080000000000013,
          -25.849999999999994,
          9.39,
          -53.43000000000001,
          65.05000000000001,
          102.31,
          -53.78,
          14.210000000000008,
          59.78999999999999,
          18.49000000000001,
          -12.400000000000006,
          17.840000000000003,
          33.099999999999994,
          24.599999999999994,
          109.33000000000001,
          4.639999999999986,
          -18.900000000000006,
          -36.99000000000001,
          1.8700000000000045,
          5.860000000000014,
          70.82,
          20.349999999999994,
          -7.060000000000002,
          32.59,
          -31.370000000000005,
          29.159999999999997,
          78.35,
          -106.03999999999999,
          -29.450000000000003,
          -68.19,
          18.92,
          32.03,
          24.22999999999999,
          -69.16,
          -80.31,
          57.010000000000005,
          -51.03,
          -73.72999999999999,
          56.80000000000001,
          7.150000000000006,
          78.61,
          -60.95,
          -64.72999999999999,
          -1.7800000000000011,
          -43.150000000000006,
          -36.84,
          -32,
          -71.47999999999999,
          -24.680000000000007,
          47.92,
          62.96000000000001,
          -62.769999999999996
         ],
         "yaxis": "y"
        }
       ],
       "layout": {
        "legend": {
         "title": {
          "text": "Estimator"
         },
         "tracegroupgap": 0
        },
        "template": {
         "data": {
          "bar": [
           {
            "error_x": {
             "color": "#2a3f5f"
            },
            "error_y": {
             "color": "#2a3f5f"
            },
            "marker": {
             "line": {
              "color": "white",
              "width": 0.5
             },
             "pattern": {
              "fillmode": "overlay",
              "size": 10,
              "solidity": 0.2
             }
            },
            "type": "bar"
           }
          ],
          "barpolar": [
           {
            "marker": {
             "line": {
              "color": "white",
              "width": 0.5
             },
             "pattern": {
              "fillmode": "overlay",
              "size": 10,
              "solidity": 0.2
             }
            },
            "type": "barpolar"
           }
          ],
          "carpet": [
           {
            "aaxis": {
             "endlinecolor": "#2a3f5f",
             "gridcolor": "#C8D4E3",
             "linecolor": "#C8D4E3",
             "minorgridcolor": "#C8D4E3",
             "startlinecolor": "#2a3f5f"
            },
            "baxis": {
             "endlinecolor": "#2a3f5f",
             "gridcolor": "#C8D4E3",
             "linecolor": "#C8D4E3",
             "minorgridcolor": "#C8D4E3",
             "startlinecolor": "#2a3f5f"
            },
            "type": "carpet"
           }
          ],
          "choropleth": [
           {
            "colorbar": {
             "outlinewidth": 0,
             "ticks": ""
            },
            "type": "choropleth"
           }
          ],
          "contour": [
           {
            "colorbar": {
             "outlinewidth": 0,
             "ticks": ""
            },
            "colorscale": [
             [
              0,
              "#0d0887"
             ],
             [
              0.1111111111111111,
              "#46039f"
             ],
             [
              0.2222222222222222,
              "#7201a8"
             ],
             [
              0.3333333333333333,
              "#9c179e"
             ],
             [
              0.4444444444444444,
              "#bd3786"
             ],
             [
              0.5555555555555556,
              "#d8576b"
             ],
             [
              0.6666666666666666,
              "#ed7953"
             ],
             [
              0.7777777777777778,
              "#fb9f3a"
             ],
             [
              0.8888888888888888,
              "#fdca26"
             ],
             [
              1,
              "#f0f921"
             ]
            ],
            "type": "contour"
           }
          ],
          "contourcarpet": [
           {
            "colorbar": {
             "outlinewidth": 0,
             "ticks": ""
            },
            "type": "contourcarpet"
           }
          ],
          "heatmap": [
           {
            "colorbar": {
             "outlinewidth": 0,
             "ticks": ""
            },
            "colorscale": [
             [
              0,
              "#0d0887"
             ],
             [
              0.1111111111111111,
              "#46039f"
             ],
             [
              0.2222222222222222,
              "#7201a8"
             ],
             [
              0.3333333333333333,
              "#9c179e"
             ],
             [
              0.4444444444444444,
              "#bd3786"
             ],
             [
              0.5555555555555556,
              "#d8576b"
             ],
             [
              0.6666666666666666,
              "#ed7953"
             ],
             [
              0.7777777777777778,
              "#fb9f3a"
             ],
             [
              0.8888888888888888,
              "#fdca26"
             ],
             [
              1,
              "#f0f921"
             ]
            ],
            "type": "heatmap"
           }
          ],
          "heatmapgl": [
           {
            "colorbar": {
             "outlinewidth": 0,
             "ticks": ""
            },
            "colorscale": [
             [
              0,
              "#0d0887"
             ],
             [
              0.1111111111111111,
              "#46039f"
             ],
             [
              0.2222222222222222,
              "#7201a8"
             ],
             [
              0.3333333333333333,
              "#9c179e"
             ],
             [
              0.4444444444444444,
              "#bd3786"
             ],
             [
              0.5555555555555556,
              "#d8576b"
             ],
             [
              0.6666666666666666,
              "#ed7953"
             ],
             [
              0.7777777777777778,
              "#fb9f3a"
             ],
             [
              0.8888888888888888,
              "#fdca26"
             ],
             [
              1,
              "#f0f921"
             ]
            ],
            "type": "heatmapgl"
           }
          ],
          "histogram": [
           {
            "marker": {
             "pattern": {
              "fillmode": "overlay",
              "size": 10,
              "solidity": 0.2
             }
            },
            "type": "histogram"
           }
          ],
          "histogram2d": [
           {
            "colorbar": {
             "outlinewidth": 0,
             "ticks": ""
            },
            "colorscale": [
             [
              0,
              "#0d0887"
             ],
             [
              0.1111111111111111,
              "#46039f"
             ],
             [
              0.2222222222222222,
              "#7201a8"
             ],
             [
              0.3333333333333333,
              "#9c179e"
             ],
             [
              0.4444444444444444,
              "#bd3786"
             ],
             [
              0.5555555555555556,
              "#d8576b"
             ],
             [
              0.6666666666666666,
              "#ed7953"
             ],
             [
              0.7777777777777778,
              "#fb9f3a"
             ],
             [
              0.8888888888888888,
              "#fdca26"
             ],
             [
              1,
              "#f0f921"
             ]
            ],
            "type": "histogram2d"
           }
          ],
          "histogram2dcontour": [
           {
            "colorbar": {
             "outlinewidth": 0,
             "ticks": ""
            },
            "colorscale": [
             [
              0,
              "#0d0887"
             ],
             [
              0.1111111111111111,
              "#46039f"
             ],
             [
              0.2222222222222222,
              "#7201a8"
             ],
             [
              0.3333333333333333,
              "#9c179e"
             ],
             [
              0.4444444444444444,
              "#bd3786"
             ],
             [
              0.5555555555555556,
              "#d8576b"
             ],
             [
              0.6666666666666666,
              "#ed7953"
             ],
             [
              0.7777777777777778,
              "#fb9f3a"
             ],
             [
              0.8888888888888888,
              "#fdca26"
             ],
             [
              1,
              "#f0f921"
             ]
            ],
            "type": "histogram2dcontour"
           }
          ],
          "mesh3d": [
           {
            "colorbar": {
             "outlinewidth": 0,
             "ticks": ""
            },
            "type": "mesh3d"
           }
          ],
          "parcoords": [
           {
            "line": {
             "colorbar": {
              "outlinewidth": 0,
              "ticks": ""
             }
            },
            "type": "parcoords"
           }
          ],
          "pie": [
           {
            "automargin": true,
            "type": "pie"
           }
          ],
          "scatter": [
           {
            "fillpattern": {
             "fillmode": "overlay",
             "size": 10,
             "solidity": 0.2
            },
            "type": "scatter"
           }
          ],
          "scatter3d": [
           {
            "line": {
             "colorbar": {
              "outlinewidth": 0,
              "ticks": ""
             }
            },
            "marker": {
             "colorbar": {
              "outlinewidth": 0,
              "ticks": ""
             }
            },
            "type": "scatter3d"
           }
          ],
          "scattercarpet": [
           {
            "marker": {
             "colorbar": {
              "outlinewidth": 0,
              "ticks": ""
             }
            },
            "type": "scattercarpet"
           }
          ],
          "scattergeo": [
           {
            "marker": {
             "colorbar": {
              "outlinewidth": 0,
              "ticks": ""
             }
            },
            "type": "scattergeo"
           }
          ],
          "scattergl": [
           {
            "marker": {
             "colorbar": {
              "outlinewidth": 0,
              "ticks": ""
             }
            },
            "type": "scattergl"
           }
          ],
          "scattermapbox": [
           {
            "marker": {
             "colorbar": {
              "outlinewidth": 0,
              "ticks": ""
             }
            },
            "type": "scattermapbox"
           }
          ],
          "scatterpolar": [
           {
            "marker": {
             "colorbar": {
              "outlinewidth": 0,
              "ticks": ""
             }
            },
            "type": "scatterpolar"
           }
          ],
          "scatterpolargl": [
           {
            "marker": {
             "colorbar": {
              "outlinewidth": 0,
              "ticks": ""
             }
            },
            "type": "scatterpolargl"
           }
          ],
          "scatterternary": [
           {
            "marker": {
             "colorbar": {
              "outlinewidth": 0,
              "ticks": ""
             }
            },
            "type": "scatterternary"
           }
          ],
          "surface": [
           {
            "colorbar": {
             "outlinewidth": 0,
             "ticks": ""
            },
            "colorscale": [
             [
              0,
              "#0d0887"
             ],
             [
              0.1111111111111111,
              "#46039f"
             ],
             [
              0.2222222222222222,
              "#7201a8"
             ],
             [
              0.3333333333333333,
              "#9c179e"
             ],
             [
              0.4444444444444444,
              "#bd3786"
             ],
             [
              0.5555555555555556,
              "#d8576b"
             ],
             [
              0.6666666666666666,
              "#ed7953"
             ],
             [
              0.7777777777777778,
              "#fb9f3a"
             ],
             [
              0.8888888888888888,
              "#fdca26"
             ],
             [
              1,
              "#f0f921"
             ]
            ],
            "type": "surface"
           }
          ],
          "table": [
           {
            "cells": {
             "fill": {
              "color": "#EBF0F8"
             },
             "line": {
              "color": "white"
             }
            },
            "header": {
             "fill": {
              "color": "#C8D4E3"
             },
             "line": {
              "color": "white"
             }
            },
            "type": "table"
           }
          ]
         },
         "layout": {
          "annotationdefaults": {
           "arrowcolor": "#2a3f5f",
           "arrowhead": 0,
           "arrowwidth": 1
          },
          "autotypenumbers": "strict",
          "coloraxis": {
           "colorbar": {
            "outlinewidth": 0,
            "ticks": ""
           }
          },
          "colorscale": {
           "diverging": [
            [
             0,
             "#8e0152"
            ],
            [
             0.1,
             "#c51b7d"
            ],
            [
             0.2,
             "#de77ae"
            ],
            [
             0.3,
             "#f1b6da"
            ],
            [
             0.4,
             "#fde0ef"
            ],
            [
             0.5,
             "#f7f7f7"
            ],
            [
             0.6,
             "#e6f5d0"
            ],
            [
             0.7,
             "#b8e186"
            ],
            [
             0.8,
             "#7fbc41"
            ],
            [
             0.9,
             "#4d9221"
            ],
            [
             1,
             "#276419"
            ]
           ],
           "sequential": [
            [
             0,
             "#0d0887"
            ],
            [
             0.1111111111111111,
             "#46039f"
            ],
            [
             0.2222222222222222,
             "#7201a8"
            ],
            [
             0.3333333333333333,
             "#9c179e"
            ],
            [
             0.4444444444444444,
             "#bd3786"
            ],
            [
             0.5555555555555556,
             "#d8576b"
            ],
            [
             0.6666666666666666,
             "#ed7953"
            ],
            [
             0.7777777777777778,
             "#fb9f3a"
            ],
            [
             0.8888888888888888,
             "#fdca26"
            ],
            [
             1,
             "#f0f921"
            ]
           ],
           "sequentialminus": [
            [
             0,
             "#0d0887"
            ],
            [
             0.1111111111111111,
             "#46039f"
            ],
            [
             0.2222222222222222,
             "#7201a8"
            ],
            [
             0.3333333333333333,
             "#9c179e"
            ],
            [
             0.4444444444444444,
             "#bd3786"
            ],
            [
             0.5555555555555556,
             "#d8576b"
            ],
            [
             0.6666666666666666,
             "#ed7953"
            ],
            [
             0.7777777777777778,
             "#fb9f3a"
            ],
            [
             0.8888888888888888,
             "#fdca26"
            ],
            [
             1,
             "#f0f921"
            ]
           ]
          },
          "colorway": [
           "#636efa",
           "#EF553B",
           "#00cc96",
           "#ab63fa",
           "#FFA15A",
           "#19d3f3",
           "#FF6692",
           "#B6E880",
           "#FF97FF",
           "#FECB52"
          ],
          "font": {
           "color": "#8C8C8C"
          },
          "geo": {
           "bgcolor": "white",
           "lakecolor": "white",
           "landcolor": "white",
           "showlakes": true,
           "showland": true,
           "subunitcolor": "#C8D4E3"
          },
          "hoverlabel": {
           "align": "left"
          },
          "hovermode": "closest",
          "legend": {
           "orientation": "h",
           "x": 0,
           "xanchor": "left",
           "y": -0.2,
           "yanchor": "top"
          },
          "mapbox": {
           "style": "light"
          },
          "margin": {
           "l": 20,
           "r": 20
          },
          "paper_bgcolor": "white",
          "plot_bgcolor": "white",
          "polar": {
           "angularaxis": {
            "gridcolor": "#EBF0F8",
            "linecolor": "#EBF0F8",
            "ticks": ""
           },
           "bgcolor": "white",
           "radialaxis": {
            "gridcolor": "#EBF0F8",
            "linecolor": "#EBF0F8",
            "ticks": ""
           }
          },
          "scene": {
           "xaxis": {
            "backgroundcolor": "white",
            "gridcolor": "#DFE8F3",
            "gridwidth": 2,
            "linecolor": "#EBF0F8",
            "showbackground": true,
            "ticks": "",
            "zerolinecolor": "#EBF0F8"
           },
           "yaxis": {
            "backgroundcolor": "white",
            "gridcolor": "#DFE8F3",
            "gridwidth": 2,
            "linecolor": "#EBF0F8",
            "showbackground": true,
            "ticks": "",
            "zerolinecolor": "#EBF0F8"
           },
           "zaxis": {
            "backgroundcolor": "white",
            "gridcolor": "#DFE8F3",
            "gridwidth": 2,
            "linecolor": "#EBF0F8",
            "showbackground": true,
            "ticks": "",
            "zerolinecolor": "#EBF0F8"
           }
          },
          "shapedefaults": {
           "line": {
            "color": "#2a3f5f"
           }
          },
          "ternary": {
           "aaxis": {
            "gridcolor": "#DFE8F3",
            "linecolor": "#A2B1C6",
            "ticks": ""
           },
           "baxis": {
            "gridcolor": "#DFE8F3",
            "linecolor": "#A2B1C6",
            "ticks": ""
           },
           "bgcolor": "white",
           "caxis": {
            "gridcolor": "#DFE8F3",
            "linecolor": "#A2B1C6",
            "ticks": ""
           }
          },
          "title": {
           "x": 0.05
          },
          "xaxis": {
           "automargin": true,
           "gridcolor": "#EBF0F8",
           "linecolor": "#EBF0F8",
           "ticks": "",
           "title": {
            "standoff": 15
           },
           "zerolinecolor": "#EBF0F8",
           "zerolinewidth": 2
          },
          "yaxis": {
           "automargin": true,
           "gridcolor": "#EBF0F8",
           "linecolor": "#EBF0F8",
           "ticks": "",
           "title": {
            "standoff": 15
           },
           "zerolinecolor": "#EBF0F8",
           "zerolinewidth": 2
          }
         }
        },
        "title": {
         "text": "Residuals vs predictions"
        },
        "xaxis": {
         "anchor": "y",
         "domain": [
          0,
          1
         ],
         "title": {
          "text": "Predicted"
         }
        },
        "yaxis": {
         "anchor": "x",
         "domain": [
          0,
          1
         ],
         "title": {
          "text": "Residuals"
         }
        }
       }
      }
     },
     "metadata": {},
     "output_type": "display_data"
    }
   ],
   "source": [
    "from sklearn.datasets import load_diabetes\n",
    "from sklearn.linear_model import LinearRegression\n",
    "from sklearn.neighbors import KNeighborsRegressor\n",
    "from sklearn.ensemble import RandomForestRegressor\n",
    "from poniard import PoniardRegressor\n",
    "\n",
    "X, y = load_diabetes(return_X_y=True, as_frame=True)\n",
    "reg = PoniardRegressor(\n",
    "    estimators=[LinearRegression(), RandomForestRegressor(), KNeighborsRegressor()]\n",
    ").setup(X, y)\n",
    "reg.fit()\n",
    "selected_reg = [\"LinearRegression\", \"KNeighborsRegressor\", \"RandomForestRegressor\"]\n",
    "reg.plot.residuals(estimator_names=selected_reg)"
   ]
  },
  {
   "cell_type": "code",
   "execution_count": 9,
   "metadata": {},
   "outputs": [
    {
     "data": {
      "application/vnd.plotly.v1+json": {
       "config": {
        "plotlyServerURL": "https://plot.ly"
       },
       "data": [
        {
         "alignmentgroup": "True",
         "bingroup": "x",
         "histnorm": "percent",
         "hovertemplate": "Estimator=LinearRegression<br>Residuals=%{x}<br>percent=%{y}<extra></extra>",
         "legendgroup": "LinearRegression",
         "marker": {
          "color": "rgb(127, 60, 141)",
          "opacity": 0.5,
          "pattern": {
           "shape": ""
          }
         },
         "name": "LinearRegression",
         "offsetgroup": "LinearRegression",
         "orientation": "v",
         "showlegend": true,
         "type": "histogram",
         "x": [
          -50.61182947010778,
          8.010079869875014,
          -38.511656788706034,
          43.10736594560612,
          5.956856413789666,
          -12.133902937184132,
          63.4567400644345,
          -57.37369853825861,
          -46.72998795341164,
          103.75970838725834,
          0.577664019961702,
          -29.220258646004893,
          65.44211517552178,
          22.367534128830954,
          16.67541689392921,
          -3.232100424493865,
          -42.0980270292896,
          -41.438261184112974,
          -50.65350850968653,
          48.41554877803998,
          -54.50382654276697,
          -38.354455829210465,
          -46.46103133797588,
          -17.742731299876937,
          16.926456338812358,
          55.356931515540225,
          35.89481723611,
          -95.4121003220246,
          6.3205330872002605,
          103.08979375688679,
          -30.663673614963614,
          -10.537892048132093,
          75.9971709909994,
          -22.086782837090226,
          -17.588681140045352,
          14.355919199379386,
          62.167834204775886,
          114.70273540153724,
          16.3901695544335,
          -44.72205329991016,
          -53.59359475500267,
          -16.977682083423772,
          -85.85247450593869,
          13.601244212397646,
          37.83038319945743,
          -74.59339701794912,
          45.49218235055369,
          33.203943572680174,
          1.7750866726181584,
          -52.034521200714096,
          1.6284098274274186,
          55.007473251655824,
          -73.7882703138961,
          -59.32263287076245,
          43.319368633190834,
          57.247542416133825,
          -162.7395063416075,
          -44.52337167448849,
          64.18385032696501,
          40.69785844338921,
          -57.9814038887549,
          -30.270868928879793,
          -9.105910821773904,
          30.502812712812343,
          -42.10642791868253,
          -27.036687705195448,
          2.8139722324032164,
          -29.510705859259275,
          46.295153561121026,
          58.89932247007724,
          -31.740923320373483,
          35.65711289300231,
          71.90132658844718,
          -14.983581135488421,
          -71.91221557809115,
          -87.9430122977353,
          -26.664630100366452,
          126.5082605965686,
          79.75438106799953,
          20.617801662744355,
          -30.519748949459512,
          -70.77491233667278,
          -10.554170708894773,
          64.31785703614835,
          16.186131172675758,
          -35.08677715688174,
          13.33572033340954,
          -13.718390085302048,
          -45.35616660670499,
          2.556397445665027,
          19.532256474351712,
          -18.088226438995747,
          -151.22952199984252,
          36.90871911752683,
          -12.93644560077324,
          40.81690540798482,
          -58.42557717822962,
          61.75395401532472,
          -26.501563211419764,
          -54.989884312320044,
          -39.58280538869403,
          -9.580269617027668,
          149.82037149345032,
          41.08160658136384,
          -63.82481522073377,
          -65.90106926584721,
          60.25408421401174,
          -13.37648738454675,
          6.81333898824721,
          -64.23698648604818,
          62.382283250693206,
          -69.26815514707388,
          91.29146142092708,
          90.79065788068988,
          -34.952586438903666,
          46.51615472379635,
          61.631967330708534,
          46.339936579775724,
          14.977375024535519,
          47.701625791421634,
          43.10476200306192,
          -26.340540804190596,
          -39.13694457927329,
          -97.60811014032919,
          -50.42284127821526,
          -26.03469535892569,
          39.84087488002268,
          5.105480559517318,
          23.122409649685437,
          58.96537928646791,
          36.06505609904309,
          89.13337122086809,
          -1.8691514186327112,
          17.420709697182247,
          -42.295343229486804,
          33.880641219983715,
          27.94928098778672,
          44.573756501471365,
          84.12824122334968,
          32.62647786998025,
          -39.193083071096964,
          85.4323505143943,
          66.4708558366116,
          -54.56380848397755,
          -4.879361976482443,
          16.23000441679079,
          -13.611895291918557,
          -99.75211746957874,
          -14.866803892969813,
          -53.59455073716205,
          79.39033752806057,
          -57.693372887593966,
          90.20904864356706,
          -53.582853358299246,
          46.194516141296134,
          -11.515847776913915,
          -123.1485375017354,
          -36.80857572644874,
          11.642498296518625,
          -42.41798755760277,
          -29.437535313105315,
          -15.012563260243041,
          25.424583446406558,
          -70.57837464378792,
          70.63355122529259,
          -22.04196469979992,
          11.434632532226118,
          -44.00227554630146,
          46.33765742890762,
          -75.86313758120929,
          2.408404532890046,
          -18.133335741504453,
          77.76138665180608,
          8.668048962696531,
          -13.14572014786063,
          8.051798690726983,
          77.00639037992062,
          8.158273121126285,
          -17.751403261297355,
          -14.94319213851881,
          -74.03373513863073,
          -35.01859015770491,
          -33.8523347073978,
          22.93797500234308,
          66.94698975607929,
          -80.82705161916772,
          -65.9088885014404,
          80.85486571372708,
          -8.610386525139944,
          -38.37739471990753,
          94.5550533723677,
          47.24250595140535,
          2.041420839799244,
          -21.6682764293364,
          -69.72165683752564,
          -47.910403383005644,
          -29.468163182330358,
          -63.495137354606044,
          -7.49521726334325,
          -88.79737070255953,
          62.86252312328996,
          -28.71589107482498,
          44.84927110369662,
          22.33714079356696,
          100.01073299243149,
          -137.00758247084707,
          35.39503769114444,
          -4.744739081819972,
          -63.09572359890649,
          -93.56025543585343,
          57.075927671167904,
          -102.32494507840337,
          -85.3183911969048,
          -45.93692626380056,
          -35.22519802560883,
          4.826260979167159,
          29.188645385359933,
          70.66559173469403,
          80.21741129547536,
          35.95951115927954,
          27.60060015380219,
          -51.263958740921026,
          104.44764188407507,
          26.153005315068498,
          2.2006453514170943,
          -25.200487245201458,
          2.6341568832057476,
          3.0376809492994425,
          44.92355756885911,
          -46.2240158956039,
          47.188658841574664,
          -7.886470135503714,
          100.50770787858954,
          -54.65245785317171,
          13.631783899676122,
          -55.34572865742405,
          -124.53519691508231,
          5.294485953745081,
          66.3402610964875,
          78.45641989142652,
          38.04315453603891,
          56.92838345066218,
          -15.988463266459917,
          -55.78408603922165,
          43.93239869566662,
          24.843062388256016,
          -51.61212557436244,
          -34.09262077902329,
          23.37421399805521,
          -33.92812014604874,
          37.986344624023786,
          -26.644566062896274,
          -84.93733112287461,
          -58.90508292887421,
          54.18250366946137,
          34.19490230801172,
          83.10187006929658,
          -43.27393423134106,
          -32.23508017794035,
          -92.91730788431104,
          -22.367774094344398,
          -17.742797898747085,
          45.5576650385554,
          72.74316115093802,
          24.97322423705384,
          -59.57848446444825,
          9.85397407688707,
          -20.197195472095643,
          20.672338128682952,
          -2.510676926751202,
          15.5832200434769,
          -37.057325790853525,
          36.25514785549723,
          61.555919140796476,
          -113.719300238964,
          -62.04893775230042,
          96.862485807615,
          -57.57790196988785,
          -5.896688464070849,
          85.1902099242484,
          101.92219754276294,
          -7.548254850098232,
          97.79478499141277,
          96.77240326078233,
          -5.94132344270335,
          34.60347760652445,
          -21.630319191184725,
          78.03563743331787,
          0.26177045933597753,
          -129.88770177019353,
          112.56766270733465,
          54.24521492947244,
          -10.327873325806749,
          15.491843195626274,
          -25.505407793555165,
          -68.45562452170503,
          14.667388163700423,
          -63.08089374049705,
          19.839653206585965,
          -40.55228272122969,
          57.90093401132819,
          -59.081112082840974,
          -8.414970772551214,
          -0.08845717132800246,
          130.24957094023043,
          -12.879464042173595,
          -83.61118933860024,
          21.44045873151248,
          23.71582207338787,
          4.516112242909571,
          -97.89502838891039,
          -2.2459997542762267,
          27.48644773879306,
          -52.61178258337469,
          -26.657237091906893,
          -12.576255087213681,
          20.11066010409425,
          14.706948121775667,
          -52.165159450088,
          -1.0343844940658187,
          -68.87871792776343,
          -45.80192663025463,
          -33.51127930518567,
          48.87780305289357,
          43.49809534942864,
          -20.084860980250795,
          -25.788154419597248,
          14.84839966105767,
          -108.8140395992906,
          27.610669958881317,
          66.19923551048447,
          85.97250945345883,
          -22.040912467710427,
          -19.62698414972371,
          -9.193178904982503,
          9.466101289562545,
          62.46703441117097,
          -86.26062981784068,
          93.57348339577044,
          -49.106397730701076,
          53.36396734761783,
          84.66089651769721,
          18.24185885833859,
          -41.71683591056592,
          54.02735546393586,
          16.486060739690316,
          -43.263142100062254,
          -16.600942271862095,
          15.266266293763493,
          -6.282828454225012,
          -3.277613566965556,
          -11.120546733897626,
          12.864062240517,
          -48.07629912585847,
          80.8238916466899,
          -70.06234791910859,
          -38.77807073289064,
          20.56081145649688,
          35.98601672756884,
          132.64330096608933,
          83.99576832210221,
          63.6851870521466,
          82.53050490790525,
          -110.29775168423558,
          100.98348533626043,
          43.10946157518987,
          -20.033041483430907,
          -17.361809415480025,
          -76.48262579919913,
          -15.219762617008257,
          5.198724187546503,
          0.524277652871092,
          -38.892872328042955,
          22.199972709127934,
          13.062489899140502,
          41.82651966497542,
          -98.5668172311961,
          66.05189048585916,
          80.00008920402507,
          -91.85939930238698,
          -123.77174018780997,
          27.227444540783466,
          -125.0629445843191,
          -28.276719497115252,
          -40.98660253973422,
          75.8829836339716,
          -37.809953941365606,
          116.88475965788109,
          -51.70870434456063,
          -20.868244139490827,
          22.106159771180273,
          6.8143172749582845,
          13.52162746379237,
          -32.73594445173603,
          34.9330510302689,
          91.2242995354971,
          -22.231997184451515,
          13.310033843860907,
          79.82732603323919,
          43.92237192551889,
          -12.424834273100146,
          8.159667622118192,
          17.516115867889624,
          15.952530310023974,
          92.10404991858996,
          -5.506014900150603,
          24.00867739271186,
          -41.12811876010409,
          -13.599247929545925,
          8.664098219242618,
          58.72325823899763,
          -20.524040166311863,
          27.22447396791557,
          -11.104240195244415,
          -31.602286532195166,
          4.963956274938681,
          37.77578059975781,
          -99.8651967593033,
          -14.164297637817597,
          -39.2595316113333,
          6.101235250591145,
          19.723487133229895,
          32.047174668238824,
          -64.69568308674195,
          -58.7002890790713,
          39.13660984157411,
          -45.5071389448712,
          -65.27795738814785,
          52.401538618851305,
          -3.405708374374882,
          68.76186612539874,
          -55.2523987846554,
          -47.872754781475635,
          9.333803281462338,
          -79.22361933089755,
          -56.30774825701761,
          -2.481935066328063,
          -19.677869479335016,
          6.440127387100802,
          12.338777715160418,
          12.698894383007882,
          9.818243768337354
         ],
         "xaxis": "x",
         "yaxis": "y"
        },
        {
         "alignmentgroup": "True",
         "bingroup": "x",
         "histnorm": "percent",
         "hovertemplate": "Estimator=KNeighborsRegressor<br>Residuals=%{x}<br>percent=%{y}<extra></extra>",
         "legendgroup": "KNeighborsRegressor",
         "marker": {
          "color": "rgb(17, 165, 121)",
          "opacity": 0.5,
          "pattern": {
           "shape": ""
          }
         },
         "name": "KNeighborsRegressor",
         "offsetgroup": "KNeighborsRegressor",
         "orientation": "v",
         "showlegend": true,
         "type": "histogram",
         "x": [
          -46.80000000000001,
          -8.799999999999997,
          32.8,
          3.4000000000000057,
          53.2,
          -21.599999999999994,
          61.400000000000006,
          -105.4,
          -5.799999999999997,
          167,
          5,
          -81.4,
          82.4,
          77.6,
          22.400000000000006,
          10.599999999999994,
          9.199999999999989,
          -36,
          -50.80000000000001,
          74.8,
          -35.400000000000006,
          -29.400000000000006,
          -91.6,
          -18,
          29.400000000000006,
          77,
          35.400000000000006,
          -73.19999999999999,
          32.400000000000006,
          81,
          -29.19999999999999,
          -29.200000000000003,
          85,
          3.799999999999997,
          -20.599999999999994,
          -22.799999999999997,
          123,
          160.8,
          38,
          14.599999999999994,
          -74.4,
          -65.2,
          -40.599999999999994,
          4.400000000000006,
          12.199999999999989,
          -47.599999999999994,
          0.8000000000000114,
          0,
          -17.599999999999994,
          2.8000000000000114,
          74,
          98,
          -56.8,
          17.799999999999997,
          97.4,
          69.6,
          -107.80000000000001,
          -58.599999999999994,
          46.599999999999994,
          34.400000000000006,
          -55.599999999999994,
          8.400000000000006,
          -40.400000000000006,
          2.5999999999999943,
          -35,
          22.599999999999994,
          11.599999999999994,
          -11.799999999999997,
          78.2,
          76.6,
          -31.799999999999997,
          56.400000000000006,
          67.19999999999999,
          -28.400000000000006,
          -39,
          -38.400000000000006,
          27.19999999999999,
          104.2,
          87.4,
          -18,
          5.800000000000011,
          -68,
          -31.799999999999997,
          74.4,
          -4.400000000000006,
          -2.1999999999999886,
          -47.599999999999994,
          -2,
          -39.2,
          30.599999999999994,
          -4.799999999999997,
          35.19999999999999,
          -139,
          9.400000000000006,
          10.799999999999997,
          70.8,
          -50.400000000000006,
          74.4,
          21,
          -48.80000000000001,
          -38.400000000000006,
          21.799999999999997,
          171.6,
          25,
          -33.400000000000006,
          -41,
          15.799999999999997,
          15.800000000000011,
          16.80000000000001,
          -114.6,
          14.599999999999994,
          -48,
          134.4,
          98,
          -23.19999999999999,
          57.599999999999994,
          39,
          46.599999999999994,
          5.199999999999989,
          88.6,
          76.8,
          -39.599999999999994,
          -56.599999999999994,
          -99.4,
          0,
          21.80000000000001,
          6,
          0.7999999999999972,
          10.599999999999994,
          38.400000000000006,
          0.8000000000000114,
          72.6,
          -27.599999999999994,
          -18,
          11,
          66.6,
          -14.799999999999997,
          50.19999999999999,
          72,
          45.400000000000006,
          -67,
          54.39999999999998,
          59.80000000000001,
          -63.8,
          -19.80000000000001,
          66.19999999999999,
          23.400000000000006,
          -89,
          -39.19999999999999,
          -3.4000000000000057,
          95.4,
          -21,
          105.6,
          -56.2,
          25.19999999999999,
          -37.599999999999994,
          -123.4,
          -23.400000000000006,
          -59.599999999999994,
          -58.80000000000001,
          -38.2,
          3.4000000000000057,
          45.8,
          -97,
          103.6,
          -37.599999999999994,
          -29.799999999999997,
          -71.19999999999999,
          10,
          -83.80000000000001,
          -29.200000000000003,
          18.4,
          95,
          -20.599999999999994,
          22.400000000000006,
          8.400000000000006,
          -7.199999999999989,
          42.80000000000001,
          -28.799999999999997,
          -14.599999999999994,
          -59.599999999999994,
          -32.599999999999994,
          -41.599999999999994,
          56.80000000000001,
          58.599999999999994,
          -29,
          -59.400000000000006,
          48.599999999999994,
          30.200000000000003,
          -37.2,
          162.8,
          51.8,
          -34,
          -54.19999999999999,
          -54,
          -75,
          -10.400000000000006,
          -73.6,
          -33.400000000000006,
          -110,
          63.8,
          -40.2,
          42.19999999999999,
          15.199999999999989,
          96.19999999999999,
          -159,
          51.80000000000001,
          -36.19999999999999,
          -101.19999999999999,
          -74,
          92.2,
          -120,
          -78.6,
          -43.599999999999994,
          -6,
          6.600000000000023,
          17,
          71.4,
          22.80000000000001,
          59,
          -17.599999999999994,
          -65.6,
          151.2,
          30.799999999999997,
          20.4,
          12.400000000000006,
          -32.599999999999994,
          -34.400000000000006,
          41,
          -32,
          -15,
          4.400000000000006,
          121.6,
          -7.799999999999997,
          25.19999999999999,
          -30.80000000000001,
          -102,
          -14.799999999999997,
          106.4,
          114.6,
          5.399999999999977,
          51.2,
          -10.400000000000006,
          -40,
          80.2,
          8.200000000000003,
          -69.19999999999999,
          -46.599999999999994,
          94,
          30.19999999999999,
          74.6,
          2,
          -72.6,
          -46.80000000000001,
          50,
          49,
          146.4,
          -41,
          -79.4,
          -61.599999999999994,
          -32.400000000000006,
          0,
          31.399999999999977,
          40.599999999999994,
          31.799999999999997,
          -5,
          -46.400000000000006,
          -39.400000000000006,
          -18.399999999999977,
          -24.599999999999994,
          25.19999999999999,
          -56.19999999999999,
          48,
          70,
          -92.4,
          -69.80000000000001,
          147.6,
          -15.799999999999997,
          -5.599999999999994,
          140.4,
          49,
          -43.80000000000001,
          123.2,
          117.2,
          31.799999999999997,
          96.6,
          -13.599999999999994,
          109.6,
          -32.599999999999994,
          -133.4,
          81.4,
          79.19999999999999,
          -19.799999999999997,
          63.599999999999994,
          -26.200000000000003,
          -44.400000000000006,
          4.400000000000006,
          -83.6,
          -26.400000000000006,
          -5.400000000000006,
          44.80000000000001,
          -50,
          0.8000000000000114,
          34.80000000000001,
          103.80000000000001,
          -66.6,
          -114.80000000000001,
          -1.5999999999999943,
          0,
          -23.599999999999994,
          -122,
          11,
          78.8,
          -81.80000000000001,
          14.599999999999994,
          25.200000000000003,
          84.19999999999999,
          25.80000000000001,
          -57,
          18.599999999999994,
          -16.400000000000006,
          -18.80000000000001,
          -12.599999999999994,
          25.400000000000006,
          78.80000000000001,
          16.80000000000001,
          2.4000000000000057,
          78.4,
          -11.799999999999997,
          24.200000000000003,
          109.80000000000001,
          87.4,
          -23.399999999999977,
          -8.400000000000006,
          -20.599999999999994,
          -6.400000000000006,
          90.6,
          -95.19999999999999,
          105.8,
          -45.599999999999994,
          34.19999999999999,
          75.80000000000001,
          20.19999999999999,
          -32.19999999999999,
          22,
          15.599999999999994,
          -67.4,
          -18.200000000000003,
          -2.5999999999999943,
          -42.599999999999994,
          -52.19999999999999,
          -3,
          10.599999999999994,
          -46,
          97.6,
          -49,
          -29,
          33.19999999999999,
          10.200000000000003,
          93.4,
          121.80000000000001,
          78.8,
          67.4,
          -65,
          56.599999999999994,
          35.80000000000001,
          -14.599999999999994,
          -16,
          -128.8,
          -9.199999999999989,
          -45.400000000000006,
          15.800000000000011,
          4.200000000000003,
          6.599999999999994,
          -2,
          24.80000000000001,
          -109.80000000000001,
          23.599999999999994,
          74.80000000000001,
          -74.8,
          -114.4,
          -9.799999999999997,
          -130.60000000000002,
          -36.400000000000006,
          -124.4,
          75.6,
          -51.400000000000006,
          56.599999999999994,
          -36.400000000000006,
          -37,
          1,
          -28.400000000000006,
          23.599999999999994,
          -50,
          76.19999999999999,
          100.80000000000001,
          -48.400000000000006,
          34.400000000000006,
          70,
          32.599999999999994,
          -32.80000000000001,
          13.799999999999997,
          13.800000000000011,
          85.4,
          127,
          16.80000000000001,
          -37.8,
          2.8000000000000114,
          -28,
          -11.800000000000011,
          21.400000000000006,
          16.599999999999994,
          40.400000000000006,
          4.400000000000006,
          -57.19999999999999,
          0,
          40.400000000000006,
          -86.6,
          -37.400000000000006,
          -71.8,
          11.400000000000006,
          41.599999999999994,
          18.80000000000001,
          -119.80000000000001,
          -30.400000000000006,
          43.400000000000006,
          -83.6,
          -59.2,
          36.39999999999998,
          22.400000000000006,
          57.400000000000006,
          -95.80000000000001,
          -41.19999999999999,
          -22.400000000000006,
          -71.8,
          -55,
          -36.2,
          22,
          -38.19999999999999,
          40.599999999999994,
          82.80000000000001,
          -32.400000000000006
         ],
         "xaxis": "x",
         "yaxis": "y"
        },
        {
         "alignmentgroup": "True",
         "bingroup": "x",
         "histnorm": "percent",
         "hovertemplate": "Estimator=RandomForestRegressor<br>Residuals=%{x}<br>percent=%{y}<extra></extra>",
         "legendgroup": "RandomForestRegressor",
         "marker": {
          "color": "rgb(57, 105, 172)",
          "opacity": 0.5,
          "pattern": {
           "shape": ""
          }
         },
         "name": "RandomForestRegressor",
         "offsetgroup": "RandomForestRegressor",
         "orientation": "v",
         "showlegend": true,
         "type": "histogram",
         "x": [
          -61.96000000000001,
          -4.680000000000007,
          -15.580000000000013,
          48.389999999999986,
          39.86,
          -17.519999999999996,
          72.65,
          -100.4,
          -35.49000000000001,
          178.49,
          -15.980000000000004,
          -103.09,
          79.5,
          4.159999999999997,
          21.86,
          -16.78,
          -47.599999999999994,
          -59.96000000000001,
          -20.129999999999995,
          67.73,
          -52.41,
          -30.97,
          -49.59,
          -4.860000000000014,
          52.00999999999999,
          31.97,
          37.209999999999994,
          -75.94,
          -8.860000000000014,
          90.72,
          -10.939999999999998,
          -20.599999999999994,
          100.78999999999999,
          -29.75,
          -27.549999999999997,
          -37.06,
          60.22999999999999,
          143.02,
          16.19999999999999,
          -82.08000000000001,
          -87,
          -60.42,
          -80.94999999999999,
          3.8100000000000023,
          27.05000000000001,
          -54.459999999999994,
          57.24000000000001,
          35.08,
          -7.590000000000003,
          -46.639999999999986,
          30.400000000000006,
          46.5,
          -38.480000000000004,
          -19.620000000000005,
          43.28999999999999,
          55.769999999999996,
          -181.94,
          -47.91,
          51.769999999999996,
          27.53,
          -29.709999999999994,
          -0.25,
          -10.93,
          16.230000000000004,
          -67.41999999999999,
          -12.5,
          19.00999999999999,
          -1.0499999999999972,
          68.87,
          84.69,
          -36.92,
          19.49000000000001,
          48.25,
          -3.739999999999995,
          -96.4,
          -60.53,
          -26.02000000000001,
          100.62,
          78.06,
          -0.9300000000000068,
          -44.58000000000001,
          -51.480000000000004,
          -38.78,
          60.83000000000001,
          -33.18000000000001,
          -17.28,
          -43.269999999999996,
          -34.83000000000001,
          -58.86,
          28.430000000000007,
          13.75,
          -0.6100000000000136,
          -124.30000000000001,
          18.069999999999993,
          -7.299999999999997,
          41.400000000000006,
          -46.02000000000001,
          39.71000000000001,
          2.5999999999999943,
          -68.02000000000001,
          -53.59,
          5.349999999999994,
          145.67,
          44.400000000000006,
          -56.33000000000001,
          -57.33,
          4.590000000000003,
          27.370000000000005,
          14.610000000000014,
          -57.06999999999999,
          16.430000000000007,
          -40.06,
          78.53999999999999,
          51.80000000000001,
          -28.060000000000002,
          71.9,
          69.58000000000001,
          82.58000000000001,
          -3.430000000000007,
          56.59,
          98.76,
          -24.310000000000002,
          -77.58999999999997,
          -147.5,
          -24.159999999999997,
          -38.78,
          10.700000000000003,
          -36.349999999999994,
          26.430000000000007,
          22.97,
          18.80000000000001,
          60.370000000000005,
          6.1200000000000045,
          -7.090000000000003,
          -50.860000000000014,
          42.44,
          -5.099999999999994,
          71.97999999999999,
          56.52999999999997,
          67.19,
          -40.77000000000001,
          107.22999999999999,
          65.32,
          -68.15,
          34.18000000000001,
          51.360000000000014,
          2.3100000000000023,
          -127.19,
          -89.66999999999999,
          -38.03,
          127.41999999999999,
          -54.389999999999986,
          79.30000000000001,
          -47.81,
          19,
          -46.56,
          -110.50999999999999,
          -18.549999999999997,
          -16.379999999999995,
          -54.31999999999999,
          -35.11,
          -21.289999999999992,
          43.59,
          -98.57,
          89.6,
          -22.86,
          -29.58,
          -50.06,
          15.189999999999998,
          -44.08000000000001,
          -23.120000000000005,
          -21.64,
          61.31,
          -20.03,
          -26.310000000000002,
          3.5,
          42.69999999999999,
          34.72999999999999,
          7.109999999999999,
          -4.090000000000003,
          -74.15,
          -42.08,
          -45.71000000000001,
          26.120000000000005,
          83.33000000000001,
          -58.56999999999999,
          -70.61000000000001,
          44.370000000000005,
          37.489999999999995,
          -25.17,
          136.51,
          29.330000000000013,
          -8.209999999999994,
          -44.25999999999999,
          -85.65,
          -71.78999999999999,
          -24.709999999999994,
          -87.52000000000001,
          6.610000000000014,
          -90.63999999999999,
          69.11,
          -42.17,
          41.879999999999995,
          29.75999999999999,
          114.33000000000001,
          -143.79,
          41.110000000000014,
          -27.78,
          -58.50999999999999,
          -51.19999999999999,
          63.870000000000005,
          -109.32,
          -55.31,
          -48.81,
          -38.06,
          -17.470000000000027,
          26.110000000000014,
          74.15,
          76.91999999999999,
          35.72,
          -19.17,
          -41.72999999999999,
          158.92000000000002,
          -1.1399999999999864,
          -3.9000000000000057,
          -20.060000000000002,
          -34.870000000000005,
          19.61,
          60.67,
          -38.150000000000006,
          -7.060000000000002,
          27.810000000000002,
          106.19999999999999,
          -29.36,
          7.310000000000002,
          -48.78,
          -111.37,
          -4.989999999999995,
          121.21000000000001,
          47.900000000000006,
          7.009999999999991,
          67.38,
          -32.150000000000006,
          -50.06,
          62.040000000000006,
          39.55,
          -67.28999999999999,
          -57.69,
          49.91,
          -25.02000000000001,
          86.30000000000001,
          -11.840000000000003,
          -59.94999999999999,
          -52.46000000000001,
          57.41,
          65.83,
          166.56,
          -50.260000000000005,
          -26.239999999999995,
          -76.77,
          -52.349999999999994,
          -27.289999999999992,
          65.22,
          30.599999999999994,
          2.240000000000009,
          -42.150000000000006,
          -55.790000000000006,
          -49.97,
          -15.839999999999975,
          -4.950000000000003,
          -3.030000000000001,
          -37.139999999999986,
          37.16999999999999,
          77.49000000000001,
          -77.63,
          -40.84,
          65.62,
          -16.450000000000003,
          -45.24000000000001,
          95.26,
          49.41,
          -43.870000000000005,
          100.71000000000001,
          107.63,
          -6.009999999999991,
          48.75,
          -23.480000000000004,
          67.41,
          -6,
          -138.94,
          90.57,
          6.439999999999998,
          -11.709999999999994,
          7.25,
          -17.069999999999993,
          -84.4,
          7.790000000000006,
          -65.3,
          -8.72999999999999,
          -28.930000000000007,
          41.44,
          -40.11,
          -5.569999999999993,
          10.330000000000013,
          117.37,
          -44.94,
          -55.769999999999996,
          -5.569999999999993,
          14.060000000000002,
          -34.91999999999999,
          -97.1,
          27.03,
          42.14,
          -81.9,
          4.650000000000006,
          2.0999999999999943,
          -16.830000000000013,
          32.93000000000001,
          -64.72999999999999,
          -13.379999999999995,
          -56.129999999999995,
          -36.379999999999995,
          -24.089999999999975,
          54.66999999999999,
          95.81,
          -27.349999999999994,
          -46.00999999999999,
          6.389999999999986,
          -91.52000000000001,
          45.34,
          58.389999999999986,
          97.05,
          -8.600000000000023,
          -47.06,
          -24.909999999999997,
          5.329999999999998,
          77.16,
          -95.19999999999999,
          96.2,
          -26.53,
          135.22,
          91.72,
          13.400000000000006,
          -43.97,
          43.80000000000001,
          -10.300000000000011,
          -65.05000000000001,
          -27.019999999999996,
          33.16,
          -20.659999999999997,
          -16.360000000000014,
          -27.010000000000005,
          -7.549999999999997,
          -46.16999999999999,
          54.80000000000001,
          -55.97,
          -54.709999999999994,
          62.599999999999994,
          2.1700000000000017,
          140.82,
          109.96000000000001,
          83.58,
          75.27000000000001,
          -84.78999999999999,
          101.68,
          13.310000000000002,
          -14.650000000000006,
          -19.70999999999998,
          -98.4,
          3.289999999999992,
          -18.239999999999995,
          13.419999999999987,
          -18.310000000000002,
          57.129999999999995,
          -25.28,
          28.159999999999997,
          -87.72999999999999,
          47.150000000000006,
          84.46000000000001,
          -66.93,
          -124.25999999999999,
          -11.549999999999997,
          -130.47000000000003,
          -24.599999999999994,
          -76.88,
          114.12,
          -23.590000000000003,
          56.09,
          -58.360000000000014,
          -21.760000000000005,
          26.080000000000013,
          -25.849999999999994,
          9.39,
          -53.43000000000001,
          65.05000000000001,
          102.31,
          -53.78,
          14.210000000000008,
          59.78999999999999,
          18.49000000000001,
          -12.400000000000006,
          17.840000000000003,
          33.099999999999994,
          24.599999999999994,
          109.33000000000001,
          4.639999999999986,
          -18.900000000000006,
          -36.99000000000001,
          1.8700000000000045,
          5.860000000000014,
          70.82,
          20.349999999999994,
          -7.060000000000002,
          32.59,
          -31.370000000000005,
          29.159999999999997,
          78.35,
          -106.03999999999999,
          -29.450000000000003,
          -68.19,
          18.92,
          32.03,
          24.22999999999999,
          -69.16,
          -80.31,
          57.010000000000005,
          -51.03,
          -73.72999999999999,
          56.80000000000001,
          7.150000000000006,
          78.61,
          -60.95,
          -64.72999999999999,
          -1.7800000000000011,
          -43.150000000000006,
          -36.84,
          -32,
          -71.47999999999999,
          -24.680000000000007,
          47.92,
          62.96000000000001,
          -62.769999999999996
         ],
         "xaxis": "x",
         "yaxis": "y"
        }
       ],
       "layout": {
        "barmode": "overlay",
        "legend": {
         "title": {
          "text": "Estimator"
         },
         "tracegroupgap": 0
        },
        "template": {
         "data": {
          "bar": [
           {
            "error_x": {
             "color": "#2a3f5f"
            },
            "error_y": {
             "color": "#2a3f5f"
            },
            "marker": {
             "line": {
              "color": "white",
              "width": 0.5
             },
             "pattern": {
              "fillmode": "overlay",
              "size": 10,
              "solidity": 0.2
             }
            },
            "type": "bar"
           }
          ],
          "barpolar": [
           {
            "marker": {
             "line": {
              "color": "white",
              "width": 0.5
             },
             "pattern": {
              "fillmode": "overlay",
              "size": 10,
              "solidity": 0.2
             }
            },
            "type": "barpolar"
           }
          ],
          "carpet": [
           {
            "aaxis": {
             "endlinecolor": "#2a3f5f",
             "gridcolor": "#C8D4E3",
             "linecolor": "#C8D4E3",
             "minorgridcolor": "#C8D4E3",
             "startlinecolor": "#2a3f5f"
            },
            "baxis": {
             "endlinecolor": "#2a3f5f",
             "gridcolor": "#C8D4E3",
             "linecolor": "#C8D4E3",
             "minorgridcolor": "#C8D4E3",
             "startlinecolor": "#2a3f5f"
            },
            "type": "carpet"
           }
          ],
          "choropleth": [
           {
            "colorbar": {
             "outlinewidth": 0,
             "ticks": ""
            },
            "type": "choropleth"
           }
          ],
          "contour": [
           {
            "colorbar": {
             "outlinewidth": 0,
             "ticks": ""
            },
            "colorscale": [
             [
              0,
              "#0d0887"
             ],
             [
              0.1111111111111111,
              "#46039f"
             ],
             [
              0.2222222222222222,
              "#7201a8"
             ],
             [
              0.3333333333333333,
              "#9c179e"
             ],
             [
              0.4444444444444444,
              "#bd3786"
             ],
             [
              0.5555555555555556,
              "#d8576b"
             ],
             [
              0.6666666666666666,
              "#ed7953"
             ],
             [
              0.7777777777777778,
              "#fb9f3a"
             ],
             [
              0.8888888888888888,
              "#fdca26"
             ],
             [
              1,
              "#f0f921"
             ]
            ],
            "type": "contour"
           }
          ],
          "contourcarpet": [
           {
            "colorbar": {
             "outlinewidth": 0,
             "ticks": ""
            },
            "type": "contourcarpet"
           }
          ],
          "heatmap": [
           {
            "colorbar": {
             "outlinewidth": 0,
             "ticks": ""
            },
            "colorscale": [
             [
              0,
              "#0d0887"
             ],
             [
              0.1111111111111111,
              "#46039f"
             ],
             [
              0.2222222222222222,
              "#7201a8"
             ],
             [
              0.3333333333333333,
              "#9c179e"
             ],
             [
              0.4444444444444444,
              "#bd3786"
             ],
             [
              0.5555555555555556,
              "#d8576b"
             ],
             [
              0.6666666666666666,
              "#ed7953"
             ],
             [
              0.7777777777777778,
              "#fb9f3a"
             ],
             [
              0.8888888888888888,
              "#fdca26"
             ],
             [
              1,
              "#f0f921"
             ]
            ],
            "type": "heatmap"
           }
          ],
          "heatmapgl": [
           {
            "colorbar": {
             "outlinewidth": 0,
             "ticks": ""
            },
            "colorscale": [
             [
              0,
              "#0d0887"
             ],
             [
              0.1111111111111111,
              "#46039f"
             ],
             [
              0.2222222222222222,
              "#7201a8"
             ],
             [
              0.3333333333333333,
              "#9c179e"
             ],
             [
              0.4444444444444444,
              "#bd3786"
             ],
             [
              0.5555555555555556,
              "#d8576b"
             ],
             [
              0.6666666666666666,
              "#ed7953"
             ],
             [
              0.7777777777777778,
              "#fb9f3a"
             ],
             [
              0.8888888888888888,
              "#fdca26"
             ],
             [
              1,
              "#f0f921"
             ]
            ],
            "type": "heatmapgl"
           }
          ],
          "histogram": [
           {
            "marker": {
             "pattern": {
              "fillmode": "overlay",
              "size": 10,
              "solidity": 0.2
             }
            },
            "type": "histogram"
           }
          ],
          "histogram2d": [
           {
            "colorbar": {
             "outlinewidth": 0,
             "ticks": ""
            },
            "colorscale": [
             [
              0,
              "#0d0887"
             ],
             [
              0.1111111111111111,
              "#46039f"
             ],
             [
              0.2222222222222222,
              "#7201a8"
             ],
             [
              0.3333333333333333,
              "#9c179e"
             ],
             [
              0.4444444444444444,
              "#bd3786"
             ],
             [
              0.5555555555555556,
              "#d8576b"
             ],
             [
              0.6666666666666666,
              "#ed7953"
             ],
             [
              0.7777777777777778,
              "#fb9f3a"
             ],
             [
              0.8888888888888888,
              "#fdca26"
             ],
             [
              1,
              "#f0f921"
             ]
            ],
            "type": "histogram2d"
           }
          ],
          "histogram2dcontour": [
           {
            "colorbar": {
             "outlinewidth": 0,
             "ticks": ""
            },
            "colorscale": [
             [
              0,
              "#0d0887"
             ],
             [
              0.1111111111111111,
              "#46039f"
             ],
             [
              0.2222222222222222,
              "#7201a8"
             ],
             [
              0.3333333333333333,
              "#9c179e"
             ],
             [
              0.4444444444444444,
              "#bd3786"
             ],
             [
              0.5555555555555556,
              "#d8576b"
             ],
             [
              0.6666666666666666,
              "#ed7953"
             ],
             [
              0.7777777777777778,
              "#fb9f3a"
             ],
             [
              0.8888888888888888,
              "#fdca26"
             ],
             [
              1,
              "#f0f921"
             ]
            ],
            "type": "histogram2dcontour"
           }
          ],
          "mesh3d": [
           {
            "colorbar": {
             "outlinewidth": 0,
             "ticks": ""
            },
            "type": "mesh3d"
           }
          ],
          "parcoords": [
           {
            "line": {
             "colorbar": {
              "outlinewidth": 0,
              "ticks": ""
             }
            },
            "type": "parcoords"
           }
          ],
          "pie": [
           {
            "automargin": true,
            "type": "pie"
           }
          ],
          "scatter": [
           {
            "fillpattern": {
             "fillmode": "overlay",
             "size": 10,
             "solidity": 0.2
            },
            "type": "scatter"
           }
          ],
          "scatter3d": [
           {
            "line": {
             "colorbar": {
              "outlinewidth": 0,
              "ticks": ""
             }
            },
            "marker": {
             "colorbar": {
              "outlinewidth": 0,
              "ticks": ""
             }
            },
            "type": "scatter3d"
           }
          ],
          "scattercarpet": [
           {
            "marker": {
             "colorbar": {
              "outlinewidth": 0,
              "ticks": ""
             }
            },
            "type": "scattercarpet"
           }
          ],
          "scattergeo": [
           {
            "marker": {
             "colorbar": {
              "outlinewidth": 0,
              "ticks": ""
             }
            },
            "type": "scattergeo"
           }
          ],
          "scattergl": [
           {
            "marker": {
             "colorbar": {
              "outlinewidth": 0,
              "ticks": ""
             }
            },
            "type": "scattergl"
           }
          ],
          "scattermapbox": [
           {
            "marker": {
             "colorbar": {
              "outlinewidth": 0,
              "ticks": ""
             }
            },
            "type": "scattermapbox"
           }
          ],
          "scatterpolar": [
           {
            "marker": {
             "colorbar": {
              "outlinewidth": 0,
              "ticks": ""
             }
            },
            "type": "scatterpolar"
           }
          ],
          "scatterpolargl": [
           {
            "marker": {
             "colorbar": {
              "outlinewidth": 0,
              "ticks": ""
             }
            },
            "type": "scatterpolargl"
           }
          ],
          "scatterternary": [
           {
            "marker": {
             "colorbar": {
              "outlinewidth": 0,
              "ticks": ""
             }
            },
            "type": "scatterternary"
           }
          ],
          "surface": [
           {
            "colorbar": {
             "outlinewidth": 0,
             "ticks": ""
            },
            "colorscale": [
             [
              0,
              "#0d0887"
             ],
             [
              0.1111111111111111,
              "#46039f"
             ],
             [
              0.2222222222222222,
              "#7201a8"
             ],
             [
              0.3333333333333333,
              "#9c179e"
             ],
             [
              0.4444444444444444,
              "#bd3786"
             ],
             [
              0.5555555555555556,
              "#d8576b"
             ],
             [
              0.6666666666666666,
              "#ed7953"
             ],
             [
              0.7777777777777778,
              "#fb9f3a"
             ],
             [
              0.8888888888888888,
              "#fdca26"
             ],
             [
              1,
              "#f0f921"
             ]
            ],
            "type": "surface"
           }
          ],
          "table": [
           {
            "cells": {
             "fill": {
              "color": "#EBF0F8"
             },
             "line": {
              "color": "white"
             }
            },
            "header": {
             "fill": {
              "color": "#C8D4E3"
             },
             "line": {
              "color": "white"
             }
            },
            "type": "table"
           }
          ]
         },
         "layout": {
          "annotationdefaults": {
           "arrowcolor": "#2a3f5f",
           "arrowhead": 0,
           "arrowwidth": 1
          },
          "autotypenumbers": "strict",
          "coloraxis": {
           "colorbar": {
            "outlinewidth": 0,
            "ticks": ""
           }
          },
          "colorscale": {
           "diverging": [
            [
             0,
             "#8e0152"
            ],
            [
             0.1,
             "#c51b7d"
            ],
            [
             0.2,
             "#de77ae"
            ],
            [
             0.3,
             "#f1b6da"
            ],
            [
             0.4,
             "#fde0ef"
            ],
            [
             0.5,
             "#f7f7f7"
            ],
            [
             0.6,
             "#e6f5d0"
            ],
            [
             0.7,
             "#b8e186"
            ],
            [
             0.8,
             "#7fbc41"
            ],
            [
             0.9,
             "#4d9221"
            ],
            [
             1,
             "#276419"
            ]
           ],
           "sequential": [
            [
             0,
             "#0d0887"
            ],
            [
             0.1111111111111111,
             "#46039f"
            ],
            [
             0.2222222222222222,
             "#7201a8"
            ],
            [
             0.3333333333333333,
             "#9c179e"
            ],
            [
             0.4444444444444444,
             "#bd3786"
            ],
            [
             0.5555555555555556,
             "#d8576b"
            ],
            [
             0.6666666666666666,
             "#ed7953"
            ],
            [
             0.7777777777777778,
             "#fb9f3a"
            ],
            [
             0.8888888888888888,
             "#fdca26"
            ],
            [
             1,
             "#f0f921"
            ]
           ],
           "sequentialminus": [
            [
             0,
             "#0d0887"
            ],
            [
             0.1111111111111111,
             "#46039f"
            ],
            [
             0.2222222222222222,
             "#7201a8"
            ],
            [
             0.3333333333333333,
             "#9c179e"
            ],
            [
             0.4444444444444444,
             "#bd3786"
            ],
            [
             0.5555555555555556,
             "#d8576b"
            ],
            [
             0.6666666666666666,
             "#ed7953"
            ],
            [
             0.7777777777777778,
             "#fb9f3a"
            ],
            [
             0.8888888888888888,
             "#fdca26"
            ],
            [
             1,
             "#f0f921"
            ]
           ]
          },
          "colorway": [
           "#636efa",
           "#EF553B",
           "#00cc96",
           "#ab63fa",
           "#FFA15A",
           "#19d3f3",
           "#FF6692",
           "#B6E880",
           "#FF97FF",
           "#FECB52"
          ],
          "font": {
           "color": "#8C8C8C"
          },
          "geo": {
           "bgcolor": "white",
           "lakecolor": "white",
           "landcolor": "white",
           "showlakes": true,
           "showland": true,
           "subunitcolor": "#C8D4E3"
          },
          "hoverlabel": {
           "align": "left"
          },
          "hovermode": "closest",
          "legend": {
           "orientation": "h",
           "x": 0,
           "xanchor": "left",
           "y": -0.2,
           "yanchor": "top"
          },
          "mapbox": {
           "style": "light"
          },
          "margin": {
           "l": 20,
           "r": 20
          },
          "paper_bgcolor": "white",
          "plot_bgcolor": "white",
          "polar": {
           "angularaxis": {
            "gridcolor": "#EBF0F8",
            "linecolor": "#EBF0F8",
            "ticks": ""
           },
           "bgcolor": "white",
           "radialaxis": {
            "gridcolor": "#EBF0F8",
            "linecolor": "#EBF0F8",
            "ticks": ""
           }
          },
          "scene": {
           "xaxis": {
            "backgroundcolor": "white",
            "gridcolor": "#DFE8F3",
            "gridwidth": 2,
            "linecolor": "#EBF0F8",
            "showbackground": true,
            "ticks": "",
            "zerolinecolor": "#EBF0F8"
           },
           "yaxis": {
            "backgroundcolor": "white",
            "gridcolor": "#DFE8F3",
            "gridwidth": 2,
            "linecolor": "#EBF0F8",
            "showbackground": true,
            "ticks": "",
            "zerolinecolor": "#EBF0F8"
           },
           "zaxis": {
            "backgroundcolor": "white",
            "gridcolor": "#DFE8F3",
            "gridwidth": 2,
            "linecolor": "#EBF0F8",
            "showbackground": true,
            "ticks": "",
            "zerolinecolor": "#EBF0F8"
           }
          },
          "shapedefaults": {
           "line": {
            "color": "#2a3f5f"
           }
          },
          "ternary": {
           "aaxis": {
            "gridcolor": "#DFE8F3",
            "linecolor": "#A2B1C6",
            "ticks": ""
           },
           "baxis": {
            "gridcolor": "#DFE8F3",
            "linecolor": "#A2B1C6",
            "ticks": ""
           },
           "bgcolor": "white",
           "caxis": {
            "gridcolor": "#DFE8F3",
            "linecolor": "#A2B1C6",
            "ticks": ""
           }
          },
          "title": {
           "x": 0.05
          },
          "xaxis": {
           "automargin": true,
           "gridcolor": "#EBF0F8",
           "linecolor": "#EBF0F8",
           "ticks": "",
           "title": {
            "standoff": 15
           },
           "zerolinecolor": "#EBF0F8",
           "zerolinewidth": 2
          },
          "yaxis": {
           "automargin": true,
           "gridcolor": "#EBF0F8",
           "linecolor": "#EBF0F8",
           "ticks": "",
           "title": {
            "standoff": 15
           },
           "zerolinecolor": "#EBF0F8",
           "zerolinewidth": 2
          }
         }
        },
        "title": {
         "text": "Residuals histogram plot with cross validated predictions"
        },
        "xaxis": {
         "anchor": "y",
         "domain": [
          0,
          1
         ],
         "title": {
          "text": "Residuals"
         }
        },
        "yaxis": {
         "anchor": "x",
         "domain": [
          0,
          1
         ],
         "title": {
          "text": "percent"
         }
        }
       }
      }
     },
     "metadata": {},
     "output_type": "display_data"
    }
   ],
   "source": [
    "reg.plot.residuals_histogram(estimator_names=selected_reg)"
   ]
  },
  {
   "cell_type": "markdown",
   "metadata": {},
   "source": [
    "## Visualizations including computations\n",
    "\n",
    "Some visualizations will make additional computations apart from predictions as part of their methods.\n",
    "\n",
    "`plot.permutation_importance()` takes an estimator name and outputs each feature's permutation importance."
   ]
  },
  {
   "cell_type": "code",
   "execution_count": 10,
   "metadata": {},
   "outputs": [
    {
     "name": "stdout",
     "output_type": "stream",
     "text": [
      "Target info\n",
      "-----------\n",
      "Type: binary\n",
      "Shape: (569,)\n",
      "Unique values: 2\n",
      "\n",
      "Main metric\n",
      "-----------\n",
      "f1\n",
      "\n",
      "Thresholds\n",
      "----------\n",
      "Minimum unique values to consider a feature numeric: 56\n",
      "Minimum unique values to consider a categorical high cardinality: 20\n",
      "\n",
      "Inferred feature types\n",
      "----------------------\n"
     ]
    },
    {
     "data": {
      "text/html": [
       "<table border=\"1\" class=\"dataframe\">\n",
       "  <thead>\n",
       "    <tr style=\"text-align: right;\">\n",
       "      <th></th>\n",
       "      <th>numeric</th>\n",
       "      <th>categorical_high</th>\n",
       "      <th>categorical_low</th>\n",
       "      <th>datetime</th>\n",
       "    </tr>\n",
       "  </thead>\n",
       "  <tbody>\n",
       "    <tr>\n",
       "      <th>0</th>\n",
       "      <td>mean radius</td>\n",
       "      <td></td>\n",
       "      <td></td>\n",
       "      <td></td>\n",
       "    </tr>\n",
       "    <tr>\n",
       "      <th>1</th>\n",
       "      <td>mean texture</td>\n",
       "      <td></td>\n",
       "      <td></td>\n",
       "      <td></td>\n",
       "    </tr>\n",
       "    <tr>\n",
       "      <th>2</th>\n",
       "      <td>mean perimeter</td>\n",
       "      <td></td>\n",
       "      <td></td>\n",
       "      <td></td>\n",
       "    </tr>\n",
       "    <tr>\n",
       "      <th>3</th>\n",
       "      <td>mean area</td>\n",
       "      <td></td>\n",
       "      <td></td>\n",
       "      <td></td>\n",
       "    </tr>\n",
       "    <tr>\n",
       "      <th>4</th>\n",
       "      <td>mean smoothness</td>\n",
       "      <td></td>\n",
       "      <td></td>\n",
       "      <td></td>\n",
       "    </tr>\n",
       "    <tr>\n",
       "      <th>5</th>\n",
       "      <td>mean compactness</td>\n",
       "      <td></td>\n",
       "      <td></td>\n",
       "      <td></td>\n",
       "    </tr>\n",
       "    <tr>\n",
       "      <th>6</th>\n",
       "      <td>mean concavity</td>\n",
       "      <td></td>\n",
       "      <td></td>\n",
       "      <td></td>\n",
       "    </tr>\n",
       "    <tr>\n",
       "      <th>7</th>\n",
       "      <td>mean concave points</td>\n",
       "      <td></td>\n",
       "      <td></td>\n",
       "      <td></td>\n",
       "    </tr>\n",
       "    <tr>\n",
       "      <th>8</th>\n",
       "      <td>mean symmetry</td>\n",
       "      <td></td>\n",
       "      <td></td>\n",
       "      <td></td>\n",
       "    </tr>\n",
       "    <tr>\n",
       "      <th>9</th>\n",
       "      <td>mean fractal dimension</td>\n",
       "      <td></td>\n",
       "      <td></td>\n",
       "      <td></td>\n",
       "    </tr>\n",
       "    <tr>\n",
       "      <th>10</th>\n",
       "      <td>radius error</td>\n",
       "      <td></td>\n",
       "      <td></td>\n",
       "      <td></td>\n",
       "    </tr>\n",
       "    <tr>\n",
       "      <th>11</th>\n",
       "      <td>texture error</td>\n",
       "      <td></td>\n",
       "      <td></td>\n",
       "      <td></td>\n",
       "    </tr>\n",
       "    <tr>\n",
       "      <th>12</th>\n",
       "      <td>perimeter error</td>\n",
       "      <td></td>\n",
       "      <td></td>\n",
       "      <td></td>\n",
       "    </tr>\n",
       "    <tr>\n",
       "      <th>13</th>\n",
       "      <td>area error</td>\n",
       "      <td></td>\n",
       "      <td></td>\n",
       "      <td></td>\n",
       "    </tr>\n",
       "    <tr>\n",
       "      <th>14</th>\n",
       "      <td>smoothness error</td>\n",
       "      <td></td>\n",
       "      <td></td>\n",
       "      <td></td>\n",
       "    </tr>\n",
       "    <tr>\n",
       "      <th>15</th>\n",
       "      <td>compactness error</td>\n",
       "      <td></td>\n",
       "      <td></td>\n",
       "      <td></td>\n",
       "    </tr>\n",
       "    <tr>\n",
       "      <th>16</th>\n",
       "      <td>concavity error</td>\n",
       "      <td></td>\n",
       "      <td></td>\n",
       "      <td></td>\n",
       "    </tr>\n",
       "    <tr>\n",
       "      <th>17</th>\n",
       "      <td>concave points error</td>\n",
       "      <td></td>\n",
       "      <td></td>\n",
       "      <td></td>\n",
       "    </tr>\n",
       "    <tr>\n",
       "      <th>18</th>\n",
       "      <td>symmetry error</td>\n",
       "      <td></td>\n",
       "      <td></td>\n",
       "      <td></td>\n",
       "    </tr>\n",
       "    <tr>\n",
       "      <th>19</th>\n",
       "      <td>fractal dimension error</td>\n",
       "      <td></td>\n",
       "      <td></td>\n",
       "      <td></td>\n",
       "    </tr>\n",
       "    <tr>\n",
       "      <th>20</th>\n",
       "      <td>worst radius</td>\n",
       "      <td></td>\n",
       "      <td></td>\n",
       "      <td></td>\n",
       "    </tr>\n",
       "    <tr>\n",
       "      <th>21</th>\n",
       "      <td>worst texture</td>\n",
       "      <td></td>\n",
       "      <td></td>\n",
       "      <td></td>\n",
       "    </tr>\n",
       "    <tr>\n",
       "      <th>22</th>\n",
       "      <td>worst perimeter</td>\n",
       "      <td></td>\n",
       "      <td></td>\n",
       "      <td></td>\n",
       "    </tr>\n",
       "    <tr>\n",
       "      <th>23</th>\n",
       "      <td>worst area</td>\n",
       "      <td></td>\n",
       "      <td></td>\n",
       "      <td></td>\n",
       "    </tr>\n",
       "    <tr>\n",
       "      <th>24</th>\n",
       "      <td>worst smoothness</td>\n",
       "      <td></td>\n",
       "      <td></td>\n",
       "      <td></td>\n",
       "    </tr>\n",
       "    <tr>\n",
       "      <th>25</th>\n",
       "      <td>worst compactness</td>\n",
       "      <td></td>\n",
       "      <td></td>\n",
       "      <td></td>\n",
       "    </tr>\n",
       "    <tr>\n",
       "      <th>26</th>\n",
       "      <td>worst concavity</td>\n",
       "      <td></td>\n",
       "      <td></td>\n",
       "      <td></td>\n",
       "    </tr>\n",
       "    <tr>\n",
       "      <th>27</th>\n",
       "      <td>worst concave points</td>\n",
       "      <td></td>\n",
       "      <td></td>\n",
       "      <td></td>\n",
       "    </tr>\n",
       "    <tr>\n",
       "      <th>28</th>\n",
       "      <td>worst symmetry</td>\n",
       "      <td></td>\n",
       "      <td></td>\n",
       "      <td></td>\n",
       "    </tr>\n",
       "    <tr>\n",
       "      <th>29</th>\n",
       "      <td>worst fractal dimension</td>\n",
       "      <td></td>\n",
       "      <td></td>\n",
       "      <td></td>\n",
       "    </tr>\n",
       "  </tbody>\n",
       "</table>"
      ],
      "text/plain": [
       "<IPython.core.display.HTML object>"
      ]
     },
     "metadata": {},
     "output_type": "display_data"
    },
    {
     "name": "stdout",
     "output_type": "stream",
     "text": [
      "\n",
      "\n"
     ]
    },
    {
     "name": "stderr",
     "output_type": "stream",
     "text": [
      "Completed: 100%|██████████| 2/2 [00:00<00:00,  7.87it/s]           \n"
     ]
    },
    {
     "data": {
      "application/vnd.plotly.v1+json": {
       "config": {
        "plotlyServerURL": "https://plot.ly"
       },
       "data": [
        {
         "alignmentgroup": "True",
         "hovertemplate": "Importance=%{x}<br>Feature=%{y}<extra></extra>",
         "legendgroup": "",
         "marker": {
          "color": "rgb(127, 60, 141)",
          "pattern": {
           "shape": ""
          }
         },
         "name": "",
         "offsetgroup": "",
         "orientation": "h",
         "showlegend": false,
         "textposition": "auto",
         "type": "bar",
         "x": [
          -0.0006616345168204308,
          -0.001397315683029987,
          -0.003969807100922584,
          0,
          -0.004677097463974133,
          -0.0025999440872239597,
          -0.0013232690336408615,
          -0.0032514938082115917,
          -0.006028243160303403,
          -0.0006705755238045064,
          -0.0033171135910862294,
          -0.0026088850942080355,
          -0.0013232690336408615,
          0.003550911153313441,
          -0.002646538067281723,
          -0.0013232690336408615,
          -0.0013232690336408615,
          -0.0026366460741250155,
          -0.0006890871861517933,
          0.0028795079675705383,
          0.0015194136227943856,
          -0.0006520638614572305,
          -0.0011832942907914813,
          -0.004052486271848277,
          -0.004640439075961078,
          0.001520128599384929,
          0.0022276421196725793,
          -0.0032144704835170403,
          -0.0019469292395940974,
          -0.00047461592100236374
         ],
         "xaxis": "x",
         "y": [
          "area error",
          "compactness error",
          "concave points error",
          "concavity error",
          "fractal dimension error",
          "mean area",
          "mean compactness",
          "mean concave points",
          "mean concavity",
          "mean fractal dimension",
          "mean perimeter",
          "mean radius",
          "mean smoothness",
          "mean symmetry",
          "mean texture",
          "perimeter error",
          "radius error",
          "smoothness error",
          "symmetry error",
          "texture error",
          "worst area",
          "worst compactness",
          "worst concave points",
          "worst concavity",
          "worst fractal dimension",
          "worst perimeter",
          "worst radius",
          "worst smoothness",
          "worst symmetry",
          "worst texture"
         ],
         "yaxis": "y"
        }
       ],
       "layout": {
        "barmode": "relative",
        "legend": {
         "tracegroupgap": 0
        },
        "template": {
         "data": {
          "bar": [
           {
            "error_x": {
             "color": "#2a3f5f"
            },
            "error_y": {
             "color": "#2a3f5f"
            },
            "marker": {
             "line": {
              "color": "white",
              "width": 0.5
             },
             "pattern": {
              "fillmode": "overlay",
              "size": 10,
              "solidity": 0.2
             }
            },
            "type": "bar"
           }
          ],
          "barpolar": [
           {
            "marker": {
             "line": {
              "color": "white",
              "width": 0.5
             },
             "pattern": {
              "fillmode": "overlay",
              "size": 10,
              "solidity": 0.2
             }
            },
            "type": "barpolar"
           }
          ],
          "carpet": [
           {
            "aaxis": {
             "endlinecolor": "#2a3f5f",
             "gridcolor": "#C8D4E3",
             "linecolor": "#C8D4E3",
             "minorgridcolor": "#C8D4E3",
             "startlinecolor": "#2a3f5f"
            },
            "baxis": {
             "endlinecolor": "#2a3f5f",
             "gridcolor": "#C8D4E3",
             "linecolor": "#C8D4E3",
             "minorgridcolor": "#C8D4E3",
             "startlinecolor": "#2a3f5f"
            },
            "type": "carpet"
           }
          ],
          "choropleth": [
           {
            "colorbar": {
             "outlinewidth": 0,
             "ticks": ""
            },
            "type": "choropleth"
           }
          ],
          "contour": [
           {
            "colorbar": {
             "outlinewidth": 0,
             "ticks": ""
            },
            "colorscale": [
             [
              0,
              "#0d0887"
             ],
             [
              0.1111111111111111,
              "#46039f"
             ],
             [
              0.2222222222222222,
              "#7201a8"
             ],
             [
              0.3333333333333333,
              "#9c179e"
             ],
             [
              0.4444444444444444,
              "#bd3786"
             ],
             [
              0.5555555555555556,
              "#d8576b"
             ],
             [
              0.6666666666666666,
              "#ed7953"
             ],
             [
              0.7777777777777778,
              "#fb9f3a"
             ],
             [
              0.8888888888888888,
              "#fdca26"
             ],
             [
              1,
              "#f0f921"
             ]
            ],
            "type": "contour"
           }
          ],
          "contourcarpet": [
           {
            "colorbar": {
             "outlinewidth": 0,
             "ticks": ""
            },
            "type": "contourcarpet"
           }
          ],
          "heatmap": [
           {
            "colorbar": {
             "outlinewidth": 0,
             "ticks": ""
            },
            "colorscale": [
             [
              0,
              "#0d0887"
             ],
             [
              0.1111111111111111,
              "#46039f"
             ],
             [
              0.2222222222222222,
              "#7201a8"
             ],
             [
              0.3333333333333333,
              "#9c179e"
             ],
             [
              0.4444444444444444,
              "#bd3786"
             ],
             [
              0.5555555555555556,
              "#d8576b"
             ],
             [
              0.6666666666666666,
              "#ed7953"
             ],
             [
              0.7777777777777778,
              "#fb9f3a"
             ],
             [
              0.8888888888888888,
              "#fdca26"
             ],
             [
              1,
              "#f0f921"
             ]
            ],
            "type": "heatmap"
           }
          ],
          "heatmapgl": [
           {
            "colorbar": {
             "outlinewidth": 0,
             "ticks": ""
            },
            "colorscale": [
             [
              0,
              "#0d0887"
             ],
             [
              0.1111111111111111,
              "#46039f"
             ],
             [
              0.2222222222222222,
              "#7201a8"
             ],
             [
              0.3333333333333333,
              "#9c179e"
             ],
             [
              0.4444444444444444,
              "#bd3786"
             ],
             [
              0.5555555555555556,
              "#d8576b"
             ],
             [
              0.6666666666666666,
              "#ed7953"
             ],
             [
              0.7777777777777778,
              "#fb9f3a"
             ],
             [
              0.8888888888888888,
              "#fdca26"
             ],
             [
              1,
              "#f0f921"
             ]
            ],
            "type": "heatmapgl"
           }
          ],
          "histogram": [
           {
            "marker": {
             "pattern": {
              "fillmode": "overlay",
              "size": 10,
              "solidity": 0.2
             }
            },
            "type": "histogram"
           }
          ],
          "histogram2d": [
           {
            "colorbar": {
             "outlinewidth": 0,
             "ticks": ""
            },
            "colorscale": [
             [
              0,
              "#0d0887"
             ],
             [
              0.1111111111111111,
              "#46039f"
             ],
             [
              0.2222222222222222,
              "#7201a8"
             ],
             [
              0.3333333333333333,
              "#9c179e"
             ],
             [
              0.4444444444444444,
              "#bd3786"
             ],
             [
              0.5555555555555556,
              "#d8576b"
             ],
             [
              0.6666666666666666,
              "#ed7953"
             ],
             [
              0.7777777777777778,
              "#fb9f3a"
             ],
             [
              0.8888888888888888,
              "#fdca26"
             ],
             [
              1,
              "#f0f921"
             ]
            ],
            "type": "histogram2d"
           }
          ],
          "histogram2dcontour": [
           {
            "colorbar": {
             "outlinewidth": 0,
             "ticks": ""
            },
            "colorscale": [
             [
              0,
              "#0d0887"
             ],
             [
              0.1111111111111111,
              "#46039f"
             ],
             [
              0.2222222222222222,
              "#7201a8"
             ],
             [
              0.3333333333333333,
              "#9c179e"
             ],
             [
              0.4444444444444444,
              "#bd3786"
             ],
             [
              0.5555555555555556,
              "#d8576b"
             ],
             [
              0.6666666666666666,
              "#ed7953"
             ],
             [
              0.7777777777777778,
              "#fb9f3a"
             ],
             [
              0.8888888888888888,
              "#fdca26"
             ],
             [
              1,
              "#f0f921"
             ]
            ],
            "type": "histogram2dcontour"
           }
          ],
          "mesh3d": [
           {
            "colorbar": {
             "outlinewidth": 0,
             "ticks": ""
            },
            "type": "mesh3d"
           }
          ],
          "parcoords": [
           {
            "line": {
             "colorbar": {
              "outlinewidth": 0,
              "ticks": ""
             }
            },
            "type": "parcoords"
           }
          ],
          "pie": [
           {
            "automargin": true,
            "type": "pie"
           }
          ],
          "scatter": [
           {
            "fillpattern": {
             "fillmode": "overlay",
             "size": 10,
             "solidity": 0.2
            },
            "type": "scatter"
           }
          ],
          "scatter3d": [
           {
            "line": {
             "colorbar": {
              "outlinewidth": 0,
              "ticks": ""
             }
            },
            "marker": {
             "colorbar": {
              "outlinewidth": 0,
              "ticks": ""
             }
            },
            "type": "scatter3d"
           }
          ],
          "scattercarpet": [
           {
            "marker": {
             "colorbar": {
              "outlinewidth": 0,
              "ticks": ""
             }
            },
            "type": "scattercarpet"
           }
          ],
          "scattergeo": [
           {
            "marker": {
             "colorbar": {
              "outlinewidth": 0,
              "ticks": ""
             }
            },
            "type": "scattergeo"
           }
          ],
          "scattergl": [
           {
            "marker": {
             "colorbar": {
              "outlinewidth": 0,
              "ticks": ""
             }
            },
            "type": "scattergl"
           }
          ],
          "scattermapbox": [
           {
            "marker": {
             "colorbar": {
              "outlinewidth": 0,
              "ticks": ""
             }
            },
            "type": "scattermapbox"
           }
          ],
          "scatterpolar": [
           {
            "marker": {
             "colorbar": {
              "outlinewidth": 0,
              "ticks": ""
             }
            },
            "type": "scatterpolar"
           }
          ],
          "scatterpolargl": [
           {
            "marker": {
             "colorbar": {
              "outlinewidth": 0,
              "ticks": ""
             }
            },
            "type": "scatterpolargl"
           }
          ],
          "scatterternary": [
           {
            "marker": {
             "colorbar": {
              "outlinewidth": 0,
              "ticks": ""
             }
            },
            "type": "scatterternary"
           }
          ],
          "surface": [
           {
            "colorbar": {
             "outlinewidth": 0,
             "ticks": ""
            },
            "colorscale": [
             [
              0,
              "#0d0887"
             ],
             [
              0.1111111111111111,
              "#46039f"
             ],
             [
              0.2222222222222222,
              "#7201a8"
             ],
             [
              0.3333333333333333,
              "#9c179e"
             ],
             [
              0.4444444444444444,
              "#bd3786"
             ],
             [
              0.5555555555555556,
              "#d8576b"
             ],
             [
              0.6666666666666666,
              "#ed7953"
             ],
             [
              0.7777777777777778,
              "#fb9f3a"
             ],
             [
              0.8888888888888888,
              "#fdca26"
             ],
             [
              1,
              "#f0f921"
             ]
            ],
            "type": "surface"
           }
          ],
          "table": [
           {
            "cells": {
             "fill": {
              "color": "#EBF0F8"
             },
             "line": {
              "color": "white"
             }
            },
            "header": {
             "fill": {
              "color": "#C8D4E3"
             },
             "line": {
              "color": "white"
             }
            },
            "type": "table"
           }
          ]
         },
         "layout": {
          "annotationdefaults": {
           "arrowcolor": "#2a3f5f",
           "arrowhead": 0,
           "arrowwidth": 1
          },
          "autotypenumbers": "strict",
          "coloraxis": {
           "colorbar": {
            "outlinewidth": 0,
            "ticks": ""
           }
          },
          "colorscale": {
           "diverging": [
            [
             0,
             "#8e0152"
            ],
            [
             0.1,
             "#c51b7d"
            ],
            [
             0.2,
             "#de77ae"
            ],
            [
             0.3,
             "#f1b6da"
            ],
            [
             0.4,
             "#fde0ef"
            ],
            [
             0.5,
             "#f7f7f7"
            ],
            [
             0.6,
             "#e6f5d0"
            ],
            [
             0.7,
             "#b8e186"
            ],
            [
             0.8,
             "#7fbc41"
            ],
            [
             0.9,
             "#4d9221"
            ],
            [
             1,
             "#276419"
            ]
           ],
           "sequential": [
            [
             0,
             "#0d0887"
            ],
            [
             0.1111111111111111,
             "#46039f"
            ],
            [
             0.2222222222222222,
             "#7201a8"
            ],
            [
             0.3333333333333333,
             "#9c179e"
            ],
            [
             0.4444444444444444,
             "#bd3786"
            ],
            [
             0.5555555555555556,
             "#d8576b"
            ],
            [
             0.6666666666666666,
             "#ed7953"
            ],
            [
             0.7777777777777778,
             "#fb9f3a"
            ],
            [
             0.8888888888888888,
             "#fdca26"
            ],
            [
             1,
             "#f0f921"
            ]
           ],
           "sequentialminus": [
            [
             0,
             "#0d0887"
            ],
            [
             0.1111111111111111,
             "#46039f"
            ],
            [
             0.2222222222222222,
             "#7201a8"
            ],
            [
             0.3333333333333333,
             "#9c179e"
            ],
            [
             0.4444444444444444,
             "#bd3786"
            ],
            [
             0.5555555555555556,
             "#d8576b"
            ],
            [
             0.6666666666666666,
             "#ed7953"
            ],
            [
             0.7777777777777778,
             "#fb9f3a"
            ],
            [
             0.8888888888888888,
             "#fdca26"
            ],
            [
             1,
             "#f0f921"
            ]
           ]
          },
          "colorway": [
           "#636efa",
           "#EF553B",
           "#00cc96",
           "#ab63fa",
           "#FFA15A",
           "#19d3f3",
           "#FF6692",
           "#B6E880",
           "#FF97FF",
           "#FECB52"
          ],
          "font": {
           "color": "#8C8C8C"
          },
          "geo": {
           "bgcolor": "white",
           "lakecolor": "white",
           "landcolor": "white",
           "showlakes": true,
           "showland": true,
           "subunitcolor": "#C8D4E3"
          },
          "hoverlabel": {
           "align": "left"
          },
          "hovermode": "closest",
          "legend": {
           "orientation": "h",
           "x": 0,
           "xanchor": "left",
           "y": -0.2,
           "yanchor": "top"
          },
          "mapbox": {
           "style": "light"
          },
          "margin": {
           "l": 20,
           "r": 20
          },
          "paper_bgcolor": "white",
          "plot_bgcolor": "white",
          "polar": {
           "angularaxis": {
            "gridcolor": "#EBF0F8",
            "linecolor": "#EBF0F8",
            "ticks": ""
           },
           "bgcolor": "white",
           "radialaxis": {
            "gridcolor": "#EBF0F8",
            "linecolor": "#EBF0F8",
            "ticks": ""
           }
          },
          "scene": {
           "xaxis": {
            "backgroundcolor": "white",
            "gridcolor": "#DFE8F3",
            "gridwidth": 2,
            "linecolor": "#EBF0F8",
            "showbackground": true,
            "ticks": "",
            "zerolinecolor": "#EBF0F8"
           },
           "yaxis": {
            "backgroundcolor": "white",
            "gridcolor": "#DFE8F3",
            "gridwidth": 2,
            "linecolor": "#EBF0F8",
            "showbackground": true,
            "ticks": "",
            "zerolinecolor": "#EBF0F8"
           },
           "zaxis": {
            "backgroundcolor": "white",
            "gridcolor": "#DFE8F3",
            "gridwidth": 2,
            "linecolor": "#EBF0F8",
            "showbackground": true,
            "ticks": "",
            "zerolinecolor": "#EBF0F8"
           }
          },
          "shapedefaults": {
           "line": {
            "color": "#2a3f5f"
           }
          },
          "ternary": {
           "aaxis": {
            "gridcolor": "#DFE8F3",
            "linecolor": "#A2B1C6",
            "ticks": ""
           },
           "baxis": {
            "gridcolor": "#DFE8F3",
            "linecolor": "#A2B1C6",
            "ticks": ""
           },
           "bgcolor": "white",
           "caxis": {
            "gridcolor": "#DFE8F3",
            "linecolor": "#A2B1C6",
            "ticks": ""
           }
          },
          "title": {
           "x": 0.05
          },
          "xaxis": {
           "automargin": true,
           "gridcolor": "#EBF0F8",
           "linecolor": "#EBF0F8",
           "ticks": "",
           "title": {
            "standoff": 15
           },
           "zerolinecolor": "#EBF0F8",
           "zerolinewidth": 2
          },
          "yaxis": {
           "automargin": true,
           "gridcolor": "#EBF0F8",
           "linecolor": "#EBF0F8",
           "ticks": "",
           "title": {
            "standoff": 15
           },
           "zerolinecolor": "#EBF0F8",
           "zerolinewidth": 2
          }
         }
        },
        "title": {
         "text": "Permutation importances (KNeighborsClassifier, f1, 10 repeats)"
        },
        "xaxis": {
         "anchor": "y",
         "domain": [
          0,
          1
         ],
         "title": {
          "text": "Importance"
         }
        },
        "yaxis": {
         "anchor": "x",
         "categoryorder": "total ascending",
         "domain": [
          0,
          1
         ],
         "title": {
          "text": "Feature"
         }
        }
       }
      }
     },
     "metadata": {},
     "output_type": "display_data"
    }
   ],
   "source": [
    "from sklearn.datasets import load_breast_cancer\n",
    "from sklearn.neighbors import KNeighborsClassifier\n",
    "from poniard import PoniardClassifier\n",
    "\n",
    "X, y = load_breast_cancer(return_X_y=True, as_frame=True)\n",
    "clf = PoniardClassifier(estimators=[KNeighborsClassifier()], metrics=\"f1\").setup(X, y)\n",
    "clf.fit()\n",
    "clf.plot.permutation_importance(\"KNeighborsClassifier\")"
   ]
  },
  {
   "cell_type": "markdown",
   "metadata": {},
   "source": [
    "`plot.partial_dependence()` shows the average feature partial dependence for a given feature."
   ]
  },
  {
   "cell_type": "code",
   "execution_count": 11,
   "metadata": {},
   "outputs": [
    {
     "data": {
      "application/vnd.plotly.v1+json": {
       "config": {
        "plotlyServerURL": "https://plot.ly"
       },
       "data": [
        {
         "hovertemplate": "Class=1<br>Feature: worst texture=%{x}<br>Target=%{y}<extra></extra>",
         "legendgroup": "1",
         "line": {
          "color": "rgb(127, 60, 141)",
          "dash": "solid"
         },
         "marker": {
          "symbol": "circle"
         },
         "mode": "lines",
         "name": "1",
         "orientation": "v",
         "showlegend": true,
         "type": "scatter",
         "x": [
          16.5044,
          16.704571717171717,
          16.904743434343434,
          17.10491515151515,
          17.305086868686868,
          17.505258585858584,
          17.705430303030305,
          17.90560202020202,
          18.105773737373738,
          18.305945454545455,
          18.50611717171717,
          18.70628888888889,
          18.906460606060605,
          19.106632323232322,
          19.30680404040404,
          19.50697575757576,
          19.707147474747476,
          19.907319191919193,
          20.10749090909091,
          20.307662626262626,
          20.507834343434343,
          20.70800606060606,
          20.908177777777777,
          21.108349494949493,
          21.308521212121214,
          21.508692929292927,
          21.708864646464647,
          21.909036363636364,
          22.10920808080808,
          22.309379797979798,
          22.509551515151514,
          22.70972323232323,
          22.909894949494948,
          23.110066666666665,
          23.31023838383838,
          23.510410101010102,
          23.71058181818182,
          23.910753535353535,
          24.110925252525252,
          24.31109696969697,
          24.511268686868686,
          24.711440404040403,
          24.911612121212123,
          25.111783838383836,
          25.311955555555556,
          25.51212727272727,
          25.71229898989899,
          25.912470707070707,
          26.112642424242424,
          26.31281414141414,
          26.512985858585857,
          26.713157575757574,
          26.91332929292929,
          27.11350101010101,
          27.313672727272724,
          27.513844444444445,
          27.714016161616158,
          27.914187878787878,
          28.114359595959595,
          28.31453131313131,
          28.51470303030303,
          28.714874747474745,
          28.915046464646466,
          29.11521818181818,
          29.3153898989899,
          29.515561616161612,
          29.715733333333333,
          29.91590505050505,
          30.116076767676766,
          30.316248484848483,
          30.5164202020202,
          30.716591919191917,
          30.916763636363633,
          31.116935353535354,
          31.317107070707067,
          31.517278787878787,
          31.7174505050505,
          31.91762222222222,
          32.117793939393934,
          32.317965656565654,
          32.518137373737375,
          32.71830909090909,
          32.9184808080808,
          33.11865252525252,
          33.31882424242424,
          33.518995959595955,
          33.719167676767675,
          33.919339393939396,
          34.11951111111111,
          34.31968282828282,
          34.51985454545454,
          34.72002626262626,
          34.920197979797976,
          35.12036969696969,
          35.32054141414142,
          35.52071313131313,
          35.72088484848484,
          35.92105656565656,
          36.121228282828284,
          36.3214
         ],
         "xaxis": "x",
         "y": [
          0.6681898066783832,
          0.6685413005272409,
          0.6678383128295258,
          0.6660808435852376,
          0.6660808435852376,
          0.66572934973638,
          0.6653778558875223,
          0.6636203866432341,
          0.6632688927943765,
          0.6632688927943765,
          0.6622144112478034,
          0.6618629173989459,
          0.6611599297012305,
          0.6597539543057999,
          0.6583479789103694,
          0.6583479789103694,
          0.6579964850615116,
          0.6569420035149387,
          0.6555360281195081,
          0.6551845342706506,
          0.6541300527240775,
          0.65377855887522,
          0.6534270650263623,
          0.6530755711775046,
          0.6523725834797893,
          0.6523725834797893,
          0.6520210896309317,
          0.6513181019332164,
          0.6506151142355011,
          0.649912126537786,
          0.6495606326889283,
          0.6488576449912128,
          0.6471001757469247,
          0.6471001757469247,
          0.646748681898067,
          0.6456942003514942,
          0.6446397188049212,
          0.6449912126537789,
          0.6442882249560636,
          0.643936731107206,
          0.6425307557117755,
          0.6421792618629177,
          0.6411247803163448,
          0.640070298769772,
          0.6397188049209142,
          0.6397188049209142,
          0.6390158172231989,
          0.6386643233743412,
          0.6386643233743412,
          0.6383128295254837,
          0.6376098418277685,
          0.6369068541300531,
          0.6365553602811954,
          0.6365553602811954,
          0.6362038664323377,
          0.6351493848857649,
          0.6347978910369072,
          0.6330404217926189,
          0.6326889279437613,
          0.6316344463971884,
          0.6298769771529001,
          0.6291739894551849,
          0.6277680140597545,
          0.6260105448154663,
          0.6249560632688933,
          0.6239015817223205,
          0.6224956063268899,
          0.6200351493848864,
          0.6189806678383135,
          0.6182776801405983,
          0.6175746924428829,
          0.6161687170474524,
          0.615465729349737,
          0.6147627416520217,
          0.6151142355008793,
          0.6130052724077336,
          0.6123022847100182,
          0.6112478031634454,
          0.6108963093145876,
          0.6108963093145876,
          0.6101933216168723,
          0.6077328646748688,
          0.6066783831282959,
          0.6042179261862926,
          0.6028119507908619,
          0.6007029876977162,
          0.5992970123022856,
          0.5971880492091398,
          0.5961335676625669,
          0.5954305799648515,
          0.5954305799648516,
          0.5940246045694211,
          0.5922671353251328,
          0.5908611599297021,
          0.590158172231987,
          0.5898066783831293,
          0.5884007029876986,
          0.5876977152899834,
          0.5873462214411257,
          0.5855887521968375
         ],
         "yaxis": "y"
        }
       ],
       "layout": {
        "legend": {
         "title": {
          "text": "Class"
         },
         "tracegroupgap": 0
        },
        "template": {
         "data": {
          "bar": [
           {
            "error_x": {
             "color": "#2a3f5f"
            },
            "error_y": {
             "color": "#2a3f5f"
            },
            "marker": {
             "line": {
              "color": "white",
              "width": 0.5
             },
             "pattern": {
              "fillmode": "overlay",
              "size": 10,
              "solidity": 0.2
             }
            },
            "type": "bar"
           }
          ],
          "barpolar": [
           {
            "marker": {
             "line": {
              "color": "white",
              "width": 0.5
             },
             "pattern": {
              "fillmode": "overlay",
              "size": 10,
              "solidity": 0.2
             }
            },
            "type": "barpolar"
           }
          ],
          "carpet": [
           {
            "aaxis": {
             "endlinecolor": "#2a3f5f",
             "gridcolor": "#C8D4E3",
             "linecolor": "#C8D4E3",
             "minorgridcolor": "#C8D4E3",
             "startlinecolor": "#2a3f5f"
            },
            "baxis": {
             "endlinecolor": "#2a3f5f",
             "gridcolor": "#C8D4E3",
             "linecolor": "#C8D4E3",
             "minorgridcolor": "#C8D4E3",
             "startlinecolor": "#2a3f5f"
            },
            "type": "carpet"
           }
          ],
          "choropleth": [
           {
            "colorbar": {
             "outlinewidth": 0,
             "ticks": ""
            },
            "type": "choropleth"
           }
          ],
          "contour": [
           {
            "colorbar": {
             "outlinewidth": 0,
             "ticks": ""
            },
            "colorscale": [
             [
              0,
              "#0d0887"
             ],
             [
              0.1111111111111111,
              "#46039f"
             ],
             [
              0.2222222222222222,
              "#7201a8"
             ],
             [
              0.3333333333333333,
              "#9c179e"
             ],
             [
              0.4444444444444444,
              "#bd3786"
             ],
             [
              0.5555555555555556,
              "#d8576b"
             ],
             [
              0.6666666666666666,
              "#ed7953"
             ],
             [
              0.7777777777777778,
              "#fb9f3a"
             ],
             [
              0.8888888888888888,
              "#fdca26"
             ],
             [
              1,
              "#f0f921"
             ]
            ],
            "type": "contour"
           }
          ],
          "contourcarpet": [
           {
            "colorbar": {
             "outlinewidth": 0,
             "ticks": ""
            },
            "type": "contourcarpet"
           }
          ],
          "heatmap": [
           {
            "colorbar": {
             "outlinewidth": 0,
             "ticks": ""
            },
            "colorscale": [
             [
              0,
              "#0d0887"
             ],
             [
              0.1111111111111111,
              "#46039f"
             ],
             [
              0.2222222222222222,
              "#7201a8"
             ],
             [
              0.3333333333333333,
              "#9c179e"
             ],
             [
              0.4444444444444444,
              "#bd3786"
             ],
             [
              0.5555555555555556,
              "#d8576b"
             ],
             [
              0.6666666666666666,
              "#ed7953"
             ],
             [
              0.7777777777777778,
              "#fb9f3a"
             ],
             [
              0.8888888888888888,
              "#fdca26"
             ],
             [
              1,
              "#f0f921"
             ]
            ],
            "type": "heatmap"
           }
          ],
          "heatmapgl": [
           {
            "colorbar": {
             "outlinewidth": 0,
             "ticks": ""
            },
            "colorscale": [
             [
              0,
              "#0d0887"
             ],
             [
              0.1111111111111111,
              "#46039f"
             ],
             [
              0.2222222222222222,
              "#7201a8"
             ],
             [
              0.3333333333333333,
              "#9c179e"
             ],
             [
              0.4444444444444444,
              "#bd3786"
             ],
             [
              0.5555555555555556,
              "#d8576b"
             ],
             [
              0.6666666666666666,
              "#ed7953"
             ],
             [
              0.7777777777777778,
              "#fb9f3a"
             ],
             [
              0.8888888888888888,
              "#fdca26"
             ],
             [
              1,
              "#f0f921"
             ]
            ],
            "type": "heatmapgl"
           }
          ],
          "histogram": [
           {
            "marker": {
             "pattern": {
              "fillmode": "overlay",
              "size": 10,
              "solidity": 0.2
             }
            },
            "type": "histogram"
           }
          ],
          "histogram2d": [
           {
            "colorbar": {
             "outlinewidth": 0,
             "ticks": ""
            },
            "colorscale": [
             [
              0,
              "#0d0887"
             ],
             [
              0.1111111111111111,
              "#46039f"
             ],
             [
              0.2222222222222222,
              "#7201a8"
             ],
             [
              0.3333333333333333,
              "#9c179e"
             ],
             [
              0.4444444444444444,
              "#bd3786"
             ],
             [
              0.5555555555555556,
              "#d8576b"
             ],
             [
              0.6666666666666666,
              "#ed7953"
             ],
             [
              0.7777777777777778,
              "#fb9f3a"
             ],
             [
              0.8888888888888888,
              "#fdca26"
             ],
             [
              1,
              "#f0f921"
             ]
            ],
            "type": "histogram2d"
           }
          ],
          "histogram2dcontour": [
           {
            "colorbar": {
             "outlinewidth": 0,
             "ticks": ""
            },
            "colorscale": [
             [
              0,
              "#0d0887"
             ],
             [
              0.1111111111111111,
              "#46039f"
             ],
             [
              0.2222222222222222,
              "#7201a8"
             ],
             [
              0.3333333333333333,
              "#9c179e"
             ],
             [
              0.4444444444444444,
              "#bd3786"
             ],
             [
              0.5555555555555556,
              "#d8576b"
             ],
             [
              0.6666666666666666,
              "#ed7953"
             ],
             [
              0.7777777777777778,
              "#fb9f3a"
             ],
             [
              0.8888888888888888,
              "#fdca26"
             ],
             [
              1,
              "#f0f921"
             ]
            ],
            "type": "histogram2dcontour"
           }
          ],
          "mesh3d": [
           {
            "colorbar": {
             "outlinewidth": 0,
             "ticks": ""
            },
            "type": "mesh3d"
           }
          ],
          "parcoords": [
           {
            "line": {
             "colorbar": {
              "outlinewidth": 0,
              "ticks": ""
             }
            },
            "type": "parcoords"
           }
          ],
          "pie": [
           {
            "automargin": true,
            "type": "pie"
           }
          ],
          "scatter": [
           {
            "fillpattern": {
             "fillmode": "overlay",
             "size": 10,
             "solidity": 0.2
            },
            "type": "scatter"
           }
          ],
          "scatter3d": [
           {
            "line": {
             "colorbar": {
              "outlinewidth": 0,
              "ticks": ""
             }
            },
            "marker": {
             "colorbar": {
              "outlinewidth": 0,
              "ticks": ""
             }
            },
            "type": "scatter3d"
           }
          ],
          "scattercarpet": [
           {
            "marker": {
             "colorbar": {
              "outlinewidth": 0,
              "ticks": ""
             }
            },
            "type": "scattercarpet"
           }
          ],
          "scattergeo": [
           {
            "marker": {
             "colorbar": {
              "outlinewidth": 0,
              "ticks": ""
             }
            },
            "type": "scattergeo"
           }
          ],
          "scattergl": [
           {
            "marker": {
             "colorbar": {
              "outlinewidth": 0,
              "ticks": ""
             }
            },
            "type": "scattergl"
           }
          ],
          "scattermapbox": [
           {
            "marker": {
             "colorbar": {
              "outlinewidth": 0,
              "ticks": ""
             }
            },
            "type": "scattermapbox"
           }
          ],
          "scatterpolar": [
           {
            "marker": {
             "colorbar": {
              "outlinewidth": 0,
              "ticks": ""
             }
            },
            "type": "scatterpolar"
           }
          ],
          "scatterpolargl": [
           {
            "marker": {
             "colorbar": {
              "outlinewidth": 0,
              "ticks": ""
             }
            },
            "type": "scatterpolargl"
           }
          ],
          "scatterternary": [
           {
            "marker": {
             "colorbar": {
              "outlinewidth": 0,
              "ticks": ""
             }
            },
            "type": "scatterternary"
           }
          ],
          "surface": [
           {
            "colorbar": {
             "outlinewidth": 0,
             "ticks": ""
            },
            "colorscale": [
             [
              0,
              "#0d0887"
             ],
             [
              0.1111111111111111,
              "#46039f"
             ],
             [
              0.2222222222222222,
              "#7201a8"
             ],
             [
              0.3333333333333333,
              "#9c179e"
             ],
             [
              0.4444444444444444,
              "#bd3786"
             ],
             [
              0.5555555555555556,
              "#d8576b"
             ],
             [
              0.6666666666666666,
              "#ed7953"
             ],
             [
              0.7777777777777778,
              "#fb9f3a"
             ],
             [
              0.8888888888888888,
              "#fdca26"
             ],
             [
              1,
              "#f0f921"
             ]
            ],
            "type": "surface"
           }
          ],
          "table": [
           {
            "cells": {
             "fill": {
              "color": "#EBF0F8"
             },
             "line": {
              "color": "white"
             }
            },
            "header": {
             "fill": {
              "color": "#C8D4E3"
             },
             "line": {
              "color": "white"
             }
            },
            "type": "table"
           }
          ]
         },
         "layout": {
          "annotationdefaults": {
           "arrowcolor": "#2a3f5f",
           "arrowhead": 0,
           "arrowwidth": 1
          },
          "autotypenumbers": "strict",
          "coloraxis": {
           "colorbar": {
            "outlinewidth": 0,
            "ticks": ""
           }
          },
          "colorscale": {
           "diverging": [
            [
             0,
             "#8e0152"
            ],
            [
             0.1,
             "#c51b7d"
            ],
            [
             0.2,
             "#de77ae"
            ],
            [
             0.3,
             "#f1b6da"
            ],
            [
             0.4,
             "#fde0ef"
            ],
            [
             0.5,
             "#f7f7f7"
            ],
            [
             0.6,
             "#e6f5d0"
            ],
            [
             0.7,
             "#b8e186"
            ],
            [
             0.8,
             "#7fbc41"
            ],
            [
             0.9,
             "#4d9221"
            ],
            [
             1,
             "#276419"
            ]
           ],
           "sequential": [
            [
             0,
             "#0d0887"
            ],
            [
             0.1111111111111111,
             "#46039f"
            ],
            [
             0.2222222222222222,
             "#7201a8"
            ],
            [
             0.3333333333333333,
             "#9c179e"
            ],
            [
             0.4444444444444444,
             "#bd3786"
            ],
            [
             0.5555555555555556,
             "#d8576b"
            ],
            [
             0.6666666666666666,
             "#ed7953"
            ],
            [
             0.7777777777777778,
             "#fb9f3a"
            ],
            [
             0.8888888888888888,
             "#fdca26"
            ],
            [
             1,
             "#f0f921"
            ]
           ],
           "sequentialminus": [
            [
             0,
             "#0d0887"
            ],
            [
             0.1111111111111111,
             "#46039f"
            ],
            [
             0.2222222222222222,
             "#7201a8"
            ],
            [
             0.3333333333333333,
             "#9c179e"
            ],
            [
             0.4444444444444444,
             "#bd3786"
            ],
            [
             0.5555555555555556,
             "#d8576b"
            ],
            [
             0.6666666666666666,
             "#ed7953"
            ],
            [
             0.7777777777777778,
             "#fb9f3a"
            ],
            [
             0.8888888888888888,
             "#fdca26"
            ],
            [
             1,
             "#f0f921"
            ]
           ]
          },
          "colorway": [
           "#636efa",
           "#EF553B",
           "#00cc96",
           "#ab63fa",
           "#FFA15A",
           "#19d3f3",
           "#FF6692",
           "#B6E880",
           "#FF97FF",
           "#FECB52"
          ],
          "font": {
           "color": "#8C8C8C"
          },
          "geo": {
           "bgcolor": "white",
           "lakecolor": "white",
           "landcolor": "white",
           "showlakes": true,
           "showland": true,
           "subunitcolor": "#C8D4E3"
          },
          "hoverlabel": {
           "align": "left"
          },
          "hovermode": "closest",
          "legend": {
           "orientation": "h",
           "x": 0,
           "xanchor": "left",
           "y": -0.2,
           "yanchor": "top"
          },
          "mapbox": {
           "style": "light"
          },
          "margin": {
           "l": 20,
           "r": 20
          },
          "paper_bgcolor": "white",
          "plot_bgcolor": "white",
          "polar": {
           "angularaxis": {
            "gridcolor": "#EBF0F8",
            "linecolor": "#EBF0F8",
            "ticks": ""
           },
           "bgcolor": "white",
           "radialaxis": {
            "gridcolor": "#EBF0F8",
            "linecolor": "#EBF0F8",
            "ticks": ""
           }
          },
          "scene": {
           "xaxis": {
            "backgroundcolor": "white",
            "gridcolor": "#DFE8F3",
            "gridwidth": 2,
            "linecolor": "#EBF0F8",
            "showbackground": true,
            "ticks": "",
            "zerolinecolor": "#EBF0F8"
           },
           "yaxis": {
            "backgroundcolor": "white",
            "gridcolor": "#DFE8F3",
            "gridwidth": 2,
            "linecolor": "#EBF0F8",
            "showbackground": true,
            "ticks": "",
            "zerolinecolor": "#EBF0F8"
           },
           "zaxis": {
            "backgroundcolor": "white",
            "gridcolor": "#DFE8F3",
            "gridwidth": 2,
            "linecolor": "#EBF0F8",
            "showbackground": true,
            "ticks": "",
            "zerolinecolor": "#EBF0F8"
           }
          },
          "shapedefaults": {
           "line": {
            "color": "#2a3f5f"
           }
          },
          "ternary": {
           "aaxis": {
            "gridcolor": "#DFE8F3",
            "linecolor": "#A2B1C6",
            "ticks": ""
           },
           "baxis": {
            "gridcolor": "#DFE8F3",
            "linecolor": "#A2B1C6",
            "ticks": ""
           },
           "bgcolor": "white",
           "caxis": {
            "gridcolor": "#DFE8F3",
            "linecolor": "#A2B1C6",
            "ticks": ""
           }
          },
          "title": {
           "x": 0.05
          },
          "xaxis": {
           "automargin": true,
           "gridcolor": "#EBF0F8",
           "linecolor": "#EBF0F8",
           "ticks": "",
           "title": {
            "standoff": 15
           },
           "zerolinecolor": "#EBF0F8",
           "zerolinewidth": 2
          },
          "yaxis": {
           "automargin": true,
           "gridcolor": "#EBF0F8",
           "linecolor": "#EBF0F8",
           "ticks": "",
           "title": {
            "standoff": 15
           },
           "zerolinecolor": "#EBF0F8",
           "zerolinewidth": 2
          }
         }
        },
        "title": {
         "text": "Average partial dependence between feature 'worst texture' and target"
        },
        "xaxis": {
         "anchor": "y",
         "domain": [
          0,
          1
         ],
         "title": {
          "text": "Feature: worst texture"
         }
        },
        "yaxis": {
         "anchor": "x",
         "domain": [
          0,
          1
         ],
         "title": {
          "text": "Target"
         }
        }
       }
      }
     },
     "metadata": {},
     "output_type": "display_data"
    }
   ],
   "source": [
    "clf.plot.partial_dependence(\n",
    "    estimator_name=\"KNeighborsClassifier\", feature=\"worst texture\"\n",
    ")"
   ]
  },
  {
   "cell_type": "code",
   "execution_count": null,
   "metadata": {},
   "outputs": [],
   "source": []
  }
 ],
 "metadata": {
  "kernelspec": {
   "display_name": "Python 3.8.13 ('poniard')",
   "language": "python",
   "name": "python3"
  },
  "language_info": {
   "codemirror_mode": {
    "name": "ipython",
    "version": 3
   },
   "file_extension": ".py",
   "mimetype": "text/x-python",
   "name": "python",
   "nbconvert_exporter": "python",
   "pygments_lexer": "ipython3",
   "version": "3.8.13"
  },
  "orig_nbformat": 4,
  "vscode": {
   "interpreter": {
    "hash": "5b19e164f6cca60308283f53d0662deec50021588bbf431f94f1d943a2c89195"
   }
  }
 },
 "nbformat": 4,
 "nbformat_minor": 2
}
